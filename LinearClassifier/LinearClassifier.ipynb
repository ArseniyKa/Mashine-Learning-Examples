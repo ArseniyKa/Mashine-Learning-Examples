{
 "cells": [
  {
   "cell_type": "markdown",
   "metadata": {},
   "source": [
    "В этом задании мы реализуем другую модель машинного обучения - линейный классификатор. Линейный классификатор подбирает для каждого класса веса, на которые нужно умножить значение каждого признака и потом сложить вместе. Тот класс, у которого эта сумма больше, и является предсказанием модели.\n",
    "Задание 1.2 - Линейный классификатор (Linear classifier)\n",
    "\n",
    "В этом задании вы:\n",
    "\n",
    "потренируетесь считать градиенты различных многомерных функций\n",
    "реализуете подсчет градиентов через линейную модель и функцию потерь softmax\n",
    "реализуете процесс тренировки линейного классификатора\n",
    "подберете параметры тренировки на практике\n",
    "На всякий случай, еще раз ссылка на туториал по numpy:\n",
    "http://cs231n.github.io/python-numpy-tutorial/"
   ]
  },
  {
   "cell_type": "code",
   "execution_count": 1,
   "metadata": {},
   "outputs": [
    {
     "ename": "ModuleNotFoundError",
     "evalue": "No module named 'dataset'",
     "output_type": "error",
     "traceback": [
      "\u001b[0;31m---------------------------------------------------------------------------\u001b[0m",
      "\u001b[0;31mModuleNotFoundError\u001b[0m                       Traceback (most recent call last)",
      "\u001b[0;32m/tmp/ipykernel_11159/4124084036.py\u001b[0m in \u001b[0;36m<module>\u001b[0;34m\u001b[0m\n\u001b[1;32m      7\u001b[0m \u001b[0mget_ipython\u001b[0m\u001b[0;34m(\u001b[0m\u001b[0;34m)\u001b[0m\u001b[0;34m.\u001b[0m\u001b[0mrun_line_magic\u001b[0m\u001b[0;34m(\u001b[0m\u001b[0;34m'autoreload'\u001b[0m\u001b[0;34m,\u001b[0m \u001b[0;34m'2'\u001b[0m\u001b[0;34m)\u001b[0m\u001b[0;34m\u001b[0m\u001b[0;34m\u001b[0m\u001b[0m\n\u001b[1;32m      8\u001b[0m \u001b[0;34m\u001b[0m\u001b[0m\n\u001b[0;32m----> 9\u001b[0;31m \u001b[0;32mfrom\u001b[0m \u001b[0mdataset\u001b[0m \u001b[0;32mimport\u001b[0m \u001b[0mload_svhn\u001b[0m\u001b[0;34m,\u001b[0m \u001b[0mrandom_split_train_val\u001b[0m\u001b[0;34m\u001b[0m\u001b[0;34m\u001b[0m\u001b[0m\n\u001b[0m\u001b[1;32m     10\u001b[0m \u001b[0;32mfrom\u001b[0m \u001b[0mgradient_check\u001b[0m \u001b[0;32mimport\u001b[0m \u001b[0mcheck_gradient\u001b[0m\u001b[0;34m\u001b[0m\u001b[0;34m\u001b[0m\u001b[0m\n\u001b[1;32m     11\u001b[0m \u001b[0;32mfrom\u001b[0m \u001b[0mmetrics\u001b[0m \u001b[0;32mimport\u001b[0m \u001b[0mmulticlass_accuracy\u001b[0m\u001b[0;34m\u001b[0m\u001b[0;34m\u001b[0m\u001b[0m\n",
      "\u001b[0;31mModuleNotFoundError\u001b[0m: No module named 'dataset'"
     ]
    }
   ],
   "source": [
    "import numpy as np\n",
    "import matplotlib.pyplot as plt\n",
    "\n",
    "%matplotlib inline\n",
    "\n",
    "%load_ext autoreload\n",
    "%autoreload 2\n",
    "\n",
    "from dataset import load_svhn, random_split_train_val\n",
    "from gradient_check import check_gradient\n",
    "from metrics import multiclass_accuracy \n",
    "import linear_classifer"
   ]
  },
  {
   "cell_type": "code",
   "execution_count": 2,
   "metadata": {},
   "outputs": [
    {
     "name": "stdout",
     "output_type": "stream",
     "text": [
      "old shape  (10000, 32, 32, 3)\n",
      "train_X shape  (9000, 3073)\n"
     ]
    }
   ],
   "source": [
    "def prepare_for_linear_classifier(train_X, test_X):\n",
    "    train_flat = train_X.reshape(train_X.shape[0], -1).astype(float) / 255.0\n",
    "    test_flat = test_X.reshape(test_X.shape[0], -1).astype(float) / 255.0\n",
    "    \n",
    "    # Subtract mean\n",
    "    mean_image = np.mean(train_flat, axis = 0)\n",
    "    train_flat -= mean_image\n",
    "    test_flat -= mean_image\n",
    "    \n",
    "    # Add another channel with ones as a bias term\n",
    "    train_flat_with_ones = np.hstack([train_flat, np.ones((train_X.shape[0], 1))])\n",
    "    test_flat_with_ones = np.hstack([test_flat, np.ones((test_X.shape[0], 1))])    \n",
    "    return train_flat_with_ones, test_flat_with_ones\n",
    "    \n",
    "train_X, train_y, test_X, test_y = load_svhn(\"data\", max_train=10000, max_test=1000)    \n",
    "old_shape = train_X.shape\n",
    "print(\"old shape \", old_shape)\n",
    "old_test_X = test_X.copy()\n",
    "train_X, test_X = prepare_for_linear_classifier(train_X, test_X)\n",
    "# Split train into train and val\n",
    "train_X, train_y, val_X, val_y = random_split_train_val(train_X, train_y, num_val = 1000)\n",
    "print(\"train_X shape \", train_X.shape)"
   ]
  },
  {
   "cell_type": "code",
   "execution_count": 3,
   "metadata": {},
   "outputs": [
    {
     "name": "stdout",
     "output_type": "stream",
     "text": [
      "CHECK GRADIENT\n",
      "predictions is \n",
      " [3.]\n",
      "analytic grad is \n",
      " [6.]\n",
      "numeric grad array is \n",
      " [6.]\n",
      "==========================================\n",
      "Gradient check passed!\n",
      "CHECK GRADIENT\n",
      "predictions is \n",
      " [3. 2.]\n",
      "analytic grad is \n",
      " [1. 1.]\n",
      "numeric grad array is \n",
      " [1. 1.]\n",
      "==========================================\n",
      "Gradient check passed!\n",
      "CHECK GRADIENT\n",
      "predictions is \n",
      " [[3. 2.]\n",
      " [1. 0.]]\n",
      "analytic grad is \n",
      " [[1. 1.]\n",
      " [1. 1.]]\n",
      "numeric grad array is \n",
      " [[1. 1.]\n",
      " [1. 1.]]\n",
      "==========================================\n",
      "Gradient check passed!\n"
     ]
    },
    {
     "data": {
      "text/plain": [
       "True"
      ]
     },
     "execution_count": 3,
     "metadata": {},
     "output_type": "execute_result"
    }
   ],
   "source": [
    "# TODO: Implement check_gradient function in gradient_check.py\n",
    "# All the functions below should pass the gradient check\n",
    "\n",
    "def square(x):\n",
    "    return float(x*x), 2*x\n",
    "\n",
    "check_gradient(square, np.array([3.0]))\n",
    "\n",
    "def array_sum(x):\n",
    "    assert x.shape == (2,), x.shape\n",
    "    return np.sum(x), np.ones_like(x)\n",
    "\n",
    "check_gradient(array_sum, np.array([3.0, 2.0]))\n",
    "\n",
    "def array_2d_sum(x):\n",
    "    assert x.shape == (2,2)\n",
    "    return np.sum(x), np.ones_like(x)\n",
    "\n",
    "check_gradient(array_2d_sum, np.array([[3.0, 2.0], [1.0, 0.0]]))"
   ]
  },
  {
   "cell_type": "code",
   "execution_count": 4,
   "metadata": {},
   "outputs": [],
   "source": [
    "# TODO Implement softmax and cross-entropy for single sample\n",
    "probs = linear_classifer.softmax(np.array([-10, 0, 10]))\n",
    "\n",
    "# Make sure it works for big numbers too!\n",
    "probs = linear_classifer.softmax(np.array([1000, 0, 0]))\n",
    "assert np.isclose(probs[0], 1.0)"
   ]
  },
  {
   "cell_type": "code",
   "execution_count": 5,
   "metadata": {},
   "outputs": [
    {
     "data": {
      "text/plain": [
       "5.006760443547122"
      ]
     },
     "execution_count": 5,
     "metadata": {},
     "output_type": "execute_result"
    }
   ],
   "source": [
    "probs = linear_classifer.softmax(np.array([-5, 0, 5]))\n",
    "linear_classifer.cross_entropy_loss(probs, np.array([[1]]))"
   ]
  },
  {
   "cell_type": "code",
   "execution_count": 6,
   "metadata": {},
   "outputs": [
    {
     "name": "stdout",
     "output_type": "stream",
     "text": [
      "CHECK GRADIENT\n",
      "predictions is \n",
      " [1. 0. 0.]\n",
      "analytic grad is \n",
      " [ 0.57611688 -0.78805844  0.21194156]\n",
      "numeric grad array is \n",
      " [ 0.57611688 -0.78805844  0.21194156]\n",
      "==========================================\n",
      "Gradient check passed!\n"
     ]
    },
    {
     "data": {
      "text/plain": [
       "True"
      ]
     },
     "execution_count": 6,
     "metadata": {},
     "output_type": "execute_result"
    }
   ],
   "source": [
    "# TODO Implement combined function or softmax and cross entropy and produces gradient\n",
    "loss, grad = linear_classifer.softmax_with_cross_entropy(np.array([1, 0, 0]), np.array([[1]]))\n",
    "check_gradient(lambda x: linear_classifer.softmax_with_cross_entropy(x, np.array([[1]])), np.array([1, 0, 0], float))"
   ]
  },
  {
   "cell_type": "code",
   "execution_count": 7,
   "metadata": {},
   "outputs": [
    {
     "name": "stdout",
     "output_type": "stream",
     "text": [
      "CHECK GRADIENT\n",
      "predictions is \n",
      " [[ 1.  2. -1.  1.]]\n",
      "analytic grad is \n",
      " [[ 0.20603191  0.56005279 -0.97211661  0.20603191]]\n",
      "numeric grad array is \n",
      " [[ 0.20603191  0.56005279 -0.97211661  0.20603191]]\n",
      "==========================================\n",
      "Gradient check passed!\n",
      "END\n",
      "CHECK GRADIENT\n",
      "predictions is \n",
      " [ 2. -1. -1.  1.]\n",
      "analytic grad is \n",
      " [ 0.68145256  0.03392753  0.03392753 -0.74930761]\n",
      "numeric grad array is \n",
      " [ 0.68145256  0.03392753  0.03392753 -0.74930761]\n",
      "==========================================\n",
      "Gradient check passed!\n",
      "CHECK GRADIENT\n",
      "predictions is \n",
      " [0. 1. 1. 1.]\n",
      "analytic grad is \n",
      " [ 0.10923177  0.29692274  0.29692274 -0.70307726]\n",
      "numeric grad array is \n",
      " [ 0.10923177  0.29692274  0.29692274 -0.70307726]\n",
      "==========================================\n",
      "Gradient check passed!\n",
      "CHECK GRADIENT\n",
      "predictions is \n",
      " [ 1.  2. -1.  2.]\n",
      "analytic grad is \n",
      " [ 0.15216302  0.41362198 -0.97940697  0.41362198]\n",
      "numeric grad array is \n",
      " [ 0.15216302  0.41362198 -0.97940697  0.41362198]\n",
      "==========================================\n",
      "Gradient check passed!\n",
      "END\n",
      "END\n"
     ]
    }
   ],
   "source": [
    "# TODO Extend combined function so it can receive a 2d array with batch of samples\n",
    "np.random.seed(42)\n",
    "# Test batch_size = 1\n",
    "num_classes = 4\n",
    "batch_size = 1\n",
    "predictions = np.random.randint(-1, 3, size=(batch_size, num_classes)).astype(float)\n",
    "target_index = np.random.randint(0, num_classes, size=(batch_size, 1)).astype(int)\n",
    "check_gradient(lambda x: linear_classifer.softmax_with_cross_entropy(x, target_index), predictions)\n",
    "print(\"END\")\n",
    "\n",
    "# Test batch_size = 3\n",
    "num_classes = 4\n",
    "batch_size = 3\n",
    "predictions = np.random.randint(-1, 3, size=(batch_size, num_classes)).astype(float)\n",
    "target_index = np.random.randint(0, num_classes, size=(batch_size, 1)).astype(int)\n",
    "# print(\"target_index is \\n\", target_index)\n",
    "for ind in range(target_index.size):\n",
    "    check_gradient(lambda x: linear_classifer.softmax_with_cross_entropy(x, target_index[ind]), predictions[ind])\n",
    "print(\"END\")\n",
    "\n",
    "# Make sure maximum subtraction for numberic stability is done separately for every sample in the batch\n",
    "probs = linear_classifer.softmax(np.array([[20,0,0], [1000, 0, 0]]))\n",
    "assert np.all(np.isclose(probs[:, 0], 1.0))\n",
    "print(\"END\")"
   ]
  },
  {
   "cell_type": "code",
   "execution_count": 33,
   "metadata": {},
   "outputs": [
    {
     "name": "stdout",
     "output_type": "stream",
     "text": [
      "CHECK GRADIENT\n",
      "predictions is \n",
      " [[ 1.  2.]\n",
      " [-1.  1.]\n",
      " [ 1.  2.]]\n",
      "analytic grad is \n",
      " [[-0.88079708  0.88079708]\n",
      " [-0.8333712   0.8333712 ]\n",
      " [ 0.92822295 -0.92822295]]\n",
      "numeric grad array is \n",
      " [[-0.44039854  0.44039854]\n",
      " [-0.4166856   0.4166856 ]\n",
      " [ 0.46411148 -0.46411148]]\n",
      "==========================================\n",
      "Gradients are different at (0, 0). Analytic: -0.88080, Numeric: -0.44040\n"
     ]
    },
    {
     "data": {
      "text/plain": [
       "False"
      ]
     },
     "execution_count": 33,
     "metadata": {},
     "output_type": "execute_result"
    }
   ],
   "source": [
    "# TODO Implement linear_softmax function that uses softmax with cross-entropy for linear classifier\n",
    "batch_size = 2\n",
    "num_classes = 2\n",
    "num_features = 3\n",
    "np.random.seed(42)\n",
    "W = np.random.randint(-1, 3, size=(num_features, num_classes)).astype(float)\n",
    "X = np.random.randint(-1, 3, size=(batch_size, num_features)).astype(float)\n",
    "target_index = np.ones(batch_size, dtype=int)\n",
    "\n",
    "loss, dW = linear_classifer.linear_softmax(X, W, target_index)\n",
    "check_gradient(lambda w: linear_classifer.linear_softmax(X, w, target_index), W)"
   ]
  },
  {
   "cell_type": "code",
   "execution_count": 9,
   "metadata": {},
   "outputs": [
    {
     "name": "stdout",
     "output_type": "stream",
     "text": [
      "CHECK GRADIENT\n",
      "predictions is \n",
      " [[ 1.  2.]\n",
      " [-1.  1.]\n",
      " [ 1.  2.]]\n",
      "analytic grad is \n",
      " [[ 0.02  0.04]\n",
      " [-0.02  0.02]\n",
      " [ 0.02  0.04]]\n",
      "numeric grad array is \n",
      " [[ 0.02  0.04]\n",
      " [-0.02  0.02]\n",
      " [ 0.02  0.04]]\n",
      "==========================================\n",
      "Gradient check passed!\n"
     ]
    },
    {
     "data": {
      "text/plain": [
       "True"
      ]
     },
     "execution_count": 9,
     "metadata": {},
     "output_type": "execute_result"
    }
   ],
   "source": [
    "# TODO Implement l2_regularization function that implements loss for L2 regularization\n",
    "linear_classifer.l2_regularization(W, 0.01)\n",
    "check_gradient(lambda w: linear_classifer.l2_regularization(w, 0.01), W)"
   ]
  },
  {
   "cell_type": "markdown",
   "metadata": {},
   "source": [
    "**Тренировка!**\n",
    "Градиенты в порядке, реализуем процесс тренировки!"
   ]
  },
  {
   "cell_type": "code",
   "execution_count": 71,
   "metadata": {},
   "outputs": [
    {
     "name": "stdout",
     "output_type": "stream",
     "text": [
      "train X shape  (9000, 3073)\n",
      "num train is  9000\n",
      "num features is  3073\n",
      "num classes  is  10\n",
      "Linear softmax classifier test set accuracy: 18.222222\n",
      "Epoch 0, loss: 2.297851\n",
      "Linear softmax classifier test set accuracy: 19.877778\n",
      "Epoch 1, loss: 2.287501\n",
      "Linear softmax classifier test set accuracy: 21.122222\n",
      "Epoch 2, loss: 2.285193\n",
      "Linear softmax classifier test set accuracy: 21.277778\n",
      "Epoch 3, loss: 2.267558\n",
      "Linear softmax classifier test set accuracy: 22.211111\n",
      "Epoch 4, loss: 2.269622\n",
      "Linear softmax classifier test set accuracy: 22.133333\n",
      "Epoch 5, loss: 2.275694\n",
      "Linear softmax classifier test set accuracy: 22.833333\n",
      "Epoch 6, loss: 2.265062\n",
      "Linear softmax classifier test set accuracy: 22.755556\n",
      "Epoch 7, loss: 2.247698\n",
      "Linear softmax classifier test set accuracy: 22.777778\n",
      "Epoch 8, loss: 2.241406\n",
      "Linear softmax classifier test set accuracy: 23.344444\n",
      "Epoch 9, loss: 2.238826\n",
      "Linear softmax classifier test set accuracy: 23.422222\n",
      "Epoch 10, loss: 2.215847\n",
      "Linear softmax classifier test set accuracy: 23.344444\n",
      "Epoch 11, loss: 2.246365\n",
      "Linear softmax classifier test set accuracy: 23.411111\n",
      "Epoch 12, loss: 2.221597\n",
      "Linear softmax classifier test set accuracy: 23.277778\n",
      "Epoch 13, loss: 2.228262\n",
      "Linear softmax classifier test set accuracy: 23.200000\n",
      "Epoch 14, loss: 2.203245\n",
      "Linear softmax classifier test set accuracy: 23.355556\n",
      "Epoch 15, loss: 2.204482\n",
      "Linear softmax classifier test set accuracy: 23.577778\n",
      "Epoch 16, loss: 2.238364\n",
      "Linear softmax classifier test set accuracy: 23.755556\n",
      "Epoch 17, loss: 2.208719\n",
      "Linear softmax classifier test set accuracy: 23.377778\n",
      "Epoch 18, loss: 2.201195\n",
      "Linear softmax classifier test set accuracy: 23.677778\n",
      "Epoch 19, loss: 2.200386\n"
     ]
    }
   ],
   "source": [
    "# TODO: Implement LinearSoftmaxClassifier.fit function\n",
    "print(\"train X shape \", train_X.shape)\n",
    "ind = np.array([1,5,222])\n",
    "# print(train_X[ind])\n",
    "\n",
    "classifier = linear_classifer.LinearSoftmaxClassifier()\n",
    "loss_history = classifier.fit(train_X, train_y, epochs=20, learning_rate=1e-2, batch_size=300, reg=1e-4)"
   ]
  },
  {
   "cell_type": "code",
   "execution_count": 72,
   "metadata": {},
   "outputs": [
    {
     "data": {
      "text/plain": [
       "[<matplotlib.lines.Line2D at 0x7fb92c56b4c0>]"
      ]
     },
     "execution_count": 72,
     "metadata": {},
     "output_type": "execute_result"
    },
    {
     "data": {
      "image/png": "[encoded data removed]",
      "text/plain": [
       "<Figure size 432x288 with 1 Axes>"
      ]
     },
     "metadata": {
      "needs_background": "light"
     },
     "output_type": "display_data"
    }
   ],
   "source": [
    "# let's look at the loss history!\n",
    "plt.plot(loss_history)"
   ]
  },
  {
   "cell_type": "code",
   "execution_count": 66,
   "metadata": {},
   "outputs": [
    {
     "name": "stdout",
     "output_type": "stream",
     "text": [
      "test x is  (1000, 3073)\n",
      "test pred is  [[0.07153769 0.14433985 0.23295234 0.07899388 0.0953093  0.07631218\n",
      "  0.09404311 0.06282396 0.07656227 0.06712542]\n",
      " [0.06006695 0.20750362 0.13284701 0.09230505 0.08892252 0.09776653\n",
      "  0.07403682 0.08888783 0.08706148 0.07060219]\n",
      " [0.07299647 0.14593149 0.10972464 0.10444322 0.0814516  0.1006305\n",
      "  0.13878714 0.0566983  0.13523704 0.0540996 ]\n",
      " [0.05400608 0.18905469 0.2803486  0.08314194 0.07038264 0.05752098\n",
      "  0.03280941 0.08908653 0.03913233 0.10451681]\n",
      " [0.06599753 0.202621   0.21814393 0.13345114 0.06911954 0.08614872\n",
      "  0.07021061 0.05028095 0.05142013 0.05260645]\n",
      " [0.07904968 0.18620537 0.12131012 0.11439114 0.06879154 0.14614142\n",
      "  0.06682411 0.07854746 0.0805587  0.05818045]\n",
      " [0.03011827 0.16352763 0.15583631 0.13612018 0.08341488 0.09691562\n",
      "  0.06471529 0.12941173 0.06352035 0.07641974]\n",
      " [0.05081231 0.23771607 0.19893044 0.09353134 0.12672012 0.06116242\n",
      "  0.05438349 0.07237263 0.05582935 0.04854183]\n",
      " [0.07208463 0.25315377 0.08168937 0.11731489 0.07961829 0.14585246\n",
      "  0.06312887 0.06465937 0.06393175 0.05856659]\n",
      " [0.07466051 0.22118264 0.1781789  0.13932839 0.03869316 0.1104909\n",
      "  0.08157285 0.04169575 0.05780766 0.05638924]]\n",
      "label is  [2 1 1 2 2 1 1 1 1 1]\n",
      "test pred is \n",
      " [2 1 1 2 2 1 1 1 1 1]\n",
      "test_y  is \n",
      " [2 1 3 0 2 5 0 1 7 1]\n",
      "Linear softmax classifier test set accuracy: 20.300000\n"
     ]
    },
    {
     "data": {
      "image/png": "[encoded data removed]",
      "text/plain": [
       "<Figure size 432x288 with 10 Axes>"
      ]
     },
     "metadata": {
      "needs_background": "light"
     },
     "output_type": "display_data"
    }
   ],
   "source": [
    "# classifier = linear_classifer.LinearSoftmaxClassifier()\n",
    "# print(\"features is \", test_X.shape[1])\n",
    "# classifier.initW(test_X.shape[0],10)\n",
    "\n",
    "\n",
    "print(\"test x is \", test_X.shape)\n",
    "test_pred = classifier.predict(test_X[:10])\n",
    "print(\"test pred is \", test_pred)\n",
    "label = np.argmax(test_pred, axis=1)\n",
    "# print(\"test pred \", test_pred)\n",
    "print(\"label is \", label)\n",
    "# plt.imshow(old_test_X[3].astype(np.uint8))\n",
    "number = 10\n",
    "plot_index = 1\n",
    "for class_index in range(number):\n",
    "        plt.subplot(1, number, plot_index)\n",
    "        \n",
    "        image = old_test_X[class_index]\n",
    "        plt.imshow(image.astype(np.uint8))\n",
    "        plt.axis('off')\n",
    "        plot_index += 1\n",
    "\n",
    "# plt.show()\n",
    "test_pred = classifier.predict(test_X)\n",
    "test_pred = np.argmax(test_pred, axis=1)\n",
    "print(\"test pred is \\n\", test_pred[:10])\n",
    "print(\"test_y  is \\n\", test_y[:10])\n",
    "test_accuracy = multiclass_accuracy(test_pred, test_y)*100\n",
    "print('Linear softmax classifier test set accuracy: %f' % (test_accuracy, ))"
   ]
  },
  {
   "cell_type": "code",
   "execution_count": 45,
   "metadata": {},
   "outputs": [
    {
     "name": "stdout",
     "output_type": "stream",
     "text": [
      "range is \n",
      " range(0, 3)\n",
      "indices is \n",
      " [1 1 2]\n",
      "b is \n",
      " [[ 2  3  2  1]\n",
      " [ 3 42  4  1]\n",
      " [ 3  4  2  1]]\n",
      "definite b is \n",
      " [ 3 42  2]\n",
      "sum arr is\n",
      " [[[ 2. -1. -1.  1.]\n",
      "  [ 0.  1.  1.  1.]\n",
      "  [ 1.  2. -1.  2.]]\n",
      "\n",
      " [[-2. -1. -1.  1.]\n",
      "  [ 0. -1.  1.  1.]\n",
      "  [ 1. -2.  1.  2.]]\n",
      "\n",
      " [[ 4. -1. 12.  1.]\n",
      "  [ 0. -1.  1.  1.]\n",
      "  [ 1. -2.  1.  2.]]]\n",
      "average is \n",
      " [[ 1.33333333 -1.          3.33333333  1.        ]\n",
      " [ 0.         -0.33333333  1.          1.        ]\n",
      " [ 1.         -0.66666667  0.33333333  2.        ]]\n"
     ]
    }
   ],
   "source": [
    "# a = np.array([[[2,3,2,1], [3,42,4,1], [3,4,2,1]], [[2,3,2,1], [3,0,4,1], [3,4,2,1]], [[2,30,2,1], [3,1,4,1], [3,4,2,1]]])\n",
    "# print(a)\n",
    "# print(\"max is \\n\", np.max(a, axis=2))\n",
    "# print(a.ndim)\n",
    "\n",
    "\n",
    "b = np.array([[2,3,2,1], [3,42,4,1], [3,4,2,1]])\n",
    "indices = np.array([1,1,2])\n",
    "print(\"range is \\n\",range(len(b)))\n",
    "output_array = b[range(len(b)) , indices ]\n",
    "# indices = indices[:, np.newaxis]\n",
    "print(\"indices is \\n\", indices)\n",
    "print(\"b is \\n\",b)\n",
    "print(\"definite b is \\n\", output_array)\n",
    "# b_max = np.max(b, axis=1)\n",
    "# b_max = b_max[:, np.newaxis]\n",
    "# print(\"b_max is \\n\", b_max)\n",
    "# # print(\"b is \\n\",b)\n",
    "# c = b - b_max\n",
    "# # c = np.subtract(b, c)\n",
    "# print(\"c is \\n\",c)\n",
    "\n",
    "# sum_exps = np.sum(np.exp(b),  axis=1)\n",
    "# sum_exps = sum_exps[:, np.newaxis]\n",
    "# print(\"sum exps\\n\",sum_exps)\n",
    "# probabilities = np.exp(b)/sum_exps\n",
    "# print(\"probabilities\\n\", probabilities)\n",
    "arr = np.array([[ 2., -1., -1. , 1.], [ 0.,  1. , 1. , 1.] ,[ 1.,  2. ,-1. , 2.]])\n",
    "arr2 = np.array([[ -2., -1., -1. , 1.], [ 0.,  -1. , 1. , 1.] ,[ 1.,  -2. ,1. , 2.]])\n",
    "arr3 = np.array([[ 4., -1., 12. , 1.], [ 0.,  -1. , 1. , 1.] ,[ 1.,  -2. ,1. , 2.]])\n",
    "\n",
    "ls = [arr, arr2, arr3]\n",
    "sum_arr =np.array(ls)\n",
    "print(\"sum arr is\\n\", sum_arr)\n",
    "average = np.average(sum_arr, axis=0)\n",
    "print(\"average is \\n\", average)\n",
    "# part = arr[range(len(arr)), indices]\n",
    "# print(\"part  is \\n\", part)\n",
    "# print(\"arr is \\n\", arr)\n",
    "# arr[range(len(arr)), indices]-=1\n",
    "# print(\"part  is \\n\", part)\n",
    "# print(\"new arr is \\n\", arr)\n",
    "\n",
    "# print(b[range(len(b)), indices])\n",
    "# a = np.array([[1,2,3], [4,5,6], [7,8,9]])\n",
    "# a = a[np.arange(len(a)), [1,0,2]]\n",
    "# print(\"a is \\n\", a)\n"
   ]
  },
  {
   "cell_type": "code",
   "execution_count": null,
   "metadata": {},
   "outputs": [],
   "source": []
  }
 ],
 "metadata": {
  "kernelspec": {
   "display_name": "Python 3.8.8 ('base')",
   "language": "python",
   "name": "python3"
  },
  "language_info": {
   "codemirror_mode": {
    "name": "ipython",
    "version": 3
   },
   "file_extension": ".py",
   "mimetype": "text/x-python",
   "name": "python",
   "nbconvert_exporter": "python",
   "pygments_lexer": "ipython3",
   "version": "3.8.8"
  },
  "orig_nbformat": 4,
  "vscode": {
   "interpreter": {
    "hash": "8d02a8b3f9d4449c292051e97c4fa6280aba47e831569dc744e632849a185d52"
   }
  }
 },
 "nbformat": 4,
 "nbformat_minor": 2
}
