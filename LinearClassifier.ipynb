{
 "cells": [
  {
   "cell_type": "markdown",
   "metadata": {},
   "source": [
    "В этом задании мы реализуем другую модель машинного обучения - линейный классификатор. Линейный классификатор подбирает для каждого класса веса, на которые нужно умножить значение каждого признака и потом сложить вместе. Тот класс, у которого эта сумма больше, и является предсказанием модели.\n",
    "Задание 1.2 - Линейный классификатор (Linear classifier)\n",
    "\n",
    "В этом задании вы:\n",
    "\n",
    "потренируетесь считать градиенты различных многомерных функций\n",
    "реализуете подсчет градиентов через линейную модель и функцию потерь softmax\n",
    "реализуете процесс тренировки линейного классификатора\n",
    "подберете параметры тренировки на практике\n",
    "На всякий случай, еще раз ссылка на туториал по numpy:\n",
    "http://cs231n.github.io/python-numpy-tutorial/"
   ]
  },
  {
   "cell_type": "code",
   "execution_count": 1,
   "metadata": {},
   "outputs": [],
   "source": [
    "import numpy as np\n",
    "import matplotlib.pyplot as plt\n",
    "\n",
    "%matplotlib inline\n",
    "\n",
    "%load_ext autoreload\n",
    "%autoreload 2\n",
    "\n",
    "from dataset import load_svhn, random_split_train_val\n",
    "from gradient_check import check_gradient\n",
    "from metrics import multiclass_accuracy \n",
    "import linear_classifer"
   ]
  },
  {
   "cell_type": "code",
   "execution_count": 2,
   "metadata": {},
   "outputs": [
    {
     "name": "stdout",
     "output_type": "stream",
     "text": [
      "old shape  (10000, 32, 32, 3)\n",
      "train_X shape  (9000, 3073)\n"
     ]
    }
   ],
   "source": [
    "def prepare_for_linear_classifier(train_X, test_X):\n",
    "    train_flat = train_X.reshape(train_X.shape[0], -1).astype(float) / 255.0\n",
    "    test_flat = test_X.reshape(test_X.shape[0], -1).astype(float) / 255.0\n",
    "    \n",
    "    # Subtract mean\n",
    "    mean_image = np.mean(train_flat, axis = 0)\n",
    "    train_flat -= mean_image\n",
    "    test_flat -= mean_image\n",
    "    \n",
    "    # Add another channel with ones as a bias term\n",
    "    train_flat_with_ones = np.hstack([train_flat, np.ones((train_X.shape[0], 1))])\n",
    "    test_flat_with_ones = np.hstack([test_flat, np.ones((test_X.shape[0], 1))])    \n",
    "    return train_flat_with_ones, test_flat_with_ones\n",
    "    \n",
    "train_X, train_y, test_X, test_y = load_svhn(\"data\", max_train=10000, max_test=1000)    \n",
    "old_shape = train_X.shape\n",
    "print(\"old shape \", old_shape)\n",
    "old_test_X = test_X.copy()\n",
    "train_X, test_X = prepare_for_linear_classifier(train_X, test_X)\n",
    "# Split train into train and val\n",
    "train_X, train_y, val_X, val_y = random_split_train_val(train_X, train_y, num_val = 1000)\n",
    "print(\"train_X shape \", train_X.shape)"
   ]
  },
  {
   "cell_type": "code",
   "execution_count": 28,
   "metadata": {},
   "outputs": [
    {
     "name": "stdout",
     "output_type": "stream",
     "text": [
      "CHECK GRADIENT\n",
      "predictions is \n",
      " [3.]\n",
      "analytic grad is \n",
      " [6.]\n",
      "numeric grad array is \n",
      " [6.]\n",
      "==========================================\n",
      "Gradient check passed!\n",
      "CHECK GRADIENT\n",
      "predictions is \n",
      " [3. 2.]\n",
      "analytic grad is \n",
      " [1. 1.]\n",
      "numeric grad array is \n",
      " [1. 1.]\n",
      "==========================================\n",
      "Gradient check passed!\n",
      "CHECK GRADIENT\n",
      "predictions is \n",
      " [[3. 2.]\n",
      " [1. 0.]]\n",
      "analytic grad is \n",
      " [[1. 1.]\n",
      " [1. 1.]]\n",
      "numeric grad array is \n",
      " [[1. 1.]\n",
      " [1. 1.]]\n",
      "==========================================\n",
      "Gradient check passed!\n"
     ]
    },
    {
     "data": {
      "text/plain": [
       "True"
      ]
     },
     "execution_count": 28,
     "metadata": {},
     "output_type": "execute_result"
    }
   ],
   "source": [
    "# TODO: Implement check_gradient function in gradient_check.py\n",
    "# All the functions below should pass the gradient check\n",
    "\n",
    "def square(x):\n",
    "    return float(x*x), 2*x\n",
    "\n",
    "check_gradient(square, np.array([3.0]))\n",
    "\n",
    "def array_sum(x):\n",
    "    assert x.shape == (2,), x.shape\n",
    "    return np.sum(x), np.ones_like(x)\n",
    "\n",
    "check_gradient(array_sum, np.array([3.0, 2.0]))\n",
    "\n",
    "def array_2d_sum(x):\n",
    "    assert x.shape == (2,2)\n",
    "    return np.sum(x), np.ones_like(x)\n",
    "\n",
    "check_gradient(array_2d_sum, np.array([[3.0, 2.0], [1.0, 0.0]]))"
   ]
  },
  {
   "cell_type": "code",
   "execution_count": 27,
   "metadata": {},
   "outputs": [],
   "source": [
    "# TODO Implement softmax and cross-entropy for single sample\n",
    "probs = linear_classifer.softmax(np.array([-10, 0, 10]))\n",
    "\n",
    "# Make sure it works for big numbers too!\n",
    "probs = linear_classifer.softmax(np.array([1000, 0, 0]))\n",
    "assert np.isclose(probs[0], 1.0)"
   ]
  },
  {
   "cell_type": "code",
   "execution_count": 26,
   "metadata": {},
   "outputs": [
    {
     "name": "stdout",
     "output_type": "stream",
     "text": [
      "loss array \n",
      " [5.00676044]\n"
     ]
    },
    {
     "data": {
      "text/plain": [
       "5.006760443547122"
      ]
     },
     "execution_count": 26,
     "metadata": {},
     "output_type": "execute_result"
    }
   ],
   "source": [
    "probs = linear_classifer.softmax(np.array([-5, 0, 5]))\n",
    "linear_classifer.cross_entropy_loss(probs, np.array([[1]]))"
   ]
  },
  {
   "cell_type": "code",
   "execution_count": 25,
   "metadata": {},
   "outputs": [
    {
     "name": "stdout",
     "output_type": "stream",
     "text": [
      "loss array \n",
      " [1.55144471]\n",
      "CHECK GRADIENT\n",
      "predictions is \n",
      " [1. 0. 0.]\n",
      "loss array \n",
      " [1.55144471]\n",
      "analytic grad is \n",
      " [ 0.57611688 -0.78805844  0.21194156]\n",
      "loss array \n",
      " [1.55145048]\n",
      "loss array \n",
      " [1.55143895]\n",
      "loss array \n",
      " [1.55143683]\n",
      "loss array \n",
      " [1.55145259]\n",
      "loss array \n",
      " [1.55144683]\n",
      "loss array \n",
      " [1.55144259]\n",
      "numeric grad array is \n",
      " [ 0.57611688 -0.78805844  0.21194156]\n",
      "==========================================\n",
      "Gradient check passed!\n"
     ]
    },
    {
     "data": {
      "text/plain": [
       "True"
      ]
     },
     "execution_count": 25,
     "metadata": {},
     "output_type": "execute_result"
    }
   ],
   "source": [
    "# TODO Implement combined function or softmax and cross entropy and produces gradient\n",
    "loss, grad = linear_classifer.softmax_with_cross_entropy(np.array([1, 0, 0]), np.array([[1]]))\n",
    "check_gradient(lambda x: linear_classifer.softmax_with_cross_entropy(x, np.array([[1]])), np.array([1, 0, 0], float))"
   ]
  },
  {
   "cell_type": "code",
   "execution_count": 31,
   "metadata": {},
   "outputs": [
    {
     "name": "stdout",
     "output_type": "stream",
     "text": [
      "CHECK GRADIENT\n",
      "predictions is \n",
      " [[ 1.  2. -1.  1.]]\n",
      "loss array \n",
      " [3.57972422]\n",
      "analytic grad is \n",
      " [[ 0.20603191  0.56005279 -0.97211661  0.20603191]]\n",
      "loss array \n",
      " [3.57972628]\n",
      "loss array \n",
      " [3.57972216]\n",
      "loss array \n",
      " [3.57972982]\n",
      "loss array \n",
      " [3.57971862]\n",
      "loss array \n",
      " [3.5797145]\n",
      "loss array \n",
      " [3.57973394]\n",
      "loss array \n",
      " [3.57972628]\n",
      "loss array \n",
      " [3.57972216]\n",
      "numeric grad array is \n",
      " [[ 0.20603191  0.56005279 -0.97211661  0.20603191]]\n",
      "==========================================\n",
      "Gradient check passed!\n",
      "END\n",
      "CHECK GRADIENT\n",
      "predictions is \n",
      " [ 2. -1. -1.  1.]\n",
      "loss array \n",
      " [1.38352864]\n",
      "analytic grad is \n",
      " [ 0.68145256  0.03392753  0.03392753 -0.74930761]\n",
      "loss array \n",
      " [1.38353545]\n",
      "loss array \n",
      " [1.38352182]\n",
      "loss array \n",
      " [1.38352898]\n",
      "loss array \n",
      " [1.3835283]\n",
      "loss array \n",
      " [1.38352898]\n",
      "loss array \n",
      " [1.3835283]\n",
      "loss array \n",
      " [1.38352115]\n",
      "loss array \n",
      " [1.38353613]\n",
      "numeric grad array is \n",
      " [ 0.68145256  0.03392753  0.03392753 -0.74930761]\n",
      "==========================================\n",
      "Gradient check passed!\n",
      "CHECK GRADIENT\n",
      "predictions is \n",
      " [0. 1. 1. 1.]\n",
      "loss array \n",
      " [1.2142833]\n",
      "analytic grad is \n",
      " [ 0.10923177  0.29692274  0.29692274 -0.70307726]\n",
      "loss array \n",
      " [1.21428439]\n",
      "loss array \n",
      " [1.21428221]\n",
      "loss array \n",
      " [1.21428627]\n",
      "loss array \n",
      " [1.21428033]\n",
      "loss array \n",
      " [1.21428627]\n",
      "loss array \n",
      " [1.21428033]\n",
      "loss array \n",
      " [1.21427627]\n",
      "loss array \n",
      " [1.21429033]\n",
      "numeric grad array is \n",
      " [ 0.10923177  0.29692274  0.29692274 -0.70307726]\n",
      "==========================================\n",
      "Gradient check passed!\n",
      "CHECK GRADIENT\n",
      "predictions is \n",
      " [ 1.  2. -1.  2.]\n",
      "loss array \n",
      " [3.88280282]\n",
      "analytic grad is \n",
      " [ 0.15216302  0.41362198 -0.97940697  0.41362198]\n",
      "loss array \n",
      " [3.88280434]\n",
      "loss array \n",
      " [3.8828013]\n",
      "loss array \n",
      " [3.88280696]\n",
      "loss array \n",
      " [3.88279869]\n",
      "loss array \n",
      " [3.88279303]\n",
      "loss array \n",
      " [3.88281262]\n",
      "loss array \n",
      " [3.88280696]\n",
      "loss array \n",
      " [3.88279869]\n",
      "numeric grad array is \n",
      " [ 0.15216302  0.41362198 -0.97940697  0.41362198]\n",
      "==========================================\n",
      "Gradient check passed!\n",
      "END\n",
      "END\n"
     ]
    }
   ],
   "source": [
    "# TODO Extend combined function so it can receive a 2d array with batch of samples\n",
    "np.random.seed(42)\n",
    "# Test batch_size = 1\n",
    "num_classes = 4\n",
    "batch_size = 1\n",
    "predictions = np.random.randint(-1, 3, size=(batch_size, num_classes)).astype(float)\n",
    "target_index = np.random.randint(0, num_classes, size=(batch_size, 1)).astype(int)\n",
    "check_gradient(lambda x: linear_classifer.softmax_with_cross_entropy(x, target_index), predictions)\n",
    "print(\"END\")\n",
    "\n",
    "# Test batch_size = 3\n",
    "num_classes = 4\n",
    "batch_size = 3\n",
    "predictions = np.random.randint(-1, 3, size=(batch_size, num_classes)).astype(float)\n",
    "target_index = np.random.randint(0, num_classes, size=(batch_size, 1)).astype(int)\n",
    "# print(\"target_index is \\n\", target_index)\n",
    "for ind in range(target_index.size):\n",
    "    check_gradient(lambda x: linear_classifer.softmax_with_cross_entropy(x, target_index[ind]), predictions[ind])\n",
    "print(\"END\")\n",
    "\n",
    "# Make sure maximum subtraction for numberic stability is done separately for every sample in the batch\n",
    "probs = linear_classifer.softmax(np.array([[20,0,0], [1000, 0, 0]]))\n",
    "assert np.all(np.isclose(probs[:, 0], 1.0))\n",
    "print(\"END\")"
   ]
  },
  {
   "cell_type": "code",
   "execution_count": 32,
   "metadata": {},
   "outputs": [
    {
     "name": "stdout",
     "output_type": "stream",
     "text": [
      "loss array \n",
      " [2.12692801 0.04858735]\n",
      "CHECK GRADIENT\n",
      "predictions is \n",
      " [[ 1.  2.]\n",
      " [-1.  1.]\n",
      " [ 1.  2.]]\n",
      "loss array \n",
      " [2.12692801 0.04858735]\n",
      "analytic grad is \n",
      " [[-0.44039854  0.44039854]\n",
      " [-0.4166856   0.4166856 ]\n",
      " [ 0.46411148 -0.46411148]]\n",
      "loss array \n",
      " [2.1269192  0.04858735]\n",
      "loss array \n",
      " [2.12693682 0.04858735]\n",
      "loss array \n",
      " [2.12693682 0.04858735]\n",
      "loss array \n",
      " [2.1269192  0.04858735]\n",
      "loss array \n",
      " [2.1269192  0.04858783]\n",
      "loss array \n",
      " [2.12693682 0.04858688]\n",
      "loss array \n",
      " [2.12693682 0.04858688]\n",
      "loss array \n",
      " [2.1269192  0.04858783]\n",
      "loss array \n",
      " [2.12693682 0.04858783]\n",
      "loss array \n",
      " [2.1269192  0.04858688]\n",
      "loss array \n",
      " [2.1269192  0.04858688]\n",
      "loss array \n",
      " [2.12693682 0.04858783]\n",
      "numeric grad array is \n",
      " [[-0.44039854  0.44039854]\n",
      " [-0.4166856   0.4166856 ]\n",
      " [ 0.46411148 -0.46411148]]\n",
      "==========================================\n",
      "Gradient check passed!\n"
     ]
    },
    {
     "data": {
      "text/plain": [
       "True"
      ]
     },
     "execution_count": 32,
     "metadata": {},
     "output_type": "execute_result"
    }
   ],
   "source": [
    "# TODO Implement linear_softmax function that uses softmax with cross-entropy for linear classifier\n",
    "batch_size = 2\n",
    "num_classes = 2\n",
    "num_features = 3\n",
    "np.random.seed(42)\n",
    "W = np.random.randint(-1, 3, size=(num_features, num_classes)).astype(float)\n",
    "X = np.random.randint(-1, 3, size=(batch_size, num_features)).astype(float)\n",
    "target_index = np.ones(batch_size, dtype=int)\n",
    "\n",
    "loss, dW = linear_classifer.linear_softmax(X, W, target_index)\n",
    "check_gradient(lambda w: linear_classifer.linear_softmax(X, w, target_index), W)"
   ]
  },
  {
   "cell_type": "code",
   "execution_count": 33,
   "metadata": {},
   "outputs": [
    {
     "name": "stdout",
     "output_type": "stream",
     "text": [
      "CHECK GRADIENT\n",
      "predictions is \n",
      " [[ 1.  2.]\n",
      " [-1.  1.]\n",
      " [ 1.  2.]]\n",
      "analytic grad is \n",
      " [[ 0.02  0.04]\n",
      " [-0.02  0.02]\n",
      " [ 0.02  0.04]]\n",
      "numeric grad array is \n",
      " [[ 0.02  0.04]\n",
      " [-0.02  0.02]\n",
      " [ 0.02  0.04]]\n",
      "==========================================\n",
      "Gradient check passed!\n"
     ]
    },
    {
     "data": {
      "text/plain": [
       "True"
      ]
     },
     "execution_count": 33,
     "metadata": {},
     "output_type": "execute_result"
    }
   ],
   "source": [
    "# TODO Implement l2_regularization function that implements loss for L2 regularization\n",
    "linear_classifer.l2_regularization(W, 0.01)\n",
    "check_gradient(lambda w: linear_classifer.l2_regularization(w, 0.01), W)"
   ]
  },
  {
   "cell_type": "markdown",
   "metadata": {},
   "source": [
    "**Тренировка!**\n",
    "Градиенты в порядке, реализуем процесс тренировки!"
   ]
  },
  {
   "cell_type": "code",
   "execution_count": null,
   "metadata": {},
   "outputs": [
    {
     "name": "stdout",
     "output_type": "stream",
     "text": [
      "train X shape  (9000, 3073)\n",
      "num train is  9000\n",
      "num features is  3073\n",
      "num classes  is  10\n",
      "Epoch 0, loss: 2.302733\n",
      "Epoch 0, loss: 2.302654\n",
      "Epoch 0, loss: 2.302909\n",
      "Epoch 0, loss: 2.303238\n",
      "Epoch 0, loss: 2.302780\n",
      "Epoch 0, loss: 2.303146\n",
      "Epoch 0, loss: 2.302941\n",
      "Epoch 0, loss: 2.303224\n",
      "Epoch 0, loss: 2.303448\n",
      "Epoch 0, loss: 2.302550\n",
      "Epoch 0, loss: 2.302793\n",
      "Epoch 0, loss: 2.302149\n",
      "Epoch 0, loss: 2.302653\n",
      "Epoch 0, loss: 2.302907\n",
      "Epoch 0, loss: 2.303601\n",
      "Epoch 0, loss: 2.303475\n",
      "Epoch 0, loss: 2.303150\n",
      "Epoch 0, loss: 2.302799\n",
      "Epoch 0, loss: 2.303245\n",
      "Epoch 0, loss: 2.303216\n",
      "Epoch 0, loss: 2.302992\n",
      "Epoch 0, loss: 2.302874\n",
      "Epoch 0, loss: 2.302313\n",
      "Epoch 0, loss: 2.303245\n",
      "Epoch 0, loss: 2.302283\n",
      "Epoch 0, loss: 2.302938\n",
      "Epoch 0, loss: 2.302587\n",
      "Epoch 0, loss: 2.303513\n",
      "Epoch 0, loss: 2.301987\n",
      "Epoch 0, loss: 2.302917\n",
      "Linear softmax classifier test set accuracy: 8.922222\n",
      "Epoch 1, loss: 2.302426\n",
      "Epoch 1, loss: 2.303128\n",
      "Epoch 1, loss: 2.302140\n",
      "Epoch 1, loss: 2.302245\n",
      "Epoch 1, loss: 2.303473\n",
      "Epoch 1, loss: 2.302723\n",
      "Epoch 1, loss: 2.302970\n",
      "Epoch 1, loss: 2.302861\n",
      "Epoch 1, loss: 2.302756\n",
      "Epoch 1, loss: 2.302173\n",
      "Epoch 1, loss: 2.303069\n",
      "Epoch 1, loss: 2.302716\n",
      "Epoch 1, loss: 2.302844\n",
      "Epoch 1, loss: 2.301515\n",
      "Epoch 1, loss: 2.302768\n",
      "Epoch 1, loss: 2.302600\n",
      "Epoch 1, loss: 2.303042\n",
      "Epoch 1, loss: 2.302026\n",
      "Epoch 1, loss: 2.303031\n",
      "Epoch 1, loss: 2.302402\n",
      "Epoch 1, loss: 2.302119\n",
      "Epoch 1, loss: 2.303150\n",
      "Epoch 1, loss: 2.303135\n",
      "Epoch 1, loss: 2.303417\n",
      "Epoch 1, loss: 2.303405\n",
      "Epoch 1, loss: 2.302845\n",
      "Epoch 1, loss: 2.303353\n",
      "Epoch 1, loss: 2.302909\n",
      "Epoch 1, loss: 2.303336\n",
      "Epoch 1, loss: 2.303291\n",
      "Linear softmax classifier test set accuracy: 9.066667\n"
     ]
    }
   ],
   "source": [
    "# TODO: Implement LinearSoftmaxClassifier.fit function\n",
    "print(\"train X shape \", train_X.shape)\n",
    "ind = np.array([1,5,222])\n",
    "# print(train_X[ind])\n",
    "\n",
    "classifier = linear_classifer.LinearSoftmaxClassifier()\n",
    "loss_history = classifier.fit(train_X, train_y, epochs=2, learning_rate=0.0001, batch_size=300, reg=1e-5)"
   ]
  },
  {
   "cell_type": "code",
   "execution_count": null,
   "metadata": {},
   "outputs": [
    {
     "data": {
      "text/plain": [
       "[<matplotlib.lines.Line2D at 0x7facbbd85ac0>]"
      ]
     },
     "execution_count": 34,
     "metadata": {},
     "output_type": "execute_result"
    },
    {
     "data": {
      "image/png": "[encoded data removed]",
      "text/plain": [
       "<Figure size 432x288 with 1 Axes>"
      ]
     },
     "metadata": {
      "needs_background": "light"
     },
     "output_type": "display_data"
    }
   ],
   "source": [
    "# let's look at the loss history!\n",
    "plt.plot(loss_history)"
   ]
  },
  {
   "cell_type": "code",
   "execution_count": null,
   "metadata": {},
   "outputs": [
    {
     "name": "stdout",
     "output_type": "stream",
     "text": [
      "test pred is \n",
      " [9 9 9 8 9 9 8 3 9 9]\n",
      "test_y  is \n",
      " [2 1 3 0 2 5 0 1 7 1]\n",
      "Linear softmax classifier test set accuracy: 9.600000\n"
     ]
    }
   ],
   "source": [
    "# classifier = linear_classifer.LinearSoftmaxClassifier()\n",
    "# print(\"features is \", test_X.shape[1])\n",
    "# classifier.initW(test_X.shape[0],10)\n",
    "\n",
    "\n",
    "# print(\"test x is \", test_X.shape)\n",
    "# test_pred = classifier.predict(test_X[:10])\n",
    "# print(\"test pred is \", test_pred)\n",
    "# label = np.argmax(test_pred, axis=1)\n",
    "# # print(\"test pred \", test_pred)\n",
    "# print(\"label is \", label)\n",
    "# # plt.imshow(old_test_X[3].astype(np.uint8))\n",
    "# number = 10\n",
    "# plot_index = 1\n",
    "# for class_index in range(number):\n",
    "#         plt.subplot(1, number, plot_index)\n",
    "        \n",
    "#         image = old_test_X[class_index]\n",
    "#         plt.imshow(image.astype(np.uint8))\n",
    "#         plt.axis('off')\n",
    "#         plot_index += 1\n",
    "\n",
    "# plt.show()\n",
    "test_pred = classifier.predict(test_X)\n",
    "test_pred = np.argmax(test_pred, axis=1)\n",
    "print(\"test pred is \\n\", test_pred[:10])\n",
    "print(\"test_y  is \\n\", test_y[:10])\n",
    "test_accuracy = multiclass_accuracy(test_pred, test_y)*100\n",
    "print('Linear softmax classifier test set accuracy: %f' % (test_accuracy, ))"
   ]
  },
  {
   "cell_type": "code",
   "execution_count": 19,
   "metadata": {},
   "outputs": [
    {
     "name": "stdout",
     "output_type": "stream",
     "text": [
      "range is \n",
      " range(0, 3)\n",
      "indices is \n",
      " [1 1 2]\n",
      "b is \n",
      " [[ 2  3  2  1]\n",
      " [ 3 42  4  1]\n",
      " [ 3  4  2  1]]\n",
      "definite b is \n",
      " [ 3 42  2]\n",
      "part  is \n",
      " [-1.  1. -1.]\n",
      "arr is \n",
      " [[ 2. -1. -1.  1.]\n",
      " [ 0.  1.  1.  1.]\n",
      " [ 1.  2. -1.  2.]]\n",
      "part  is \n",
      " [-1.  1. -1.]\n",
      "new arr is \n",
      " [[ 2. -2. -1.  1.]\n",
      " [ 0.  0.  1.  1.]\n",
      " [ 1.  2. -2.  2.]]\n"
     ]
    }
   ],
   "source": [
    "# a = np.array([[[2,3,2,1], [3,42,4,1], [3,4,2,1]], [[2,3,2,1], [3,0,4,1], [3,4,2,1]], [[2,30,2,1], [3,1,4,1], [3,4,2,1]]])\n",
    "# print(a)\n",
    "# print(\"max is \\n\", np.max(a, axis=2))\n",
    "# print(a.ndim)\n",
    "\n",
    "\n",
    "b = np.array([[2,3,2,1], [3,42,4,1], [3,4,2,1]])\n",
    "indices = np.array([1,1,2])\n",
    "print(\"range is \\n\",range(len(b)))\n",
    "output_array = b[range(len(b)) , indices ]\n",
    "# indices = indices[:, np.newaxis]\n",
    "print(\"indices is \\n\", indices)\n",
    "print(\"b is \\n\",b)\n",
    "print(\"definite b is \\n\", output_array)\n",
    "# b_max = np.max(b, axis=1)\n",
    "# b_max = b_max[:, np.newaxis]\n",
    "# print(\"b_max is \\n\", b_max)\n",
    "# # print(\"b is \\n\",b)\n",
    "# c = b - b_max\n",
    "# # c = np.subtract(b, c)\n",
    "# print(\"c is \\n\",c)\n",
    "\n",
    "# sum_exps = np.sum(np.exp(b),  axis=1)\n",
    "# sum_exps = sum_exps[:, np.newaxis]\n",
    "# print(\"sum exps\\n\",sum_exps)\n",
    "# probabilities = np.exp(b)/sum_exps\n",
    "# print(\"probabilities\\n\", probabilities)\n",
    "arr = np.array([[ 2., -1., -1. , 1.], [ 0.,  1. , 1. , 1.] ,[ 1.,  2. ,-1. , 2.]])\n",
    "part = arr[range(len(arr)), indices]\n",
    "print(\"part  is \\n\", part)\n",
    "print(\"arr is \\n\", arr)\n",
    "arr[range(len(arr)), indices]-=1\n",
    "print(\"part  is \\n\", part)\n",
    "print(\"new arr is \\n\", arr)\n",
    "\n",
    "# print(b[range(len(b)), indices])\n",
    "# a = np.array([[1,2,3], [4,5,6], [7,8,9]])\n",
    "# a = a[np.arange(len(a)), [1,0,2]]\n",
    "# print(\"a is \\n\", a)\n"
   ]
  },
  {
   "cell_type": "code",
   "execution_count": null,
   "metadata": {},
   "outputs": [],
   "source": []
  }
 ],
 "metadata": {
  "kernelspec": {
   "display_name": "Python 3.8.8 ('base')",
   "language": "python",
   "name": "python3"
  },
  "language_info": {
   "codemirror_mode": {
    "name": "ipython",
    "version": 3
   },
   "file_extension": ".py",
   "mimetype": "text/x-python",
   "name": "python",
   "nbconvert_exporter": "python",
   "pygments_lexer": "ipython3",
   "version": "3.8.8"
  },
  "orig_nbformat": 4,
  "vscode": {
   "interpreter": {
    "hash": "8d02a8b3f9d4449c292051e97c4fa6280aba47e831569dc744e632849a185d52"
   }
  }
 },
 "nbformat": 4,
 "nbformat_minor": 2
}
