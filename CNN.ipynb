{
 "cells": [
  {
   "cell_type": "markdown",
   "metadata": {},
   "source": [
    "\n",
    "# Задание 3.1 - Сверточные нейронные сети (Convolutional Neural Networks)\n",
    "\n",
    "Это последнее задание на numpy, вы до него дожили! Остался последний марш-бросок, дальше только PyTorch.  \n",
    "В этом задании вы реализуете свою собственную сверточную нейронную сеть."
   ]
  },
  {
   "cell_type": "code",
   "execution_count": 1,
   "metadata": {},
   "outputs": [],
   "source": [
    "import numpy as np\n",
    "import matplotlib.pyplot as plt\n",
    "\n",
    "%matplotlib inline\n",
    "\n",
    "%load_ext autoreload\n",
    "%autoreload 2"
   ]
  },
  {
   "cell_type": "code",
   "execution_count": 2,
   "metadata": {},
   "outputs": [],
   "source": [
    "from dataset import load_svhn, random_split_train_val\n",
    "from gradient_check import check_layer_gradient, check_layer_param_gradient, check_model_gradient\n",
    "from layers import FullyConnectedLayer, ReLULayer, ConvolutionalLayer, MaxPoolingLayer, Flattener\n",
    "from model import ConvNet\n",
    "from trainer import Trainer, Dataset\n",
    "from optim import SGD, MomentumSGD\n",
    "from metrics import multiclass_accuracy"
   ]
  },
  {
   "cell_type": "markdown",
   "metadata": {},
   "source": [
    "### Загружаем данные\n",
    "\n",
    "На этот раз мы не будем их преобразовывать в один вектор, а оставим размерности `(num_samples, 32, 32, 3)`."
   ]
  },
  {
   "cell_type": "code",
   "execution_count": 3,
   "metadata": {},
   "outputs": [],
   "source": [
    "def prepare_for_neural_network(train_X, test_X):    \n",
    "    train_X = train_X.astype(float) / 255.0\n",
    "    test_X = test_X.astype(float) / 255.0\n",
    "    \n",
    "    # Subtract mean\n",
    "    mean_image = np.mean(train_X, axis = 0)\n",
    "    train_X -= mean_image\n",
    "    test_X -= mean_image\n",
    "    \n",
    "    return train_X, test_X\n",
    "    \n",
    "train_X, train_y, test_X, test_y = load_svhn(\"data\", max_train=10000, max_test=1000)    \n",
    "train_X, test_X = prepare_for_neural_network(train_X, test_X)\n",
    "# Split train into train and val\n",
    "train_X, train_y, val_X, val_y = random_split_train_val(train_X, train_y, num_val = 1000)"
   ]
  },
  {
   "cell_type": "markdown",
   "metadata": {},
   "source": [
    "### Реализуем новые слои!\n",
    "Сначала основной новый слой - сверточный (Convolutional layer). Для начала мы реализуем его для только одного канала, а потом для нескольких.\n",
    "\n",
    "Сверточный слой выполняет операцию свертки (convolution) с весами для каждого канала, а потом складывает результаты. Возможно, поможет пересмотреть Лекцию 6 или внимательно прочитать http://cs231n.github.io/convolutional-networks/\n",
    "\n",
    "Один из подходов к реализации сверточного слоя основан на том, что для конкретного \"пикселя\" выхода применение сверточного слоя эквивалентно обычному полносвязному.\n",
    "\n",
    "![Getting Started](conv_img.jpg)\n",
    "\n",
    "Рассмотрим один такой \"пиксель\":\n",
    "\n",
    "Он получает на вход  \n",
    "регион входа I размера `(batch_size, filter_size, filter_size, input_channels)`,\n",
    "\n",
    "применяет к нему веса W `(filter_size, filter_size, input_channels, output_channels` и выдает `(batch_size, output_channels)`.\n",
    "\n",
    "Если:  \n",
    "* вход преобразовать в I' `(batch_size, filter_size*filter_size*input_channels)`,  \n",
    "* веса в W' `(filter_size*filter_size*input_channels, output_channels)`,\n",
    "\n",
    "то выход \"пикселе\" будет эквивалентен полносвязному слою со входом I' и весами W'.  \n",
    "Осталось выполнить его в цикле для каждого пикселя :)"
   ]
  },
  {
   "cell_type": "code",
   "execution_count": 48,
   "metadata": {},
   "outputs": [
    {
     "name": "stdout",
     "output_type": "stream",
     "text": [
      "Shape of X: (2, 2, 2, 1)\n",
      "Shape of W (2, 2, 1, 1)\n",
      "resh W shape is  (4, 1)\n",
      "result shape is  (2, 1, 1, 1)\n",
      "result\n",
      " [[[[2.]]]\n",
      "\n",
      "\n",
      " [[[1.]]]]\n",
      "resh W shape is  (4, 2)\n",
      "result shape is  (2, 1, 1, 2)\n",
      "result\n",
      " [[[[ 3.62369125 -2.7342658 ]]]\n",
      "\n",
      "\n",
      " [[[ 1.01248255 -2.42682772]]]]\n",
      "Shape of X: (2, 2, 2, 2)\n",
      "resh W shape is  (8, 2)\n",
      "result shape is  (2, 1, 1, 2)\n",
      "result\n",
      " [[[[ 0.83655572  1.42816114]]]\n",
      "\n",
      "\n",
      " [[[ 6.18997201 -0.35458975]]]]\n"
     ]
    }
   ],
   "source": [
    "# TODO: Implement ConvolutionaLayer that supports only 1 output and input channel\n",
    "\n",
    "# Note: now you're working with images, so X is 4-dimensional tensor of\n",
    "# (batch_size, height, width, channels)\n",
    "\n",
    "np.random.seed(0)\n",
    "X = np.array([\n",
    "              [\n",
    "               [[1.0], [2.0]],\n",
    "               [[0.0], [-1.0]]\n",
    "              ]\n",
    "              ,\n",
    "              [\n",
    "               [[0.0], [1.0]],\n",
    "               [[-2.0], [-1.0]]\n",
    "              ]\n",
    "             ])\n",
    "\n",
    "# Batch of 2 images of dimensions 2x2 with a single channel\n",
    "print(\"Shape of X:\",X.shape)\n",
    "\n",
    "layer = ConvolutionalLayer(in_channels=1, out_channels=1, filter_size=2, padding=0)\n",
    "print(\"Shape of W\", layer.W.value.shape)\n",
    "layer.W.value = np.zeros_like(layer.W.value)\n",
    "layer.W.value[0, 0, 0, 0] = 1.0\n",
    "layer.B.value = np.ones_like(layer.B.value)\n",
    "result = layer.forward(X)\n",
    "\n",
    "assert result.shape == (2, 1, 1, 1)\n",
    "assert np.all(result == X[:, :1, :1, :1] +1), \"result: %s, X: %s\" % (result, X[:, :1, :1, :1])\n",
    "\n",
    "\n",
    "# Now let's implement multiple output channels\n",
    "layer = ConvolutionalLayer(in_channels=1, out_channels=2, filter_size=2, padding=0)\n",
    "result = layer.forward(X)\n",
    "assert result.shape == (2, 1, 1, 2)\n",
    "\n",
    "\n",
    "# And now multple input channels!\n",
    "X = np.array([\n",
    "              [\n",
    "               [[1.0, 0.0], [2.0, 1.0]],\n",
    "               [[0.0, -1.0], [-1.0, -2.0]]\n",
    "              ]\n",
    "              ,\n",
    "              [\n",
    "               [[0.0, 1.0], [1.0, -1.0]],\n",
    "               [[-2.0, 2.0], [-1.0, 0.0]]\n",
    "              ]\n",
    "             ])\n",
    "\n",
    "print(\"Shape of X:\", X.shape)\n",
    "layer = ConvolutionalLayer(in_channels=2, out_channels=2, filter_size=2, padding=0)\n",
    "result = layer.forward(X)\n",
    "assert result.shape == (2, 1, 1, 2)"
   ]
  },
  {
   "cell_type": "code",
   "execution_count": 20,
   "metadata": {},
   "outputs": [
    {
     "name": "stdout",
     "output_type": "stream",
     "text": [
      "Y shape is  (2, 2, 2, 3)\n",
      "Y is\n",
      " [[[[-1.  1. -2.]\n",
      "   [ 2.  1.  1.]]\n",
      "\n",
      "  [[-5.  1. -2.]\n",
      "   [ 2.  9.  1.]]]\n",
      "\n",
      "\n",
      " [[[-1.  1.  0.]\n",
      "   [ 2.  1.  1.]]\n",
      "\n",
      "  [[-1.  1.  0.]\n",
      "   [ 2.  1.  1.]]]]\n"
     ]
    }
   ],
   "source": [
    "X = np.array([\n",
    "              [\n",
    "               [[1.0, 1, 0.0], [2.0, 1, 1.0], [9.0, 1, 1.0]],\n",
    "               [[0.0, 1,  -1.0], [-1.0, 1,  -2.0],[2.0, 1, 1.0]], \n",
    "               [[0.0, 1,  -1.0], [-5.0, 1,  -2.0],[2.0, 9, 1.0]],\n",
    "               [[0.0, 1,  -1.0], [-1.0, 1,  -2.0],[2.0, 1, 1.0]]\n",
    "              ]\n",
    "              ,\n",
    "              [\n",
    "               [[0.0, 1, 1.0], [1.0, 1,  -1.0], [2.0, 1, 1.0]],\n",
    "               [[-2.0, 1,  2.0], [-1.0, 1, 0.0], [2.0, 1, 1.0]],\n",
    "               [[-2.0, 1,  2.0], [-1.0, 1, 0.0], [2.0, 1, 1.0]],\n",
    "               [[0.0, 1,  -1.0], [-1.0, 1,  -2.0],[2.0, 1, 1.0]]\n",
    "              ]\n",
    "             ])\n",
    "\n",
    "# A = np.array([[[3,3], [2,2]], [[3,3,], [1,1]]])\n",
    "x_off= 1\n",
    "y_off = 1\n",
    "Y = X[:, x_off:2+x_off,  y_off:2 + y_off, :]\n",
    "# print(\"X shape is \", X.shape)\n",
    "print(\"Y shape is \", Y.shape)\n",
    "# print(X)\n",
    "# print(X.ndim)\n",
    "print(\"Y is\\n\", Y)\n",
    "# print(\"A\\n\", A)\n"
   ]
  }
 ],
 "metadata": {
  "kernelspec": {
   "display_name": "Python 3.8.10 64-bit",
   "language": "python",
   "name": "python3"
  },
  "language_info": {
   "codemirror_mode": {
    "name": "ipython",
    "version": 3
   },
   "file_extension": ".py",
   "mimetype": "text/x-python",
   "name": "python",
   "nbconvert_exporter": "python",
   "pygments_lexer": "ipython3",
   "version": "3.8.10"
  },
  "orig_nbformat": 4,
  "vscode": {
   "interpreter": {
    "hash": "916dbcbb3f70747c44a77c7bcd40155683ae19c65e1c03b4aa3499c5328201f1"
   }
  }
 },
 "nbformat": 4,
 "nbformat_minor": 2
}
