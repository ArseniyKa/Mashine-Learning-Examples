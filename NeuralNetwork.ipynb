{
 "cells": [
  {
   "cell_type": "code",
   "execution_count": 13,
   "metadata": {},
   "outputs": [
    {
     "name": "stdout",
     "output_type": "stream",
     "text": [
      "The autoreload extension is already loaded. To reload it, use:\n",
      "  %reload_ext autoreload\n"
     ]
    }
   ],
   "source": [
    "import numpy as np\n",
    "import matplotlib.pyplot as plt\n",
    "\n",
    "%matplotlib inline\n",
    "\n",
    "%load_ext autoreload\n",
    "%autoreload 2"
   ]
  },
  {
   "cell_type": "code",
   "execution_count": 14,
   "metadata": {},
   "outputs": [],
   "source": [
    "from dataset import load_svhn, random_split_train_val\n",
    "from gradient_check import check_layer_gradient, check_layer_param_gradient, check_model_gradient\n",
    "from layers import FullyConnectedLayer, ReLULayer\n",
    "from model import TwoLayerNet\n",
    "from trainer import Trainer, Dataset\n",
    "from optim import SGD, MomentumSGD\n",
    "from metrics import multiclass_accuracy"
   ]
  },
  {
   "cell_type": "code",
   "execution_count": 15,
   "metadata": {},
   "outputs": [
    {
     "name": "stdout",
     "output_type": "stream",
     "text": [
      "old shape  (10000, 32, 32, 3)\n"
     ]
    }
   ],
   "source": [
    "def prepare_for_neural_network(train_X, test_X):\n",
    "    train_flat = train_X.reshape(train_X.shape[0], -1).astype(float) / 255.0\n",
    "    test_flat = test_X.reshape(test_X.shape[0], -1).astype(float) / 255.0\n",
    "    \n",
    "    # Subtract mean\n",
    "    mean_image = np.mean(train_flat, axis = 0)\n",
    "    train_flat -= mean_image\n",
    "    test_flat -= mean_image\n",
    "    \n",
    "    return train_flat, test_flat\n",
    "    \n",
    "train_X, train_y, test_X, test_y = load_svhn(\"data\", max_train=10000, max_test=1000)  \n",
    "old_shape = train_X.shape\n",
    "print(\"old shape \", old_shape)\n",
    "old_test_X = test_X.copy()  \n",
    "train_X, test_X = prepare_for_neural_network(train_X, test_X)\n",
    "\n",
    "# Split train into train and val\n",
    "train_X, train_y, val_X, val_y = random_split_train_val(train_X, train_y, num_val = 1000)"
   ]
  },
  {
   "cell_type": "markdown",
   "metadata": {},
   "source": [
    "Как всегда, начинаем с кирпичиков\n",
    "\n",
    "Мы будем реализовывать необходимые нам слои по очереди. Каждый слой должен реализовать:\n",
    "\n",
    "прямой проход (forward pass), который генерирует выход слоя по входу и запоминает необходимые данные\n",
    "обратный проход (backward pass), который получает градиент по выходу слоя и вычисляет градиент по входу и по параметрам\n",
    "Начнем с ReLU, у которого параметров нет."
   ]
  },
  {
   "cell_type": "code",
   "execution_count": 16,
   "metadata": {},
   "outputs": [
    {
     "name": "stdout",
     "output_type": "stream",
     "text": [
      "CHECK GRADIENT\n",
      "x is \n",
      " [[ 1.  -2.   3. ]\n",
      " [-1.   2.   0.1]]\n",
      "analytic grad is \n",
      " [[ 1.61599406  0.          2.76252524]\n",
      " [-0.         -0.5060347  -0.94302519]]\n",
      "numeric grad array is \n",
      " [[ 1.61599406  0.          2.76252524]\n",
      " [ 0.         -0.5060347  -0.94302519]]\n",
      "==========================================\n",
      "Gradient check passed!\n"
     ]
    }
   ],
   "source": [
    "# TODO: Implement ReLULayer layer in layers.py\n",
    "# Note: you'll need to copy implementation of the gradient_check function from the previous assignment\n",
    "\n",
    "X = np.array([[1,-2,3], [-1, 2, 0.1]])\n",
    "\n",
    "assert check_layer_gradient(ReLULayer(), X)"
   ]
  },
  {
   "cell_type": "code",
   "execution_count": 20,
   "metadata": {},
   "outputs": [
    {
     "name": "stdout",
     "output_type": "stream",
     "text": [
      "CHECK GRADIENT\n",
      "x is \n",
      " [[ 1.  -2.   3. ]\n",
      " [-1.   2.   0.1]]\n",
      "analytic grad is \n",
      " [[ 0.00011948  0.00181837  0.00091042]\n",
      " [ 0.00025099 -0.0002961  -0.00126098]]\n",
      "numeric grad array is \n",
      " [[ 2.98704951e-05  4.54591519e-04  2.27606249e-04]\n",
      " [ 6.27472131e-05 -7.40255001e-05 -3.15244788e-04]]\n",
      "==========================================\n",
      "Gradients are different at (0, 0). Analytic: 0.00012, Numeric: 0.00003\n"
     ]
    },
    {
     "ename": "AssertionError",
     "evalue": "",
     "output_type": "error",
     "traceback": [
      "\u001b[0;31m---------------------------------------------------------------------------\u001b[0m",
      "\u001b[0;31mAssertionError\u001b[0m                            Traceback (most recent call last)",
      "\u001b[0;32m/tmp/ipykernel_45628/4231108585.py\u001b[0m in \u001b[0;36m<module>\u001b[0;34m\u001b[0m\n\u001b[1;32m      1\u001b[0m \u001b[0;31m# TODO: Implement FullyConnected layer forward and backward methods\u001b[0m\u001b[0;34m\u001b[0m\u001b[0;34m\u001b[0m\u001b[0;34m\u001b[0m\u001b[0m\n\u001b[0;32m----> 2\u001b[0;31m \u001b[0;32massert\u001b[0m \u001b[0mcheck_layer_gradient\u001b[0m\u001b[0;34m(\u001b[0m\u001b[0mFullyConnectedLayer\u001b[0m\u001b[0;34m(\u001b[0m\u001b[0;36m3\u001b[0m\u001b[0;34m,\u001b[0m \u001b[0;36m4\u001b[0m\u001b[0;34m)\u001b[0m\u001b[0;34m,\u001b[0m \u001b[0mX\u001b[0m\u001b[0;34m)\u001b[0m\u001b[0;34m\u001b[0m\u001b[0;34m\u001b[0m\u001b[0m\n\u001b[0m\u001b[1;32m      3\u001b[0m \u001b[0;31m# TODO: Implement storing gradients for W and B\u001b[0m\u001b[0;34m\u001b[0m\u001b[0;34m\u001b[0m\u001b[0;34m\u001b[0m\u001b[0m\n\u001b[1;32m      4\u001b[0m \u001b[0;32massert\u001b[0m \u001b[0mcheck_layer_param_gradient\u001b[0m\u001b[0;34m(\u001b[0m\u001b[0mFullyConnectedLayer\u001b[0m\u001b[0;34m(\u001b[0m\u001b[0;36m3\u001b[0m\u001b[0;34m,\u001b[0m \u001b[0;36m4\u001b[0m\u001b[0;34m)\u001b[0m\u001b[0;34m,\u001b[0m \u001b[0mX\u001b[0m\u001b[0;34m,\u001b[0m \u001b[0;34m'W'\u001b[0m\u001b[0;34m)\u001b[0m\u001b[0;34m\u001b[0m\u001b[0;34m\u001b[0m\u001b[0m\n\u001b[1;32m      5\u001b[0m \u001b[0;32massert\u001b[0m \u001b[0mcheck_layer_param_gradient\u001b[0m\u001b[0;34m(\u001b[0m\u001b[0mFullyConnectedLayer\u001b[0m\u001b[0;34m(\u001b[0m\u001b[0;36m3\u001b[0m\u001b[0;34m,\u001b[0m \u001b[0;36m4\u001b[0m\u001b[0;34m)\u001b[0m\u001b[0;34m,\u001b[0m \u001b[0mX\u001b[0m\u001b[0;34m,\u001b[0m \u001b[0;34m'B'\u001b[0m\u001b[0;34m)\u001b[0m\u001b[0;34m\u001b[0m\u001b[0;34m\u001b[0m\u001b[0m\n",
      "\u001b[0;31mAssertionError\u001b[0m: "
     ]
    }
   ],
   "source": [
    "# TODO: Implement FullyConnected layer forward and backward methods\n",
    "assert check_layer_gradient(FullyConnectedLayer(3, 4), X)\n",
    "# TODO: Implement storing gradients for W and B\n",
    "assert check_layer_param_gradient(FullyConnectedLayer(3, 4), X, 'W')\n",
    "assert check_layer_param_gradient(FullyConnectedLayer(3, 4), X, 'B')"
   ]
  },
  {
   "cell_type": "code",
   "execution_count": 6,
   "metadata": {},
   "outputs": [
    {
     "name": "stdout",
     "output_type": "stream",
     "text": [
      "Checking gradient for W1\n",
      "CHECK GRADIENT\n",
      "x is \n",
      " [[ 5.55132245e-04 -8.29725676e-04 -9.95647818e-04]\n",
      " [ 7.71607110e-04  8.55758768e-04 -1.27373828e-03]\n",
      " [-1.23679768e-03 -4.45049694e-04 -7.11304833e-04]\n",
      " ...\n",
      " [-1.27559794e-03 -5.69992050e-04  4.02575187e-04]\n",
      " [ 2.28669670e-04  1.30825243e-03  7.03814008e-06]\n",
      " [-1.76402810e-04 -1.57398266e-03 -8.06722910e-04]]\n",
      "analytic grad is \n",
      " [[ 2.10787160e-05  0.00000000e+00 -4.47056165e-05]\n",
      " [ 2.51157965e-05  0.00000000e+00 -9.99876323e-06]\n",
      " [ 7.14281875e-05  0.00000000e+00  8.78028877e-05]\n",
      " ...\n",
      " [-1.96137432e-04  0.00000000e+00 -1.67966637e-04]\n",
      " [-1.75261159e-04  0.00000000e+00 -1.05706581e-04]\n",
      " [-1.39601392e-04  0.00000000e+00 -5.89752946e-06]]\n",
      "numeric grad array is \n",
      " [[ 2.10787388e-05  0.00000000e+00 -4.47056170e-05]\n",
      " [ 2.51157761e-05  0.00000000e+00 -9.99875738e-06]\n",
      " [ 7.14281967e-05  0.00000000e+00  8.78028317e-05]\n",
      " ...\n",
      " [-1.96137417e-04  0.00000000e+00 -1.67966618e-04]\n",
      " [-1.75261183e-04  0.00000000e+00 -1.05706555e-04]\n",
      " [-1.39601397e-04  0.00000000e+00 -5.89750471e-06]]\n",
      "==========================================\n",
      "Gradient check passed!\n",
      "Checking gradient for B1\n",
      "CHECK GRADIENT\n",
      "x is \n",
      " [[0.00030877 0.00020965 0.00059489]]\n",
      "analytic grad is \n",
      " [[0.00130691 0.         0.0012144 ]]\n",
      "numeric grad array is \n",
      " [[0.00130691 0.         0.0012144 ]]\n",
      "==========================================\n",
      "Gradient check passed!\n",
      "Checking gradient for W2\n",
      "CHECK GRADIENT\n",
      "x is \n",
      " [[ 4.50579966e-04 -1.13369895e-04 -1.00169490e-03  5.72206238e-07\n",
      "  -4.42453306e-05  1.37182170e-03  1.32818671e-03 -4.78779360e-04\n",
      "  -6.21921862e-04 -1.35368424e-03]\n",
      " [-1.64887936e-04 -4.74207191e-04  2.60732660e-03 -1.11537936e-03\n",
      "   5.85809885e-05 -6.42860709e-04  2.46170563e-05 -3.33396175e-04\n",
      "   8.11497021e-04  4.40318121e-04]\n",
      " [ 7.78065094e-04 -7.52003507e-04  1.07930320e-03 -4.81700301e-04\n",
      "  -1.40624710e-03 -1.81890390e-04  1.13365528e-04 -1.24974132e-03\n",
      "   8.73595653e-04 -8.11160120e-04]]\n",
      "analytic grad is \n",
      " [[ 0.00075007  0.0007507   0.00075134  0.00074979  0.00075141  0.00074909\n",
      "   0.00075096  0.00074985  0.0007501  -0.00675332]\n",
      " [ 0.          0.          0.          0.          0.          0.\n",
      "   0.          0.          0.          0.        ]\n",
      " [ 0.00100245  0.0010033   0.00100417  0.00100208  0.00100423  0.00100114\n",
      "   0.00100364  0.00100216  0.00100251 -0.00902569]]\n",
      "numeric grad array is \n",
      " [[ 0.00075007  0.0007507   0.00075134  0.00074979  0.00075141  0.00074909\n",
      "   0.00075096  0.00074985  0.0007501  -0.00675332]\n",
      " [ 0.          0.          0.          0.          0.          0.\n",
      "   0.          0.          0.          0.        ]\n",
      " [ 0.00100245  0.0010033   0.00100417  0.00100208  0.00100423  0.00100114\n",
      "   0.00100364  0.00100216  0.00100251 -0.00902569]]\n",
      "==========================================\n",
      "Gradient check passed!\n",
      "Checking gradient for B2\n",
      "CHECK GRADIENT\n",
      "x is \n",
      " [[-8.53957830e-04 -4.08463070e-08  8.57303791e-04 -1.21582330e-03\n",
      "   9.40628271e-04 -2.15936653e-03  3.30667965e-04 -1.12969417e-03\n",
      "  -7.98550619e-04  1.73788752e-03]]\n",
      "analytic grad is \n",
      " [[ 0.19987629  0.20004509  0.20021784  0.19980238  0.20023275  0.19961527\n",
      "   0.20011321  0.19981846  0.19988666 -1.79960795]]\n",
      "numeric grad array is \n",
      " [[ 0.19987629  0.20004509  0.20021784  0.19980238  0.20023275  0.19961527\n",
      "   0.20011321  0.19981846  0.19988666 -1.79960795]]\n",
      "==========================================\n",
      "Gradient check passed!\n"
     ]
    },
    {
     "data": {
      "text/plain": [
       "True"
      ]
     },
     "execution_count": 6,
     "metadata": {},
     "output_type": "execute_result"
    }
   ],
   "source": [
    "# TODO: In model.py, implement compute_loss_and_gradients function\n",
    "batch_size = 2\n",
    "model = TwoLayerNet(n_input = train_X.shape[1], n_output = 10, hidden_layer_size = 3, reg = 0)\n",
    "loss = model.compute_loss_and_gradients(train_X[:batch_size], train_y[:batch_size])\n",
    "\n",
    "# TODO Now implement backward pass and aggregate all of the params\n",
    "check_model_gradient(model, train_X[:batch_size], train_y[:batch_size])"
   ]
  },
  {
   "cell_type": "code",
   "execution_count": 24,
   "metadata": {},
   "outputs": [
    {
     "name": "stdout",
     "output_type": "stream",
     "text": [
      "Checking gradient for W1\n",
      "CHECK GRADIENT\n",
      "x is \n",
      " [[ 9.41373293e-04  5.33324902e-04  5.27535078e-04]\n",
      " [ 2.89300749e-05  1.20871730e-03 -1.32706239e-03]\n",
      " [-1.09817308e-03  1.09664790e-03 -2.82905448e-04]\n",
      " ...\n",
      " [ 1.96881473e-03  1.03123924e-03 -7.40687847e-04]\n",
      " [ 5.48426909e-05 -2.26804832e-04 -5.89332079e-04]\n",
      " [-9.09640639e-05 -1.32315561e-04  1.83669030e-03]]\n",
      "analytic grad is \n",
      " [[ 0.0186935   0.01064296  0.01057437]\n",
      " [ 0.00052534  0.02416908 -0.02651305]\n",
      " [-0.02182921  0.02197919 -0.00557791]\n",
      " ...\n",
      " [ 0.03918741  0.02053633 -0.01503398]\n",
      " [ 0.00103717 -0.00459176 -0.01198342]\n",
      " [-0.00167435 -0.00264942  0.03657706]]\n",
      "numeric grad array is \n",
      " [[ 0.0186935   0.01064296  0.01057437]\n",
      " [ 0.00052534  0.02416908 -0.02651305]\n",
      " [-0.02182921  0.02197919 -0.00557791]\n",
      " ...\n",
      " [ 0.03918741  0.02053633 -0.01503398]\n",
      " [ 0.00103717 -0.00459176 -0.01198342]\n",
      " [-0.00167435 -0.00264942  0.03657706]]\n",
      "==========================================\n",
      "Gradient check passed!\n",
      "Checking gradient for B1\n",
      "CHECK GRADIENT\n",
      "x is \n",
      " [[0.00032891 0.0008259  0.0010484 ]]\n",
      "analytic grad is \n",
      " [[0.00807071 0.01715756 0.02243546]]\n",
      "numeric grad array is \n",
      " [[0.00807071 0.01715756 0.02243546]]\n",
      "==========================================\n",
      "Gradient check passed!\n",
      "Checking gradient for W2\n",
      "CHECK GRADIENT\n",
      "x is \n",
      " [[ 0.00075524  0.00136486 -0.00037158  0.00095953  0.00196192 -0.00072092\n",
      "  -0.00033973 -0.00041484  0.00215555 -0.00106349]\n",
      " [ 0.00011032  0.00049214 -0.00054927 -0.00099146 -0.00081983 -0.00025044\n",
      "  -0.0005347   0.00144329 -0.000526   -0.00053585]\n",
      " [ 0.00039448  0.00029035 -0.00318717 -0.0008692  -0.00050535 -0.00101134\n",
      "   0.00096241 -0.00149581  0.00105101 -0.00211548]]\n",
      "analytic grad is \n",
      " [[ 0.0163484   0.02854278 -0.00618885  0.02043422  0.04048331 -0.01317366\n",
      "  -0.00555077 -0.00705349  0.04435441 -0.03246546]\n",
      " [ 0.00291554  0.01055311 -0.01027669 -0.01912011 -0.01568671 -0.004299\n",
      "  -0.00998474  0.02957485 -0.00981097 -0.01710124]\n",
      " [ 0.00793393  0.00585146 -0.06369904 -0.01733952 -0.01006254 -0.02018241\n",
      "   0.01929269 -0.02987177  0.02106458 -0.04270932]]\n",
      "numeric grad array is \n",
      " [[ 0.0163484   0.02854278 -0.00618885  0.02043422  0.04048331 -0.01317366\n",
      "  -0.00555077 -0.00705349  0.04435441 -0.03246546]\n",
      " [ 0.00291554  0.01055311 -0.01027669 -0.01912011 -0.01568671 -0.004299\n",
      "  -0.00998474  0.02957485 -0.00981097 -0.01710124]\n",
      " [ 0.00793393  0.00585146 -0.06369904 -0.01733952 -0.01006254 -0.02018241\n",
      "   0.01929269 -0.02987177  0.02106458 -0.04270932]]\n",
      "==========================================\n",
      "Gradient check passed!\n",
      "Checking gradient for B2\n",
      "CHECK GRADIENT\n",
      "x is \n",
      " [[ 8.09637565e-05  1.56413694e-03 -5.94751104e-04  2.34161471e-05\n",
      "   1.02766729e-03  9.99364008e-04  3.02354480e-04 -1.81913639e-04\n",
      "  -1.92132397e-04 -1.39008860e-03]]\n",
      "analytic grad is \n",
      " [[ 0.2016033   0.23156463  0.18795189  0.20044026  0.22072759  0.2201529\n",
      "   0.2060736   0.1962926   0.19608809 -1.82811454]]\n",
      "numeric grad array is \n",
      " [[ 0.2016033   0.23156463  0.18795189  0.20044026  0.22072759  0.2201529\n",
      "   0.2060736   0.1962926   0.19608809 -1.82811454]]\n",
      "==========================================\n",
      "Gradient check passed!\n"
     ]
    },
    {
     "data": {
      "text/plain": [
       "True"
      ]
     },
     "execution_count": 24,
     "metadata": {},
     "output_type": "execute_result"
    }
   ],
   "source": [
    "# TODO Now implement l2 regularization in the forward and backward pass\n",
    "model_with_reg = TwoLayerNet(n_input = train_X.shape[1], n_output = 10, hidden_layer_size = 3, reg = 1e1)\n",
    "loss_with_reg = model_with_reg.compute_loss_and_gradients(train_X[:2], train_y[:2])\n",
    "assert loss_with_reg > loss and not np.isclose(loss_with_reg, loss), \\\n",
    "    \"Loss with regularization (%2.4f) should be higher than without it (%2.4f)!\" % (loss, loss_with_reg)\n",
    "\n",
    "check_model_gradient(model_with_reg, train_X[:2], train_y[:2])"
   ]
  },
  {
   "cell_type": "code",
   "execution_count": 25,
   "metadata": {},
   "outputs": [
    {
     "data": {
      "text/plain": [
       "0.16666666666666666"
      ]
     },
     "execution_count": 25,
     "metadata": {},
     "output_type": "execute_result"
    }
   ],
   "source": [
    "# Finally, implement predict function!\n",
    "\n",
    "# TODO: Implement predict function\n",
    "# What would be the value we expect?\n",
    "multiclass_accuracy(model_with_reg.predict(train_X[:30]), train_y[:30]) "
   ]
  },
  {
   "cell_type": "markdown",
   "metadata": {},
   "source": [
    "**Допишем код для процесса тренировки**\n",
    "\n",
    "\n",
    "Если все реализовано корректно, значение функции ошибки должно уменьшаться с каждой эпохой, пусть и медленно. Не беспокойтесь пока про validation accuracy."
   ]
  },
  {
   "cell_type": "code",
   "execution_count": 38,
   "metadata": {},
   "outputs": [
    {
     "name": "stdout",
     "output_type": "stream",
     "text": [
      "X shape is\n",
      " (9000, 3072)\n",
      "y shape is\n",
      " (9000,)\n",
      "Loss: 33.650671, Train accuracy: 0.385667, val accuracy: 0.412000\n",
      "test accuracy is  38.56666666666666\n",
      "Loss: 21.759588, Train accuracy: 0.533667, val accuracy: 0.528000\n",
      "test accuracy is  53.36666666666666\n",
      "Loss: 32.320432, Train accuracy: 0.654778, val accuracy: 0.642000\n",
      "test accuracy is  65.47777777777777\n",
      "Loss: 29.677727, Train accuracy: 0.667333, val accuracy: 0.615000\n",
      "test accuracy is  66.73333333333333\n",
      "Loss: 34.792962, Train accuracy: 0.693556, val accuracy: 0.670000\n",
      "test accuracy is  69.35555555555555\n",
      "Loss: 31.532961, Train accuracy: 0.624889, val accuracy: 0.591000\n",
      "test accuracy is  62.488888888888894\n",
      "Loss: 23.974836, Train accuracy: 0.705222, val accuracy: 0.662000\n",
      "test accuracy is  70.52222222222223\n",
      "Loss: 20.869080, Train accuracy: 0.727778, val accuracy: 0.678000\n",
      "test accuracy is  72.77777777777777\n",
      "Loss: 18.850755, Train accuracy: 0.714889, val accuracy: 0.657000\n",
      "test accuracy is  71.4888888888889\n",
      "Loss: 20.890261, Train accuracy: 0.767889, val accuracy: 0.697000\n",
      "test accuracy is  76.78888888888889\n",
      "Loss: 9.663598, Train accuracy: 0.761000, val accuracy: 0.666000\n",
      "test accuracy is  76.1\n",
      "Loss: 10.616414, Train accuracy: 0.778111, val accuracy: 0.686000\n",
      "test accuracy is  77.8111111111111\n",
      "Loss: 16.475030, Train accuracy: 0.775889, val accuracy: 0.701000\n",
      "test accuracy is  77.58888888888889\n",
      "Loss: 6.434413, Train accuracy: 0.793667, val accuracy: 0.709000\n",
      "test accuracy is  79.36666666666666\n",
      "Loss: 7.807313, Train accuracy: 0.820667, val accuracy: 0.726000\n",
      "test accuracy is  82.06666666666666\n",
      "Loss: 9.208726, Train accuracy: 0.810222, val accuracy: 0.693000\n",
      "test accuracy is  81.02222222222221\n",
      "Loss: 9.534019, Train accuracy: 0.821889, val accuracy: 0.706000\n",
      "test accuracy is  82.18888888888888\n",
      "Loss: 37.320097, Train accuracy: 0.805333, val accuracy: 0.705000\n",
      "test accuracy is  80.53333333333333\n",
      "Loss: 26.360742, Train accuracy: 0.828333, val accuracy: 0.705000\n",
      "test accuracy is  82.83333333333334\n",
      "Loss: 8.483057, Train accuracy: 0.838556, val accuracy: 0.704000\n",
      "test accuracy is  83.85555555555555\n"
     ]
    }
   ],
   "source": [
    "model = TwoLayerNet(n_input = train_X.shape[1], n_output = 10, hidden_layer_size = 100, reg = 1e-3)\n",
    "dataset = Dataset(train_X, train_y, val_X, val_y)\n",
    "trainer = Trainer(model, dataset, SGD(),num_epochs =20, batch_size=20, learning_rate = 1e-2)\n",
    "\n",
    "# TODO Implement missing pieces in Trainer.fit function\n",
    "# You should expect loss to go down every epoch, even if it's slow\n",
    "loss_history, train_history, val_history = trainer.fit()"
   ]
  },
  {
   "cell_type": "code",
   "execution_count": 39,
   "metadata": {},
   "outputs": [
    {
     "data": {
      "text/plain": [
       "[<matplotlib.lines.Line2D at 0x7f4ff6856400>]"
      ]
     },
     "execution_count": 39,
     "metadata": {},
     "output_type": "execute_result"
    },
    {
     "data": {
      "image/png": "[encoded data removed]",
      "text/plain": [
       "<Figure size 432x288 with 1 Axes>"
      ]
     },
     "metadata": {
      "needs_background": "light"
     },
     "output_type": "display_data"
    }
   ],
   "source": [
    "plt.plot(loss_history)\n",
    "# plt.plot(train_history)\n",
    "# plt.plot(val_history)"
   ]
  },
  {
   "cell_type": "code",
   "execution_count": 40,
   "metadata": {},
   "outputs": [
    {
     "name": "stdout",
     "output_type": "stream",
     "text": [
      "test x is  (1000, 3072)\n",
      "test pred is \n",
      " [2 1 8 1 2 5 0 1 7 1]\n",
      "test_y  is \n",
      " [2 1 3 0 2 5 0 1 7 1]\n"
     ]
    },
    {
     "data": {
      "image/png": "[encoded data removed]",
      "text/plain": [
       "<Figure size 432x288 with 10 Axes>"
      ]
     },
     "metadata": {
      "needs_background": "light"
     },
     "output_type": "display_data"
    },
    {
     "name": "stdout",
     "output_type": "stream",
     "text": [
      "Neural network classifier test set accuracy: 69.800000\n"
     ]
    }
   ],
   "source": [
    "# model = TwoLayerNet(n_input = train_X.shape[1], n_output = 10, hidden_layer_size = 100, reg = 1e1)\n",
    "\n",
    "\n",
    "number = 10\n",
    "print(\"test x is \", test_X.shape)\n",
    "test_pred = model.predict(test_X[:number])\n",
    "print(\"test pred is \\n\", test_pred)\n",
    "print(\"test_y  is \\n\", test_y[:number])\n",
    "plot_index = 1\n",
    "for class_index in range(number):\n",
    "        plt.subplot(1, number, plot_index)\n",
    "        \n",
    "        image = old_test_X[class_index]\n",
    "        plt.imshow(image.astype(np.uint8))\n",
    "        plt.axis('off')\n",
    "        plot_index += 1\n",
    "\n",
    "plt.show()\n",
    "# print(\"test pred is \\n\", test_pred[:number])\n",
    "\n",
    "test_pred = model.predict(test_X)\n",
    "test_accuracy = multiclass_accuracy(test_pred, test_y)*100\n",
    "print('Neural network classifier test set accuracy: %f' % (test_accuracy, ))"
   ]
  },
  {
   "cell_type": "code",
   "execution_count": 45,
   "metadata": {},
   "outputs": [
    {
     "name": "stdout",
     "output_type": "stream",
     "text": [
      "[[ 1.   -6.    9.  ]\n",
      " [ 1.    4.    0.01]]\n",
      "loss is  12\n",
      "X is \n",
      " [[ 1.  -2.   3. ]\n",
      " [-1.   2.   0.1]]\n"
     ]
    }
   ],
   "source": [
    "X = np.array([[1,-2,3],\n",
    "              [-1, 2, 0.1]\n",
    "              ])\n",
    "\n",
    "Y = np.array([[1,3,3],\n",
    "              [-1, 2, 0.1]\n",
    "              ])\n",
    "print(X*Y)\n",
    "\n",
    "mapa = {'X': X, 'Y': Y}\n",
    "mapa['X'] = np.zeros_like(X)\n",
    "\n",
    "zer = np.ones((3,4))\n",
    "loss = 3\n",
    "reg_loss1 = 2\n",
    "reg_loss2 = 7\n",
    "loss += reg_loss1 + reg_loss2\n",
    "# print(\"zer\\n\",zer)\n",
    "print(\"loss is \", loss)\n",
    "print(\"X is \\n\", X)"
   ]
  }
 ],
 "metadata": {
  "kernelspec": {
   "display_name": "Python 3.8.10 64-bit",
   "language": "python",
   "name": "python3"
  },
  "language_info": {
   "codemirror_mode": {
    "name": "ipython",
    "version": 3
   },
   "file_extension": ".py",
   "mimetype": "text/x-python",
   "name": "python",
   "nbconvert_exporter": "python",
   "pygments_lexer": "ipython3",
   "version": "3.8.10"
  },
  "orig_nbformat": 4,
  "vscode": {
   "interpreter": {
    "hash": "916dbcbb3f70747c44a77c7bcd40155683ae19c65e1c03b4aa3499c5328201f1"
   }
  }
 },
 "nbformat": 4,
 "nbformat_minor": 2
}
