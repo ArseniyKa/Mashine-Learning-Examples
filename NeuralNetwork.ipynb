{
 "cells": [
  {
   "cell_type": "code",
   "execution_count": 1,
   "metadata": {},
   "outputs": [],
   "source": [
    "import numpy as np\n",
    "import matplotlib.pyplot as plt\n",
    "\n",
    "%matplotlib inline\n",
    "\n",
    "%load_ext autoreload\n",
    "%autoreload 2"
   ]
  },
  {
   "cell_type": "code",
   "execution_count": 2,
   "metadata": {},
   "outputs": [],
   "source": [
    "from dataset import load_svhn, random_split_train_val\n",
    "from gradient_check import check_layer_gradient, check_layer_param_gradient, check_model_gradient\n",
    "from layers import FullyConnectedLayer, ReLULayer\n",
    "from model import TwoLayerNet\n",
    "from trainer import Trainer, Dataset\n",
    "from optim import SGD, MomentumSGD\n",
    "from metrics import multiclass_accuracy"
   ]
  },
  {
   "cell_type": "code",
   "execution_count": 3,
   "metadata": {},
   "outputs": [
    {
     "name": "stdout",
     "output_type": "stream",
     "text": [
      "old shape  (10000, 32, 32, 3)\n"
     ]
    }
   ],
   "source": [
    "def prepare_for_neural_network(train_X, test_X):\n",
    "    train_flat = train_X.reshape(train_X.shape[0], -1).astype(float) / 255.0\n",
    "    test_flat = test_X.reshape(test_X.shape[0], -1).astype(float) / 255.0\n",
    "    \n",
    "    # Subtract mean\n",
    "    mean_image = np.mean(train_flat, axis = 0)\n",
    "    train_flat -= mean_image\n",
    "    test_flat -= mean_image\n",
    "    \n",
    "    return train_flat, test_flat\n",
    "    \n",
    "train_X, train_y, test_X, test_y = load_svhn(\"data\", max_train=10000, max_test=1000)  \n",
    "old_shape = train_X.shape\n",
    "print(\"old shape \", old_shape)\n",
    "old_test_X = test_X.copy()  \n",
    "train_X, test_X = prepare_for_neural_network(train_X, test_X)\n",
    "\n",
    "# Split train into train and val\n",
    "train_X, train_y, val_X, val_y = random_split_train_val(train_X, train_y, num_val = 1000)"
   ]
  },
  {
   "cell_type": "markdown",
   "metadata": {},
   "source": [
    "Как всегда, начинаем с кирпичиков\n",
    "\n",
    "Мы будем реализовывать необходимые нам слои по очереди. Каждый слой должен реализовать:\n",
    "\n",
    "прямой проход (forward pass), который генерирует выход слоя по входу и запоминает необходимые данные\n",
    "обратный проход (backward pass), который получает градиент по выходу слоя и вычисляет градиент по входу и по параметрам\n",
    "Начнем с ReLU, у которого параметров нет."
   ]
  },
  {
   "cell_type": "code",
   "execution_count": 4,
   "metadata": {},
   "outputs": [
    {
     "name": "stdout",
     "output_type": "stream",
     "text": [
      "CHECK GRADIENT\n",
      "x is \n",
      " [[ 1.  -2.   3. ]\n",
      " [-1.   2.   0.1]]\n",
      "analytic grad is \n",
      " [[ 1.61599406  0.          2.76252524]\n",
      " [-0.         -0.5060347  -0.94302519]]\n",
      "numeric grad array is \n",
      " [[ 1.61599406  0.          2.76252524]\n",
      " [ 0.         -0.5060347  -0.94302519]]\n",
      "==========================================\n",
      "Gradient check passed!\n"
     ]
    }
   ],
   "source": [
    "# TODO: Implement ReLULayer layer in layers.py\n",
    "# Note: you'll need to copy implementation of the gradient_check function from the previous assignment\n",
    "\n",
    "X = np.array([[1,-2,3], [-1, 2, 0.1]])\n",
    "\n",
    "assert check_layer_gradient(ReLULayer(), X)"
   ]
  },
  {
   "cell_type": "code",
   "execution_count": 5,
   "metadata": {},
   "outputs": [
    {
     "name": "stdout",
     "output_type": "stream",
     "text": [
      "CHECK GRADIENT\n",
      "x is \n",
      " [[ 1.  -2.   3. ]\n",
      " [-1.   2.   0.1]]\n",
      "analytic grad is \n",
      " [[ 4.18948095e-04  1.76337767e-03 -3.49979411e-04]\n",
      " [ 7.82747412e-05 -6.12293143e-04 -1.09946675e-03]]\n",
      "numeric grad array is \n",
      " [[ 4.18948095e-04  1.76337767e-03 -3.49979411e-04]\n",
      " [ 7.82747412e-05 -6.12293143e-04 -1.09946675e-03]]\n",
      "==========================================\n",
      "Gradient check passed!\n",
      "CHECK GRADIENT\n",
      "x is \n",
      " [[-1.97365551e-03  6.80635002e-04  5.55869402e-05  5.41565103e-04]\n",
      " [ 1.83213048e-04 -5.59157557e-04  8.94307167e-04  1.98126611e-04]\n",
      " [-1.28938649e-03  1.30851716e-03 -1.43047956e-03  9.00929234e-04]]\n",
      "analytic grad is \n",
      " [[-1.67429365  2.15318718 -0.15893916 -0.56958173]\n",
      " [ 3.34858731 -4.30637437  0.31787831  1.13916345]\n",
      " [-0.36258122  5.45842018 -3.37773459 -0.89339967]]\n",
      "numeric grad array is \n",
      " [[-1.67429365  2.15318718 -0.15893916 -0.56958173]\n",
      " [ 3.34858731 -4.30637437  0.31787831  1.13916345]\n",
      " [-0.36258122  5.45842018 -3.37773459 -0.89339967]]\n",
      "==========================================\n",
      "Gradient check passed!\n",
      "CHECK GRADIENT\n",
      "x is \n",
      " [[-1.33418835e-03  2.29823155e-04  1.28956322e-03  3.55224308e-05]]\n",
      "analytic grad is \n",
      " [[-0.632844   -0.39002832  1.75340995  0.51081366]]\n",
      "numeric grad array is \n",
      " [[-0.632844   -0.39002832  1.75340995  0.51081366]]\n",
      "==========================================\n",
      "Gradient check passed!\n"
     ]
    }
   ],
   "source": [
    "# TODO: Implement FullyConnected layer forward and backward methods\n",
    "assert check_layer_gradient(FullyConnectedLayer(3, 4), X)\n",
    "# TODO: Implement storing gradients for W and B\n",
    "assert check_layer_param_gradient(FullyConnectedLayer(3, 4), X, 'W')\n",
    "assert check_layer_param_gradient(FullyConnectedLayer(3, 4), X, 'B')"
   ]
  },
  {
   "cell_type": "code",
   "execution_count": 6,
   "metadata": {},
   "outputs": [
    {
     "name": "stdout",
     "output_type": "stream",
     "text": [
      "Checking gradient for W1\n",
      "CHECK GRADIENT\n",
      "x is \n",
      " [[ 5.55132245e-04 -8.29725676e-04 -9.95647818e-04]\n",
      " [ 7.71607110e-04  8.55758768e-04 -1.27373828e-03]\n",
      " [-1.23679768e-03 -4.45049694e-04 -7.11304833e-04]\n",
      " ...\n",
      " [-1.27559794e-03 -5.69992050e-04  4.02575187e-04]\n",
      " [ 2.28669670e-04  1.30825243e-03  7.03814008e-06]\n",
      " [-1.76402810e-04 -1.57398266e-03 -8.06722910e-04]]\n",
      "analytic grad is \n",
      " [[ 2.10787160e-05  0.00000000e+00 -4.47056165e-05]\n",
      " [ 2.51157965e-05  0.00000000e+00 -9.99876323e-06]\n",
      " [ 7.14281875e-05  0.00000000e+00  8.78028877e-05]\n",
      " ...\n",
      " [-1.96137432e-04  0.00000000e+00 -1.67966637e-04]\n",
      " [-1.75261159e-04  0.00000000e+00 -1.05706581e-04]\n",
      " [-1.39601392e-04  0.00000000e+00 -5.89752946e-06]]\n",
      "numeric grad array is \n",
      " [[ 2.10787388e-05  0.00000000e+00 -4.47056170e-05]\n",
      " [ 2.51157761e-05  0.00000000e+00 -9.99875738e-06]\n",
      " [ 7.14281967e-05  0.00000000e+00  8.78028317e-05]\n",
      " ...\n",
      " [-1.96137417e-04  0.00000000e+00 -1.67966618e-04]\n",
      " [-1.75261183e-04  0.00000000e+00 -1.05706555e-04]\n",
      " [-1.39601397e-04  0.00000000e+00 -5.89750471e-06]]\n",
      "==========================================\n",
      "Gradient check passed!\n",
      "Checking gradient for B1\n",
      "CHECK GRADIENT\n",
      "x is \n",
      " [[0.00030877 0.00020965 0.00059489]]\n",
      "analytic grad is \n",
      " [[0.00130691 0.         0.0012144 ]]\n",
      "numeric grad array is \n",
      " [[0.00130691 0.         0.0012144 ]]\n",
      "==========================================\n",
      "Gradient check passed!\n",
      "Checking gradient for W2\n",
      "CHECK GRADIENT\n",
      "x is \n",
      " [[ 4.50579966e-04 -1.13369895e-04 -1.00169490e-03  5.72206238e-07\n",
      "  -4.42453306e-05  1.37182170e-03  1.32818671e-03 -4.78779360e-04\n",
      "  -6.21921862e-04 -1.35368424e-03]\n",
      " [-1.64887936e-04 -4.74207191e-04  2.60732660e-03 -1.11537936e-03\n",
      "   5.85809885e-05 -6.42860709e-04  2.46170563e-05 -3.33396175e-04\n",
      "   8.11497021e-04  4.40318121e-04]\n",
      " [ 7.78065094e-04 -7.52003507e-04  1.07930320e-03 -4.81700301e-04\n",
      "  -1.40624710e-03 -1.81890390e-04  1.13365528e-04 -1.24974132e-03\n",
      "   8.73595653e-04 -8.11160120e-04]]\n",
      "analytic grad is \n",
      " [[ 0.00075007  0.0007507   0.00075134  0.00074979  0.00075141  0.00074909\n",
      "   0.00075096  0.00074985  0.0007501  -0.00675332]\n",
      " [ 0.          0.          0.          0.          0.          0.\n",
      "   0.          0.          0.          0.        ]\n",
      " [ 0.00100245  0.0010033   0.00100417  0.00100208  0.00100423  0.00100114\n",
      "   0.00100364  0.00100216  0.00100251 -0.00902569]]\n",
      "numeric grad array is \n",
      " [[ 0.00075007  0.0007507   0.00075134  0.00074979  0.00075141  0.00074909\n",
      "   0.00075096  0.00074985  0.0007501  -0.00675332]\n",
      " [ 0.          0.          0.          0.          0.          0.\n",
      "   0.          0.          0.          0.        ]\n",
      " [ 0.00100245  0.0010033   0.00100417  0.00100208  0.00100423  0.00100114\n",
      "   0.00100364  0.00100216  0.00100251 -0.00902569]]\n",
      "==========================================\n",
      "Gradient check passed!\n",
      "Checking gradient for B2\n",
      "CHECK GRADIENT\n",
      "x is \n",
      " [[-8.53957830e-04 -4.08463070e-08  8.57303791e-04 -1.21582330e-03\n",
      "   9.40628271e-04 -2.15936653e-03  3.30667965e-04 -1.12969417e-03\n",
      "  -7.98550619e-04  1.73788752e-03]]\n",
      "analytic grad is \n",
      " [[ 0.19987629  0.20004509  0.20021784  0.19980238  0.20023275  0.19961527\n",
      "   0.20011321  0.19981846  0.19988666 -1.79960795]]\n",
      "numeric grad array is \n",
      " [[ 0.19987629  0.20004509  0.20021784  0.19980238  0.20023275  0.19961527\n",
      "   0.20011321  0.19981846  0.19988666 -1.79960795]]\n",
      "==========================================\n",
      "Gradient check passed!\n"
     ]
    },
    {
     "data": {
      "text/plain": [
       "True"
      ]
     },
     "execution_count": 6,
     "metadata": {},
     "output_type": "execute_result"
    }
   ],
   "source": [
    "# TODO: In model.py, implement compute_loss_and_gradients function\n",
    "batch_size = 2\n",
    "model = TwoLayerNet(n_input = train_X.shape[1], n_output = 10, hidden_layer_size = 3, reg = 0)\n",
    "loss = model.compute_loss_and_gradients(train_X[:batch_size], train_y[:batch_size])\n",
    "\n",
    "# TODO Now implement backward pass and aggregate all of the params\n",
    "check_model_gradient(model, train_X[:batch_size], train_y[:batch_size])"
   ]
  },
  {
   "cell_type": "code",
   "execution_count": 7,
   "metadata": {},
   "outputs": [
    {
     "name": "stdout",
     "output_type": "stream",
     "text": [
      "Checking gradient for W1\n",
      "CHECK GRADIENT\n",
      "x is \n",
      " [[-9.88162631e-04 -5.62436018e-05 -1.06671111e-03]\n",
      " [ 7.69188816e-04  4.08942767e-04  5.49801863e-04]\n",
      " [ 1.13086936e-03 -3.37809772e-04  1.07450757e-03]\n",
      " ...\n",
      " [-4.79073444e-04  3.42822914e-04 -1.04962798e-04]\n",
      " [ 1.54995685e-03 -3.56086006e-04  4.46385075e-04]\n",
      " [ 1.08696651e-03  6.55927424e-04  5.42182697e-04]]\n",
      "analytic grad is \n",
      " [[-0.01976325 -0.00123181 -0.02137282]\n",
      " [ 0.01538378  0.00813634  0.01095005]\n",
      " [ 0.02261739 -0.00664902  0.02135936]\n",
      " ...\n",
      " [-0.00958147  0.00670568 -0.00174011]\n",
      " [ 0.03099914 -0.00716936  0.00924862]\n",
      " [ 0.02173933  0.01323425  0.01109928]]\n",
      "numeric grad array is \n",
      " [[-0.01976325 -0.00123181 -0.02137282]\n",
      " [ 0.01538378  0.00813634  0.01095005]\n",
      " [ 0.02261739 -0.00664902  0.02135936]\n",
      " ...\n",
      " [-0.00958147  0.00670568 -0.00174011]\n",
      " [ 0.03099914 -0.00716936  0.00924862]\n",
      " [ 0.02173933  0.01323425  0.01109928]]\n",
      "==========================================\n",
      "Gradient check passed!\n",
      "Checking gradient for B1\n",
      "CHECK GRADIENT\n",
      "x is \n",
      " [[-0.00050679  0.00011694  0.0004614 ]]\n",
      "analytic grad is \n",
      " [[-0.01013572  0.00353034  0.00683482]]\n",
      "numeric grad array is \n",
      " [[-0.01013572  0.00353034  0.00683482]]\n",
      "==========================================\n",
      "Gradient check passed!\n",
      "Checking gradient for W2\n",
      "CHECK GRADIENT\n",
      "x is \n",
      " [[ 1.69506483e-04  1.48183773e-03 -1.65787816e-04  3.34211924e-05\n",
      "   2.58313312e-03  8.30255822e-04 -9.68135474e-04  4.97956397e-04\n",
      "   7.93074372e-04 -8.01194272e-04]\n",
      " [-3.00991062e-04 -1.19129529e-03  2.93662461e-04 -1.62162465e-03\n",
      "  -7.88300735e-04 -1.38310413e-03  3.28534864e-04 -3.38712884e-04\n",
      "   3.97206082e-04 -1.83528705e-03]\n",
      " [-7.81282217e-04  7.89841815e-04 -1.15001560e-03  1.02261502e-03\n",
      "  -1.52234565e-04 -8.36778406e-04 -7.73067063e-04  2.14303940e-04\n",
      "   2.19478786e-03  2.71779392e-03]]\n",
      "analytic grad is \n",
      " [[ 0.00339013  0.02963675 -0.00331576  0.00066842  0.05166266  0.01660512\n",
      "  -0.01936271  0.00995913  0.01586149 -0.01602389]\n",
      " [-0.00432716 -0.02212987  0.00757102 -0.03073972 -0.01407216 -0.0259667\n",
      "   0.00826571 -0.00508168  0.00964033 -0.05195801]\n",
      " [-0.01523567  0.0161876  -0.02260916  0.02084232 -0.00265443 -0.01634495\n",
      "  -0.01507083  0.00467604  0.04428655  0.05084182]]\n",
      "numeric grad array is \n",
      " [[ 0.00339013  0.02963675 -0.00331576  0.00066842  0.05166266  0.01660512\n",
      "  -0.01936271  0.00995913  0.01586149 -0.01602389]\n",
      " [-0.00432716 -0.02212987  0.00757102 -0.03073972 -0.01407216 -0.0259667\n",
      "   0.00826571 -0.00508168  0.00964033 -0.05195801]\n",
      " [-0.01523567  0.0161876  -0.02260916  0.02084232 -0.00265443 -0.01634495\n",
      "  -0.01507083  0.00467604  0.04428655  0.05084182]]\n",
      "==========================================\n",
      "Gradient check passed!\n",
      "Checking gradient for B2\n",
      "CHECK GRADIENT\n",
      "x is \n",
      " [[-1.33526690e-03  6.72695507e-04  1.66664955e-03 -1.24523572e-03\n",
      "  -6.24663133e-04  2.90662384e-04  4.08770415e-05 -1.38447111e-03\n",
      "   7.47779479e-04  4.34562607e-04]]\n",
      "analytic grad is \n",
      " [[ 0.17304255  0.21360239  0.23368227  0.17485962  0.18739604  0.20588432\n",
      "   0.20084157  0.17204896  0.21512234 -1.79120827]]\n",
      "numeric grad array is \n",
      " [[ 0.17304255  0.21360239  0.23368227  0.17485962  0.18739604  0.20588432\n",
      "   0.20084157  0.17204896  0.21512234 -1.79120827]]\n",
      "==========================================\n",
      "Gradient check passed!\n"
     ]
    },
    {
     "data": {
      "text/plain": [
       "True"
      ]
     },
     "execution_count": 7,
     "metadata": {},
     "output_type": "execute_result"
    }
   ],
   "source": [
    "# TODO Now implement l2 regularization in the forward and backward pass\n",
    "model_with_reg = TwoLayerNet(n_input = train_X.shape[1], n_output = 10, hidden_layer_size = 3, reg = 1e1)\n",
    "loss_with_reg = model_with_reg.compute_loss_and_gradients(train_X[:2], train_y[:2])\n",
    "assert loss_with_reg > loss and not np.isclose(loss_with_reg, loss), \\\n",
    "    \"Loss with regularization (%2.4f) should be higher than without it (%2.4f)!\" % (loss, loss_with_reg)\n",
    "\n",
    "check_model_gradient(model_with_reg, train_X[:2], train_y[:2])"
   ]
  },
  {
   "cell_type": "code",
   "execution_count": 8,
   "metadata": {},
   "outputs": [
    {
     "data": {
      "text/plain": [
       "0.1"
      ]
     },
     "execution_count": 8,
     "metadata": {},
     "output_type": "execute_result"
    }
   ],
   "source": [
    "# Finally, implement predict function!\n",
    "\n",
    "# TODO: Implement predict function\n",
    "# What would be the value we expect?\n",
    "multiclass_accuracy(model_with_reg.predict(train_X[:30]), train_y[:30]) "
   ]
  },
  {
   "cell_type": "markdown",
   "metadata": {},
   "source": [
    "**Допишем код для процесса тренировки**\n",
    "\n",
    "\n",
    "Если все реализовано корректно, значение функции ошибки должно уменьшаться с каждой эпохой, пусть и медленно. Не беспокойтесь пока про validation accuracy."
   ]
  },
  {
   "cell_type": "code",
   "execution_count": 79,
   "metadata": {},
   "outputs": [
    {
     "name": "stdout",
     "output_type": "stream",
     "text": [
      "X shape is\n",
      " (9000, 3072)\n",
      "y shape is\n",
      " (9000,)\n",
      "Loss: 45.219157, Train accuracy: 0.377444, val accuracy: 0.372000\n",
      "Loss: 32.376462, Train accuracy: 0.510667, val accuracy: 0.518000\n",
      "Loss: 24.543422, Train accuracy: 0.631889, val accuracy: 0.618000\n",
      "Loss: 25.793749, Train accuracy: 0.666444, val accuracy: 0.658000\n",
      "Loss: 14.833858, Train accuracy: 0.705333, val accuracy: 0.666000\n",
      "Loss: 22.935265, Train accuracy: 0.700000, val accuracy: 0.646000\n",
      "Loss: 11.117177, Train accuracy: 0.744778, val accuracy: 0.669000\n",
      "Loss: 21.356227, Train accuracy: 0.682556, val accuracy: 0.646000\n",
      "Loss: 13.312190, Train accuracy: 0.753333, val accuracy: 0.689000\n",
      "Loss: 16.728792, Train accuracy: 0.752889, val accuracy: 0.669000\n",
      "Loss: 15.581730, Train accuracy: 0.766333, val accuracy: 0.708000\n",
      "Loss: 17.495122, Train accuracy: 0.767333, val accuracy: 0.699000\n",
      "Loss: 24.410862, Train accuracy: 0.801000, val accuracy: 0.718000\n",
      "Loss: 13.821111, Train accuracy: 0.796556, val accuracy: 0.699000\n",
      "Loss: 20.225647, Train accuracy: 0.818778, val accuracy: 0.706000\n",
      "Loss: 9.388801, Train accuracy: 0.824444, val accuracy: 0.728000\n",
      "Loss: 15.967970, Train accuracy: 0.831889, val accuracy: 0.731000\n",
      "Loss: 10.057781, Train accuracy: 0.821111, val accuracy: 0.717000\n",
      "Loss: 21.309008, Train accuracy: 0.804889, val accuracy: 0.708000\n",
      "Loss: 21.072058, Train accuracy: 0.847889, val accuracy: 0.736000\n"
     ]
    }
   ],
   "source": [
    "model = TwoLayerNet(n_input = train_X.shape[1], n_output = 10, hidden_layer_size = 100, reg = 1e-3)\n",
    "dataset = Dataset(train_X, train_y, val_X, val_y)\n",
    "trainer = Trainer(model, dataset, SGD(), num_epochs =20, batch_size=20, learning_rate = 1e-2)\n",
    "\n",
    "# TODO Implement missing pieces in Trainer.fit function\n",
    "# You should expect loss to go down every epoch, even if it's slow\n",
    "loss_history, train_history, val_history = trainer.fit()"
   ]
  },
  {
   "cell_type": "code",
   "execution_count": 82,
   "metadata": {},
   "outputs": [
    {
     "data": {
      "text/plain": [
       "[<matplotlib.lines.Line2D at 0x7effe3ba5e50>]"
      ]
     },
     "execution_count": 82,
     "metadata": {},
     "output_type": "execute_result"
    },
    {
     "data": {
      "image/png": "[encoded data removed]",
      "text/plain": [
       "<Figure size 432x288 with 1 Axes>"
      ]
     },
     "metadata": {
      "needs_background": "light"
     },
     "output_type": "display_data"
    }
   ],
   "source": [
    "plt.plot(loss_history)\n",
    "# plt.plot(train_history)\n",
    "# plt.plot(val_history)"
   ]
  },
  {
   "cell_type": "code",
   "execution_count": 83,
   "metadata": {},
   "outputs": [
    {
     "name": "stdout",
     "output_type": "stream",
     "text": [
      "test x is  (1000, 3072)\n",
      "test pred is \n",
      " [2 1 3 2 2 5 9 1 7 1]\n",
      "test_y  is \n",
      " [2 1 3 0 2 5 0 1 7 1]\n"
     ]
    },
    {
     "data": {
      "image/png": "[encoded data removed]",
      "text/plain": [
       "<Figure size 432x288 with 10 Axes>"
      ]
     },
     "metadata": {
      "needs_background": "light"
     },
     "output_type": "display_data"
    },
    {
     "name": "stdout",
     "output_type": "stream",
     "text": [
      "Neural network classifier test set accuracy: 70.100000\n"
     ]
    }
   ],
   "source": [
    "# model = TwoLayerNet(n_input = train_X.shape[1], n_output = 10, hidden_layer_size = 100, reg = 1e1)\n",
    "\n",
    "\n",
    "number = 10\n",
    "print(\"test x is \", test_X.shape)\n",
    "test_pred = model.predict(test_X[:number])\n",
    "print(\"test pred is \\n\", test_pred)\n",
    "print(\"test_y  is \\n\", test_y[:number])\n",
    "plot_index = 1\n",
    "for class_index in range(number):\n",
    "        plt.subplot(1, number, plot_index)\n",
    "        \n",
    "        image = old_test_X[class_index]\n",
    "        plt.imshow(image.astype(np.uint8))\n",
    "        plt.axis('off')\n",
    "        plot_index += 1\n",
    "\n",
    "plt.show()\n",
    "# print(\"test pred is \\n\", test_pred[:number])\n",
    "\n",
    "test_pred = model.predict(test_X)\n",
    "test_accuracy = multiclass_accuracy(test_pred, test_y)*100\n",
    "print('Neural network classifier test set accuracy: %f' % (test_accuracy, ))"
   ]
  },
  {
   "cell_type": "markdown",
   "metadata": {},
   "source": [
    "# Улучшаем процесс тренировки\n",
    "Мы реализуем несколько ключевых оптимизаций, необходимых для тренировки современных нейросетей.\n",
    "\n",
    "**Уменьшение скорости обучения (learning rate decay)**\n",
    "Одна из необходимых оптимизаций во время тренировки нейронных сетей - постепенное уменьшение скорости обучения по мере тренировки.\n",
    "\n",
    "Один из стандартных методов - уменьшение скорости обучения (learning rate) каждые N эпох на коэффициент d (часто называемый decay). Значения N и d, как всегда, являются гиперпараметрами и должны подбираться на основе эффективности на проверочных данных (validation data).\n",
    "\n",
    "В нашем случае N будет равным 1."
   ]
  },
  {
   "cell_type": "code",
   "execution_count": 84,
   "metadata": {},
   "outputs": [],
   "source": [
    "# # TODO Implement learning rate decay inside Trainer.fit method\n",
    "# # Decay should happen once per epoch\n",
    "\n",
    "# model = TwoLayerNet(n_input = train_X.shape[1], n_output = 10, hidden_layer_size = 100, reg = 1e-3)\n",
    "# dataset = Dataset(train_X, train_y, val_X, val_y)\n",
    "# trainer = Trainer(model, dataset, SGD(),learning_rate = 1e-2, learning_rate_decay=0.99)\n",
    "\n",
    "# initial_learning_rate = trainer.learning_rate\n",
    "# loss_history, train_history, val_history = trainer.fit()\n",
    "\n",
    "# assert trainer.learning_rate < initial_learning_rate, \"Learning rate should've been reduced\"\n",
    "# assert trainer.learning_rate > 0.5*initial_learning_rate, \"Learning rate shouldn'tve been reduced that much!\""
   ]
  },
  {
   "cell_type": "markdown",
   "metadata": {},
   "source": [
    "# Накопление импульса (Momentum SGD)\n",
    "\n",
    "Другой большой класс оптимизаций - использование более эффективных методов градиентного спуска. Мы реализуем один из них - накопление импульса (Momentum SGD).\n",
    "\n",
    "Этот метод хранит скорость движения, использует градиент для ее изменения на каждом шаге, и изменяет веса пропорционально значению скорости. (Физическая аналогия: Вместо скорости градиенты теперь будут задавать ускорение, но будет присутствовать сила трения.)\n",
    "\n",
    "velocity = momentum * velocity - learning_rate * gradient \n",
    "\n",
    "w = w + velocity\n",
    "\n",
    "momentum здесь коэффициент затухания, который тоже является гиперпараметром (к счастью, для него часто есть хорошее значение по умолчанию, типичный диапазон -- 0.8-0.99).\n",
    "\n",
    "Несколько полезных ссылок, где метод разбирается более подробно:\n",
    "\n",
    "http://cs231n.github.io/neural-networks-3/#sgd\n",
    "\n",
    "https://distill.pub/2017/momentum/"
   ]
  },
  {
   "cell_type": "code",
   "execution_count": 116,
   "metadata": {},
   "outputs": [
    {
     "name": "stdout",
     "output_type": "stream",
     "text": [
      "X shape is\n",
      " (9000, 3072)\n",
      "y shape is\n",
      " (9000,)\n",
      "Epoch: 1, Loss: 39.840675, Train accuracy: 0.358444, val accuracy: 0.364000\n",
      "Epoch: 2, Loss: 35.365019, Train accuracy: 0.492111, val accuracy: 0.492000\n",
      "Epoch: 3, Loss: 19.768869, Train accuracy: 0.628444, val accuracy: 0.610000\n",
      "Epoch: 4, Loss: 21.671936, Train accuracy: 0.687000, val accuracy: 0.660000\n",
      "Epoch: 5, Loss: 16.404758, Train accuracy: 0.680111, val accuracy: 0.654000\n",
      "Epoch: 6, Loss: 15.421092, Train accuracy: 0.710444, val accuracy: 0.673000\n",
      "Epoch: 7, Loss: 15.369158, Train accuracy: 0.741000, val accuracy: 0.683000\n",
      "Epoch: 8, Loss: 5.838517, Train accuracy: 0.744444, val accuracy: 0.666000\n",
      "Epoch: 9, Loss: 19.996582, Train accuracy: 0.787889, val accuracy: 0.720000\n",
      "Epoch: 10, Loss: 14.292280, Train accuracy: 0.759222, val accuracy: 0.691000\n",
      "Epoch: 11, Loss: 26.552167, Train accuracy: 0.778889, val accuracy: 0.696000\n",
      "Epoch: 12, Loss: 21.462628, Train accuracy: 0.799111, val accuracy: 0.709000\n",
      "Epoch: 13, Loss: 6.641910, Train accuracy: 0.804889, val accuracy: 0.718000\n",
      "Epoch: 14, Loss: 20.111884, Train accuracy: 0.810111, val accuracy: 0.707000\n",
      "Epoch: 15, Loss: 10.310713, Train accuracy: 0.830333, val accuracy: 0.728000\n",
      "Epoch: 16, Loss: 15.785185, Train accuracy: 0.830444, val accuracy: 0.709000\n",
      "Epoch: 17, Loss: 10.720949, Train accuracy: 0.851556, val accuracy: 0.742000\n",
      "Epoch: 18, Loss: 12.712239, Train accuracy: 0.839444, val accuracy: 0.742000\n",
      "Epoch: 19, Loss: 11.551475, Train accuracy: 0.841667, val accuracy: 0.716000\n",
      "Epoch: 20, Loss: 8.727769, Train accuracy: 0.857889, val accuracy: 0.713000\n"
     ]
    }
   ],
   "source": [
    "# TODO: Implement MomentumSGD.update function in optim.py\n",
    "\n",
    "model = TwoLayerNet(n_input = train_X.shape[1], n_output = 10, hidden_layer_size = 100, reg = 1e-3)\n",
    "dataset = Dataset(train_X, train_y, val_X, val_y)\n",
    "trainer = Trainer(model, dataset, MomentumSGD(), learning_rate=1e-2, learning_rate_decay=0.99)\n",
    "\n",
    "# You should see even better results than before!\n",
    "loss_history, train_history, val_history = trainer.fit()"
   ]
  },
  {
   "cell_type": "code",
   "execution_count": 127,
   "metadata": {},
   "outputs": [
    {
     "name": "stdout",
     "output_type": "stream",
     "text": [
      "learning rate is  0.008179069375972308\n"
     ]
    },
    {
     "data": {
      "image/png": "[encoded data removed]",
      "text/plain": [
       "<Figure size 432x288 with 1 Axes>"
      ]
     },
     "metadata": {
      "needs_background": "light"
     },
     "output_type": "display_data"
    },
    {
     "name": "stdout",
     "output_type": "stream",
     "text": [
      "test x shape is  (1000, 3072)\n",
      "test pred is \n",
      " [2 1 3 9 2 5 0 1 7 1]\n",
      "test_y  is \n",
      " [2 1 3 0 2 5 0 1 7 1]\n"
     ]
    },
    {
     "data": {
      "image/png": "[encoded data removed]",
      "text/plain": [
       "<Figure size 432x288 with 10 Axes>"
      ]
     },
     "metadata": {
      "needs_background": "light"
     },
     "output_type": "display_data"
    },
    {
     "name": "stdout",
     "output_type": "stream",
     "text": [
      "Neural network classifier test set accuracy: 69.200000\n"
     ]
    }
   ],
   "source": [
    "print(\"learning rate is \", trainer.learning_rate)\n",
    "# print(\"initial learning rate is \", initial_learning_rate)\n",
    "plt.plot(loss_history)\n",
    "plt.show()\n",
    "\n",
    "number = 10\n",
    "print(\"test x shape is \", test_X.shape)\n",
    "test_pred = model.predict(test_X[:number])\n",
    "print(\"test pred is \\n\", test_pred)\n",
    "print(\"test_y  is \\n\", test_y[:number])\n",
    "\n",
    "for i in range(number):\n",
    "        plt.subplot(1, number, i+1)        \n",
    "        image = old_test_X[i].astype(np.uint8)\n",
    "        plt.imshow(image)\n",
    "        plt.axis('off')\n",
    "\n",
    "plt.show()\n",
    "# print(\"test pred is \\n\", test_pred[:number])\n",
    "\n",
    "test_pred = model.predict(test_X)\n",
    "test_accuracy = multiclass_accuracy(test_pred, test_y)*100\n",
    "print('Neural network classifier test set accuracy: %f' % (test_accuracy, ))"
   ]
  },
  {
   "cell_type": "markdown",
   "metadata": {},
   "source": [
    "# Ну что, давайте уже тренировать сеть!\n",
    "Последний тест - переобучимся (overfit) на маленьком наборе данных\n",
    "Хороший способ проверить, все ли реализовано корректно - переобучить сеть на маленьком наборе данных.\n",
    "Наша модель обладает достаточной мощностью, чтобы приблизить маленький набор данных идеально, поэтому мы ожидаем, что на нем мы быстро дойдем до 100% точности на тренировочном наборе.\n",
    "\n",
    "Если этого не происходит, то где-то была допущена ошибка!"
   ]
  },
  {
   "cell_type": "code",
   "execution_count": 131,
   "metadata": {},
   "outputs": [
    {
     "name": "stdout",
     "output_type": "stream",
     "text": [
      "X shape is\n",
      " (15, 3072)\n",
      "y shape is\n",
      " (15,)\n",
      "Epoch: 1, Loss: 11.520984, Train accuracy: 0.200000, val accuracy: 0.066667\n",
      "Epoch: 2, Loss: 11.507926, Train accuracy: 0.200000, val accuracy: 0.066667\n",
      "Epoch: 3, Loss: 11.424589, Train accuracy: 0.200000, val accuracy: 0.066667\n",
      "Epoch: 4, Loss: 11.382415, Train accuracy: 0.266667, val accuracy: 0.066667\n",
      "Epoch: 5, Loss: 11.288209, Train accuracy: 0.333333, val accuracy: 0.066667\n",
      "Epoch: 6, Loss: 11.451626, Train accuracy: 0.333333, val accuracy: 0.066667\n",
      "Epoch: 7, Loss: 11.317843, Train accuracy: 0.266667, val accuracy: 0.000000\n",
      "Epoch: 8, Loss: 11.344397, Train accuracy: 0.266667, val accuracy: 0.000000\n",
      "Epoch: 9, Loss: 11.079330, Train accuracy: 0.266667, val accuracy: 0.000000\n",
      "Epoch: 10, Loss: 11.291173, Train accuracy: 0.266667, val accuracy: 0.000000\n",
      "Epoch: 11, Loss: 11.032711, Train accuracy: 0.266667, val accuracy: 0.000000\n",
      "Epoch: 12, Loss: 11.047324, Train accuracy: 0.266667, val accuracy: 0.000000\n",
      "Epoch: 13, Loss: 11.010495, Train accuracy: 0.266667, val accuracy: 0.000000\n",
      "Epoch: 14, Loss: 10.264091, Train accuracy: 0.266667, val accuracy: 0.000000\n",
      "Epoch: 15, Loss: 11.027585, Train accuracy: 0.333333, val accuracy: 0.000000\n",
      "Epoch: 16, Loss: 11.112363, Train accuracy: 0.400000, val accuracy: 0.000000\n",
      "Epoch: 17, Loss: 11.502148, Train accuracy: 0.400000, val accuracy: 0.000000\n",
      "Epoch: 18, Loss: 10.899628, Train accuracy: 0.400000, val accuracy: 0.000000\n",
      "Epoch: 19, Loss: 10.484217, Train accuracy: 0.400000, val accuracy: 0.000000\n",
      "Epoch: 20, Loss: 9.155494, Train accuracy: 0.400000, val accuracy: 0.000000\n",
      "Epoch: 21, Loss: 7.220908, Train accuracy: 0.400000, val accuracy: 0.000000\n",
      "Epoch: 22, Loss: 9.473432, Train accuracy: 0.400000, val accuracy: 0.000000\n",
      "Epoch: 23, Loss: 7.521795, Train accuracy: 0.400000, val accuracy: 0.000000\n",
      "Epoch: 24, Loss: 10.553702, Train accuracy: 0.400000, val accuracy: 0.000000\n",
      "Epoch: 25, Loss: 9.033953, Train accuracy: 0.333333, val accuracy: 0.000000\n",
      "Epoch: 26, Loss: 10.376700, Train accuracy: 0.333333, val accuracy: 0.000000\n",
      "Epoch: 27, Loss: 8.747607, Train accuracy: 0.400000, val accuracy: 0.000000\n",
      "Epoch: 28, Loss: 7.562369, Train accuracy: 0.400000, val accuracy: 0.000000\n",
      "Epoch: 29, Loss: 8.232268, Train accuracy: 0.400000, val accuracy: 0.000000\n",
      "Epoch: 30, Loss: 6.693512, Train accuracy: 0.400000, val accuracy: 0.000000\n",
      "Epoch: 31, Loss: 7.718471, Train accuracy: 0.400000, val accuracy: 0.000000\n",
      "Epoch: 32, Loss: 5.105026, Train accuracy: 0.466667, val accuracy: 0.000000\n",
      "Epoch: 33, Loss: 10.160302, Train accuracy: 0.466667, val accuracy: 0.000000\n",
      "Epoch: 34, Loss: 9.873430, Train accuracy: 0.466667, val accuracy: 0.000000\n",
      "Epoch: 35, Loss: 10.095143, Train accuracy: 0.466667, val accuracy: 0.000000\n",
      "Epoch: 36, Loss: 9.061270, Train accuracy: 0.466667, val accuracy: 0.066667\n",
      "Epoch: 37, Loss: 7.377163, Train accuracy: 0.466667, val accuracy: 0.000000\n",
      "Epoch: 38, Loss: 5.060812, Train accuracy: 0.466667, val accuracy: 0.000000\n",
      "Epoch: 39, Loss: 6.062020, Train accuracy: 0.466667, val accuracy: 0.066667\n",
      "Epoch: 40, Loss: 6.397178, Train accuracy: 0.466667, val accuracy: 0.000000\n",
      "Epoch: 41, Loss: 4.056412, Train accuracy: 0.533333, val accuracy: 0.066667\n",
      "Epoch: 42, Loss: 5.615092, Train accuracy: 0.533333, val accuracy: 0.066667\n",
      "Epoch: 43, Loss: 6.971193, Train accuracy: 0.533333, val accuracy: 0.066667\n",
      "Epoch: 44, Loss: 6.146436, Train accuracy: 0.600000, val accuracy: 0.000000\n",
      "Epoch: 45, Loss: 7.677201, Train accuracy: 0.666667, val accuracy: 0.066667\n",
      "Epoch: 46, Loss: 5.830152, Train accuracy: 0.600000, val accuracy: 0.066667\n",
      "Epoch: 47, Loss: 6.827534, Train accuracy: 0.666667, val accuracy: 0.066667\n",
      "Epoch: 48, Loss: 3.990271, Train accuracy: 0.666667, val accuracy: 0.066667\n",
      "Epoch: 49, Loss: 5.124534, Train accuracy: 0.666667, val accuracy: 0.066667\n",
      "Epoch: 50, Loss: 3.438127, Train accuracy: 0.666667, val accuracy: 0.066667\n",
      "Epoch: 51, Loss: 4.550451, Train accuracy: 0.666667, val accuracy: 0.066667\n",
      "Epoch: 52, Loss: 3.170633, Train accuracy: 0.666667, val accuracy: 0.066667\n",
      "Epoch: 53, Loss: 2.668599, Train accuracy: 0.666667, val accuracy: 0.066667\n",
      "Epoch: 54, Loss: 5.328557, Train accuracy: 0.666667, val accuracy: 0.066667\n",
      "Epoch: 55, Loss: 5.459408, Train accuracy: 0.733333, val accuracy: 0.066667\n",
      "Epoch: 56, Loss: 5.452931, Train accuracy: 0.800000, val accuracy: 0.066667\n",
      "Epoch: 57, Loss: 5.303163, Train accuracy: 0.800000, val accuracy: 0.066667\n",
      "Epoch: 58, Loss: 3.482030, Train accuracy: 0.800000, val accuracy: 0.066667\n",
      "Epoch: 59, Loss: 6.613721, Train accuracy: 0.800000, val accuracy: 0.066667\n",
      "Epoch: 60, Loss: 4.785674, Train accuracy: 0.800000, val accuracy: 0.066667\n",
      "Epoch: 61, Loss: 3.847101, Train accuracy: 0.800000, val accuracy: 0.066667\n",
      "Epoch: 62, Loss: 4.683343, Train accuracy: 0.800000, val accuracy: 0.066667\n",
      "Epoch: 63, Loss: 1.034879, Train accuracy: 0.800000, val accuracy: 0.066667\n",
      "Epoch: 64, Loss: 0.992077, Train accuracy: 0.800000, val accuracy: 0.066667\n",
      "Epoch: 65, Loss: 4.071602, Train accuracy: 0.800000, val accuracy: 0.066667\n",
      "Epoch: 66, Loss: 3.615701, Train accuracy: 0.800000, val accuracy: 0.066667\n",
      "Epoch: 67, Loss: 5.433697, Train accuracy: 0.800000, val accuracy: 0.066667\n",
      "Epoch: 68, Loss: 2.377471, Train accuracy: 0.800000, val accuracy: 0.066667\n",
      "Epoch: 69, Loss: 3.344706, Train accuracy: 0.800000, val accuracy: 0.066667\n",
      "Epoch: 70, Loss: 2.138553, Train accuracy: 0.800000, val accuracy: 0.066667\n",
      "Epoch: 71, Loss: 3.957744, Train accuracy: 0.800000, val accuracy: 0.066667\n",
      "Epoch: 72, Loss: 4.257439, Train accuracy: 0.800000, val accuracy: 0.066667\n",
      "Epoch: 73, Loss: 0.887140, Train accuracy: 0.800000, val accuracy: 0.066667\n",
      "Epoch: 74, Loss: 1.912977, Train accuracy: 0.800000, val accuracy: 0.066667\n",
      "Epoch: 75, Loss: 4.084302, Train accuracy: 0.800000, val accuracy: 0.066667\n",
      "Epoch: 76, Loss: 5.772100, Train accuracy: 0.800000, val accuracy: 0.066667\n",
      "Epoch: 77, Loss: 5.169731, Train accuracy: 0.800000, val accuracy: 0.066667\n",
      "Epoch: 78, Loss: 1.957009, Train accuracy: 0.800000, val accuracy: 0.066667\n",
      "Epoch: 79, Loss: 3.739797, Train accuracy: 0.800000, val accuracy: 0.066667\n",
      "Epoch: 80, Loss: 1.696385, Train accuracy: 0.800000, val accuracy: 0.066667\n",
      "Epoch: 81, Loss: 2.629242, Train accuracy: 0.866667, val accuracy: 0.066667\n",
      "Epoch: 82, Loss: 2.136949, Train accuracy: 0.866667, val accuracy: 0.066667\n",
      "Epoch: 83, Loss: 5.313066, Train accuracy: 0.866667, val accuracy: 0.066667\n",
      "Epoch: 84, Loss: 3.263891, Train accuracy: 0.866667, val accuracy: 0.066667\n",
      "Epoch: 85, Loss: 2.624352, Train accuracy: 0.933333, val accuracy: 0.066667\n",
      "Epoch: 86, Loss: 4.108402, Train accuracy: 0.933333, val accuracy: 0.066667\n",
      "Epoch: 87, Loss: 2.702366, Train accuracy: 0.933333, val accuracy: 0.066667\n",
      "Epoch: 88, Loss: 1.348977, Train accuracy: 0.933333, val accuracy: 0.066667\n",
      "Epoch: 89, Loss: 4.488758, Train accuracy: 0.933333, val accuracy: 0.066667\n",
      "Epoch: 90, Loss: 0.326337, Train accuracy: 0.933333, val accuracy: 0.066667\n",
      "Epoch: 91, Loss: 3.104218, Train accuracy: 0.933333, val accuracy: 0.066667\n",
      "Epoch: 92, Loss: 1.166136, Train accuracy: 0.933333, val accuracy: 0.066667\n",
      "Epoch: 93, Loss: 3.193954, Train accuracy: 0.933333, val accuracy: 0.066667\n",
      "Epoch: 94, Loss: 1.093071, Train accuracy: 0.933333, val accuracy: 0.066667\n",
      "Epoch: 95, Loss: 1.162757, Train accuracy: 0.933333, val accuracy: 0.066667\n",
      "Epoch: 96, Loss: 2.847313, Train accuracy: 0.933333, val accuracy: 0.066667\n",
      "Epoch: 97, Loss: 0.305844, Train accuracy: 0.933333, val accuracy: 0.066667\n",
      "Epoch: 98, Loss: 2.852392, Train accuracy: 0.933333, val accuracy: 0.066667\n",
      "Epoch: 99, Loss: 0.831688, Train accuracy: 0.933333, val accuracy: 0.066667\n",
      "Epoch: 100, Loss: 0.757903, Train accuracy: 0.933333, val accuracy: 0.066667\n",
      "Epoch: 101, Loss: 2.488256, Train accuracy: 0.933333, val accuracy: 0.000000\n",
      "Epoch: 102, Loss: 0.251182, Train accuracy: 0.933333, val accuracy: 0.000000\n",
      "Epoch: 103, Loss: 2.051525, Train accuracy: 1.000000, val accuracy: 0.000000\n",
      "Epoch: 104, Loss: 2.049601, Train accuracy: 1.000000, val accuracy: 0.000000\n",
      "Epoch: 105, Loss: 0.491179, Train accuracy: 1.000000, val accuracy: 0.000000\n",
      "Epoch: 106, Loss: 0.751140, Train accuracy: 1.000000, val accuracy: 0.000000\n",
      "Epoch: 107, Loss: 0.445889, Train accuracy: 1.000000, val accuracy: 0.000000\n",
      "Epoch: 108, Loss: 1.859161, Train accuracy: 1.000000, val accuracy: 0.000000\n",
      "Epoch: 109, Loss: 0.695328, Train accuracy: 1.000000, val accuracy: 0.000000\n",
      "Epoch: 110, Loss: 0.186626, Train accuracy: 1.000000, val accuracy: 0.000000\n",
      "Epoch: 111, Loss: 2.206533, Train accuracy: 1.000000, val accuracy: 0.000000\n",
      "Epoch: 112, Loss: 0.239257, Train accuracy: 1.000000, val accuracy: 0.000000\n",
      "Epoch: 113, Loss: 1.989375, Train accuracy: 1.000000, val accuracy: 0.000000\n",
      "Epoch: 114, Loss: 0.427604, Train accuracy: 1.000000, val accuracy: 0.000000\n",
      "Epoch: 115, Loss: 0.186663, Train accuracy: 1.000000, val accuracy: 0.000000\n",
      "Epoch: 116, Loss: 0.402487, Train accuracy: 1.000000, val accuracy: 0.000000\n",
      "Epoch: 117, Loss: 1.499724, Train accuracy: 1.000000, val accuracy: 0.000000\n",
      "Epoch: 118, Loss: 1.477765, Train accuracy: 1.000000, val accuracy: 0.000000\n",
      "Epoch: 119, Loss: 0.411255, Train accuracy: 1.000000, val accuracy: 0.000000\n",
      "Epoch: 120, Loss: 0.440934, Train accuracy: 1.000000, val accuracy: 0.000000\n",
      "Epoch: 121, Loss: 0.426907, Train accuracy: 1.000000, val accuracy: 0.000000\n",
      "Epoch: 122, Loss: 0.169210, Train accuracy: 1.000000, val accuracy: 0.000000\n",
      "Epoch: 123, Loss: 1.138300, Train accuracy: 1.000000, val accuracy: 0.000000\n",
      "Epoch: 124, Loss: 0.199337, Train accuracy: 1.000000, val accuracy: 0.000000\n",
      "Epoch: 125, Loss: 0.829641, Train accuracy: 1.000000, val accuracy: 0.000000\n",
      "Epoch: 126, Loss: 0.422407, Train accuracy: 1.000000, val accuracy: 0.000000\n",
      "Epoch: 127, Loss: 0.458985, Train accuracy: 1.000000, val accuracy: 0.000000\n",
      "Epoch: 128, Loss: 0.173102, Train accuracy: 1.000000, val accuracy: 0.000000\n",
      "Epoch: 129, Loss: 0.118349, Train accuracy: 1.000000, val accuracy: 0.000000\n",
      "Epoch: 130, Loss: 0.681520, Train accuracy: 1.000000, val accuracy: 0.000000\n",
      "Epoch: 131, Loss: 0.198441, Train accuracy: 1.000000, val accuracy: 0.000000\n",
      "Epoch: 132, Loss: 0.344731, Train accuracy: 1.000000, val accuracy: 0.000000\n",
      "Epoch: 133, Loss: 0.686826, Train accuracy: 1.000000, val accuracy: 0.000000\n",
      "Epoch: 134, Loss: 0.716854, Train accuracy: 1.000000, val accuracy: 0.000000\n",
      "Epoch: 135, Loss: 0.260787, Train accuracy: 1.000000, val accuracy: 0.000000\n",
      "Epoch: 136, Loss: 0.191680, Train accuracy: 1.000000, val accuracy: 0.000000\n",
      "Epoch: 137, Loss: 0.252116, Train accuracy: 1.000000, val accuracy: 0.000000\n",
      "Epoch: 138, Loss: 0.261185, Train accuracy: 1.000000, val accuracy: 0.000000\n",
      "Epoch: 139, Loss: 0.389269, Train accuracy: 1.000000, val accuracy: 0.000000\n",
      "Epoch: 140, Loss: 0.313143, Train accuracy: 1.000000, val accuracy: 0.000000\n",
      "Epoch: 141, Loss: 0.139631, Train accuracy: 1.000000, val accuracy: 0.000000\n",
      "Epoch: 142, Loss: 0.219596, Train accuracy: 1.000000, val accuracy: 0.000000\n",
      "Epoch: 143, Loss: 0.155144, Train accuracy: 1.000000, val accuracy: 0.000000\n",
      "Epoch: 144, Loss: 0.224131, Train accuracy: 1.000000, val accuracy: 0.000000\n",
      "Epoch: 145, Loss: 0.236201, Train accuracy: 1.000000, val accuracy: 0.000000\n",
      "Epoch: 146, Loss: 0.207293, Train accuracy: 1.000000, val accuracy: 0.000000\n",
      "Epoch: 147, Loss: 0.280299, Train accuracy: 1.000000, val accuracy: 0.000000\n",
      "Epoch: 148, Loss: 0.093345, Train accuracy: 1.000000, val accuracy: 0.000000\n",
      "Epoch: 149, Loss: 0.161175, Train accuracy: 1.000000, val accuracy: 0.000000\n",
      "Epoch: 150, Loss: 0.260262, Train accuracy: 1.000000, val accuracy: 0.000000\n",
      "learning rate is  0.01\n"
     ]
    },
    {
     "data": {
      "image/png": "[encoded data removed]",
      "text/plain": [
       "<Figure size 432x288 with 1 Axes>"
      ]
     },
     "metadata": {
      "needs_background": "light"
     },
     "output_type": "display_data"
    },
    {
     "name": "stdout",
     "output_type": "stream",
     "text": [
      "test x shape is  (1000, 3072)\n",
      "test pred is \n",
      " [2 2 4 1 2 3 9 1 2 2]\n",
      "test_y  is \n",
      " [2 1 3 0 2 5 0 1 7 1]\n"
     ]
    },
    {
     "data": {
      "image/png": "[encoded data removed]",
      "text/plain": [
       "<Figure size 432x288 with 10 Axes>"
      ]
     },
     "metadata": {
      "needs_background": "light"
     },
     "output_type": "display_data"
    },
    {
     "name": "stdout",
     "output_type": "stream",
     "text": [
      "Neural network classifier test set accuracy: 100.000000\n"
     ]
    }
   ],
   "source": [
    "# data_size = 15\n",
    "# model = TwoLayerNet(n_input = train_X.shape[1], n_output = 10, hidden_layer_size = 100, reg = 1e-3)\n",
    "# dataset = Dataset(train_X[:data_size], train_y[:data_size], val_X[:data_size], val_y[:data_size])\n",
    "# trainer = Trainer(model, dataset, SGD(), learning_rate=1e-2, num_epochs=150, batch_size=5)\n",
    "\n",
    "# # You should expect this to reach 1.0 training accuracy \n",
    "# loss_history, train_history, val_history = trainer.fit()\n",
    "# #############################################################################\n",
    "\n",
    "# print(\"learning rate is \", trainer.learning_rate)\n",
    "# # print(\"initial learning rate is \", initial_learning_rate)\n",
    "# plt.plot(loss_history)\n",
    "# plt.show()\n",
    "\n",
    "# number = 10\n",
    "# print(\"test x shape is \", test_X.shape)\n",
    "# test_pred = model.predict(test_X[:number])\n",
    "# print(\"test pred is \\n\", test_pred)\n",
    "# print(\"test_y  is \\n\", test_y[:number])\n",
    "\n",
    "# for i in range(number):\n",
    "#         plt.subplot(1, number, i+1)        \n",
    "#         image = old_test_X[i].astype(np.uint8)\n",
    "#         plt.imshow(image)\n",
    "#         plt.axis('off')\n",
    "\n",
    "# plt.show()\n",
    "# # print(\"test pred is \\n\", test_pred[:number])\n",
    "\n",
    "# test_pred = model.predict(test_X)\n",
    "# test_accuracy = multiclass_accuracy(test_pred, test_y)*100\n",
    "# print('Neural network classifier test set accuracy: %f' % (test_accuracy, ))"
   ]
  },
  {
   "cell_type": "code",
   "execution_count": 111,
   "metadata": {},
   "outputs": [
    {
     "name": "stdout",
     "output_type": "stream",
     "text": [
      "[44, 3]\n"
     ]
    }
   ],
   "source": [
    "\n",
    "# X = np.array([[1,-2,3],\n",
    "#               [-1, 2, 0.1]])\n",
    "\n",
    "# Y = np.array([[1,3,3],\n",
    "#               [-1, 2, 0.1]])\n",
    "# # print(X*Y)\n",
    "\n",
    "# # lst = [a, 4,3]\n",
    "# mapa = {'X': X, 'Y': Y}\n",
    "# # print(\"loss is \", loss)\n",
    "\n",
    "# loss_lst = [np.sum(param**2) for param in mapa.values()]\n",
    "# loss =  sum(loss_lst)\n",
    "\n",
    "a = [2,3]\n",
    "b = a\n",
    "b[0] = 44\n",
    "print (a)\n",
    "# print(\"X is \\n\", X)\n",
    "# print(\"mapa is \\n\", mapa)\n",
    "# # print(\"reg loss params is\\n\", reg_loss_params)\n",
    "# print(\"loss lst\\n\", loss_lst)\n",
    "# print(\"loss \", loss)"
   ]
  }
 ],
 "metadata": {
  "kernelspec": {
   "display_name": "Python 3.8.10 64-bit",
   "language": "python",
   "name": "python3"
  },
  "language_info": {
   "codemirror_mode": {
    "name": "ipython",
    "version": 3
   },
   "file_extension": ".py",
   "mimetype": "text/x-python",
   "name": "python",
   "nbconvert_exporter": "python",
   "pygments_lexer": "ipython3",
   "version": "3.8.10"
  },
  "orig_nbformat": 4,
  "vscode": {
   "interpreter": {
    "hash": "916dbcbb3f70747c44a77c7bcd40155683ae19c65e1c03b4aa3499c5328201f1"
   }
  }
 },
 "nbformat": 4,
 "nbformat_minor": 2
}
