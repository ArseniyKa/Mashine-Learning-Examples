{
 "cells": [
  {
   "cell_type": "markdown",
   "metadata": {},
   "source": [
    "# Задание 2.2 - Введение в PyTorch\n",
    "\n",
    "Для этого задания потребуется установить версию PyTorch 1.0\n",
    "\n",
    "https://pytorch.org/get-started/locally/\n",
    "\n",
    "В этом задании мы познакомимся с основными компонентами PyTorch и натренируем несколько небольших моделей.\n",
    "GPU нам пока не понадобится.\n",
    "\n",
    "Основные ссылки:\n",
    "https://pytorch.org/tutorials/beginner/deep_learning_60min_blitz.html\n",
    "https://pytorch.org/docs/stable/nn.html\n",
    "https://pytorch.org/docs/stable/torchvision/index.html"
   ]
  },
  {
   "cell_type": "code",
   "execution_count": 2,
   "metadata": {},
   "outputs": [],
   "source": [
    "import torch\n",
    "import torch.nn as nn\n",
    "import torch.optim as optim\n",
    "import torchvision.datasets as dset\n",
    "from torch.utils.data.sampler import SubsetRandomSampler, Sampler\n",
    "\n",
    "from torchvision import transforms\n",
    "\n",
    "import matplotlib.pyplot as plt\n",
    "%matplotlib inline\n",
    "\n",
    "import numpy as np"
   ]
  },
  {
   "cell_type": "code",
   "execution_count": 3,
   "metadata": {},
   "outputs": [],
   "source": [
    "# First, lets load the dataset\n",
    "data_train = dset.SVHN('./data/', split='train',\n",
    "                       transform=transforms.Compose([\n",
    "                           transforms.ToTensor(),\n",
    "                           transforms.Normalize(mean=[0.43,0.44,0.47],\n",
    "                                               std=[0.20,0.20,0.20])                           \n",
    "                       ])\n",
    "                      )\n",
    "data_test = dset.SVHN('./data/', split='test', \n",
    "                      transform=transforms.Compose([\n",
    "                           transforms.ToTensor(),\n",
    "                           transforms.Normalize(mean=[0.43,0.44,0.47],\n",
    "                                               std=[0.20,0.20,0.20])                           \n",
    "                       ]))"
   ]
  },
  {
   "cell_type": "markdown",
   "metadata": {},
   "source": [
    "Теперь мы разделим данные на training и validation с использованием классов SubsetRandomSampler и DataLoader.\n",
    "\n",
    "DataLoader подгружает данные, предоставляемые классом Dataset, во время тренировки и группирует их в батчи. Он дает возможность указать Sampler, который выбирает, какие примеры из датасета использовать для тренировки. Мы используем это, чтобы разделить данные на training и validation.\n",
    "\n",
    "Подробнее: https://pytorch.org/tutorials/beginner/data_loading_tutorial.html"
   ]
  },
  {
   "cell_type": "code",
   "execution_count": 4,
   "metadata": {},
   "outputs": [
    {
     "name": "stdout",
     "output_type": "stream",
     "text": [
      "indices is\n",
      " 14651\n"
     ]
    }
   ],
   "source": [
    "batch_size = 64\n",
    "\n",
    "data_size = data_train.data.shape[0]\n",
    "validation_split = .2\n",
    "split = int(np.floor(validation_split * data_size))\n",
    "indices = list(range(data_size))\n",
    "np.random.shuffle(indices)\n",
    "\n",
    "train_indices, val_indices = indices[split:], indices[:split]\n",
    "\n",
    "train_sampler = SubsetRandomSampler(train_indices)\n",
    "val_sampler = SubsetRandomSampler(val_indices)\n",
    "\n",
    "print(\"indices is\\n\", len(val_sampler))\n",
    "\n",
    "train_loader = torch.utils.data.DataLoader(data_train, batch_size=batch_size, \n",
    "                                           sampler=train_sampler)\n",
    "val_loader = torch.utils.data.DataLoader(data_train, batch_size=batch_size,\n",
    "                                         sampler=val_sampler)"
   ]
  },
  {
   "cell_type": "markdown",
   "metadata": {},
   "source": [
    "В нашей задаче мы получаем на вход изображения, но работаем с ними как с одномерными массивами. Чтобы превратить многомерный массив в одномерный, мы воспользуемся очень простым вспомогательным модулем Flattener."
   ]
  },
  {
   "cell_type": "code",
   "execution_count": 5,
   "metadata": {},
   "outputs": [
    {
     "name": "stdout",
     "output_type": "stream",
     "text": [
      "SVHN data sample shape:  torch.Size([3, 32, 32])\n"
     ]
    }
   ],
   "source": [
    "sample, label = data_train[0]\n",
    "print(\"SVHN data sample shape: \", sample.shape)\n",
    "# As you can see, the data is shaped like an image\n",
    "\n",
    "# We'll use a special helper module to shape it into a tensor\n",
    "class Flattener(nn.Module):\n",
    "    def forward(self, x):\n",
    "        batch_size, *_ = x.shape\n",
    "        return x.view(batch_size, -1)"
   ]
  },
  {
   "cell_type": "markdown",
   "metadata": {},
   "source": [
    "И наконец, мы создаем основные объекты PyTorch:\n",
    "\n",
    "nn_model - собственно, модель с нейросетью\n",
    "\n",
    "loss - функцию ошибки, в нашем случае CrossEntropyLoss\n",
    "\n",
    "optimizer - алгоритм оптимизации, в нашем случае просто SGD"
   ]
  },
  {
   "cell_type": "code",
   "execution_count": 7,
   "metadata": {},
   "outputs": [],
   "source": [
    "nn_model = nn.Sequential(\n",
    "            Flattener(),\n",
    "            nn.Linear(3*32*32, 100),\n",
    "            nn.ReLU(inplace=True),\n",
    "            nn.Linear(100, 10), \n",
    "         )\n",
    "nn_model.type(torch.FloatTensor)\n",
    "\n",
    "# We will minimize cross-entropy between the ground truth and\n",
    "# network predictions using an SGD optimizer\n",
    "loss = nn.CrossEntropyLoss().type(torch.FloatTensor)\n",
    "optimizer = optim.SGD(nn_model.parameters(), lr=1e-2, weight_decay=1e-1)"
   ]
  },
  {
   "cell_type": "markdown",
   "metadata": {},
   "source": [
    "# Тренируем!\n",
    "\n",
    "Ниже приведена функция train_model, реализующая основной цикл тренировки PyTorch.\n",
    "\n",
    "Каждую эпоху эта функция вызывает функцию compute_accuracy, которая вычисляет точность на validation, эту последнюю функцию предлагается реализовать вам."
   ]
  },
  {
   "cell_type": "code",
   "execution_count": 8,
   "metadata": {},
   "outputs": [
    {
     "name": "stdout",
     "output_type": "stream",
     "text": [
      "Average loss: 1.834957, Train accuracy: 0.407655, Val accuracy: 0.555866\n",
      "Average loss: 1.460087, Train accuracy: 0.583831, Val accuracy: 0.602484\n",
      "Average loss: 1.380018, Train accuracy: 0.619169, Val accuracy: 0.623848\n"
     ]
    }
   ],
   "source": [
    "# This is how to implement the same main train loop in PyTorch. Pretty easy, right?\n",
    "\n",
    "def train_model(model, train_loader, val_loader, loss, optimizer, num_epochs, scheduler=None):    \n",
    "    loss_history = []\n",
    "    train_history = []\n",
    "    val_history = []\n",
    "    for epoch in range(num_epochs):\n",
    "        model.train() # Enter train mode\n",
    "        \n",
    "        loss_accum = 0\n",
    "        correct_samples = 0\n",
    "        total_samples = 0\n",
    "        for i_step, (x, y) in enumerate(train_loader):\n",
    "            prediction = model(x)    \n",
    "            loss_value = loss(prediction, y)\n",
    "            optimizer.zero_grad()\n",
    "            loss_value.backward()\n",
    "            optimizer.step()\n",
    "            \n",
    "            _, indices = torch.max(prediction, 1)\n",
    "            correct_samples += torch.sum(indices == y)\n",
    "            total_samples += y.shape[0]\n",
    "            \n",
    "            loss_accum += loss_value\n",
    "\n",
    "        ave_loss = loss_accum / (i_step + 1)\n",
    "        train_accuracy = float(correct_samples) / total_samples\n",
    "        val_accuracy = compute_accuracy(model, val_loader)\n",
    "        \n",
    "        loss_history.append(float(ave_loss))\n",
    "        train_history.append(train_accuracy)\n",
    "        val_history.append(val_accuracy)\n",
    "\n",
    "        if not scheduler  is None:\n",
    "            scheduler.step()\n",
    "            print(\"step\")\n",
    "        \n",
    "        print(\"Average loss: %f, Train accuracy: %f, Val accuracy: %f\" % (ave_loss, train_accuracy, val_accuracy))\n",
    "        \n",
    "    return loss_history, train_history, val_history\n",
    "        \n",
    "def compute_accuracy(model, loader):\n",
    "    \"\"\"\n",
    "    Computes accuracy on the dataset wrapped in a loader\n",
    "    \n",
    "    Returns: accuracy as a float value between 0 and 1\n",
    "    \"\"\"\n",
    "    model.eval() # Evaluation mode\n",
    "    correct_samples = 0\n",
    "    total_samples = 0         \n",
    "    for i_step, (x, y) in enumerate(val_loader):\n",
    "        count = i_step\n",
    "        predictions = nn_model(x)\n",
    "        pred = torch.argmax(predictions, axis=1)\n",
    "        correct_samples += torch.sum(pred == y)\n",
    "        total_samples += y.shape[0]\n",
    "\n",
    "    val_accuracy = float(correct_samples) / total_samples\n",
    "    # print(\"val accuracy is \", val_accuracy)       \n",
    "    return val_accuracy\n",
    "\n",
    "\n",
    "    \n",
    "    # TODO: Implement the inference of the model on all of the batches from loader,\n",
    "    #       and compute the overall accuracy.\n",
    "    # Hint: PyTorch has the argmax function!\n",
    "    \n",
    "    raise Exception(\"Not implemented\")\n",
    "    \n",
    "    return 0\n",
    "\n",
    "# val_loader.\n",
    "loss_history, train_history, val_history = train_model(nn_model, train_loader, val_loader, loss, optimizer, 3)"
   ]
  },
  {
   "cell_type": "markdown",
   "metadata": {},
   "source": [
    "# После основного цикла\n",
    "\n",
    "Посмотрим на другие возможности и оптимизации, которые предоставляет PyTorch.\n",
    "\n",
    "Добавьте еще один скрытый слой размера 100 нейронов к модели"
   ]
  },
  {
   "cell_type": "code",
   "execution_count": 40,
   "metadata": {},
   "outputs": [
    {
     "name": "stdout",
     "output_type": "stream",
     "text": [
      "Average loss: 2.169266, Train accuracy: 0.215183, Val accuracy: 0.252747\n",
      "Average loss: 2.007896, Train accuracy: 0.275774, Val accuracy: 0.281073\n",
      "Average loss: 1.854946, Train accuracy: 0.334130, Val accuracy: 0.370623\n",
      "Average loss: 1.731816, Train accuracy: 0.406887, Val accuracy: 0.407617\n",
      "Average loss: 1.682593, Train accuracy: 0.431731, Val accuracy: 0.423521\n"
     ]
    }
   ],
   "source": [
    "# Since it's so easy to add layers, let's add some!\n",
    "\n",
    "# TODO: Implement a model with 2 hidden layers of the size 100\n",
    "\n",
    "nn_model = nn.Sequential(\n",
    "            Flattener(),\n",
    "            nn.Linear(3*32*32, 100),\n",
    "            nn.ReLU(inplace=True),\n",
    "            nn.Linear(100, 100),\n",
    "            nn.ReLU(inplace=True),\n",
    "            nn.Linear(100, 10), \n",
    "         )\n",
    "nn_model.type(torch.FloatTensor)\n",
    "\n",
    "loss = nn.CrossEntropyLoss().type(torch.FloatTensor)\n",
    "optimizer = optim.SGD(nn_model.parameters(), lr=1e-2, weight_decay=1e-1)\n",
    "loss_history, train_history, val_history = train_model(nn_model, train_loader, val_loader, loss, optimizer, 5)"
   ]
  },
  {
   "cell_type": "code",
   "execution_count": 37,
   "metadata": {},
   "outputs": [
    {
     "data": {
      "image/png": "[encoded data removed]",
      "text/plain": [
       "<Figure size 432x288 with 1 Axes>"
      ]
     },
     "metadata": {
      "needs_background": "light"
     },
     "output_type": "display_data"
    }
   ],
   "source": [
    "plt.plot(loss_history)\n",
    "plt.show()\n"
   ]
  },
  {
   "cell_type": "code",
   "execution_count": 39,
   "metadata": {},
   "outputs": [
    {
     "name": "stdout",
     "output_type": "stream",
     "text": [
      "Average loss: 2.063724, Train accuracy: 0.314609, Val accuracy: 0.421063\n",
      "Average loss: 1.754835, Train accuracy: 0.463639, Val accuracy: 0.509522\n",
      "Average loss: 1.619905, Train accuracy: 0.534297, Val accuracy: 0.566446\n",
      "Average loss: 1.534069, Train accuracy: 0.575299, Val accuracy: 0.591086\n",
      "Average loss: 1.473195, Train accuracy: 0.601679, Val accuracy: 0.613200\n"
     ]
    }
   ],
   "source": [
    "\n",
    "# We heard batch normalization is powerful, let's use it!\n",
    "# TODO: Add batch normalization after each of the hidden layers of the network, before or after non-linearity\n",
    "# Hint: check out torch.nn.BatchNorm1d\n",
    "\n",
    "nn_model = nn.Sequential(\n",
    "            Flattener(),\n",
    "            nn.Linear(3*32*32, 100),\n",
    "            nn.BatchNorm1d(100),\n",
    "            nn.ReLU(inplace=True),\n",
    "            nn.Linear(100, 100),\n",
    "            nn.BatchNorm1d(100),\n",
    "            nn.ReLU(inplace=True),\n",
    "            nn.Linear(100, 10), \n",
    "         )\n",
    "nn_model.type(torch.FloatTensor)\n",
    "\n",
    "optimizer = optim.SGD(nn_model.parameters(), lr=1e-3, weight_decay=1e-1)\n",
    "loss_history, train_history, val_history = train_model(nn_model, train_loader, val_loader, loss, optimizer, 5)"
   ]
  },
  {
   "cell_type": "code",
   "execution_count": 11,
   "metadata": {},
   "outputs": [
    {
     "name": "stdout",
     "output_type": "stream",
     "text": [
      "step\n",
      "Average loss: 2.074605, Train accuracy: 0.305993, Val accuracy: 0.445908\n",
      "step\n",
      "Average loss: 1.759303, Train accuracy: 0.484677, Val accuracy: 0.533138\n",
      "step\n",
      "Average loss: 1.599192, Train accuracy: 0.566085, Val accuracy: 0.597024\n",
      "step\n",
      "Average loss: 1.481816, Train accuracy: 0.609579, Val accuracy: 0.632244\n",
      "step\n",
      "Average loss: 1.469575, Train accuracy: 0.609494, Val accuracy: 0.649375\n"
     ]
    }
   ],
   "source": [
    "# Learning rate annealing\n",
    "# Reduce your learning rate 2x every 2 epochs\n",
    "# Hint: look up learning rate schedulers in PyTorch. You might need to extend train_model function a little bit too!\n",
    "\n",
    "nn_model = nn.Sequential(\n",
    "            Flattener(),\n",
    "            nn.Linear(3*32*32, 100),\n",
    "            nn.BatchNorm1d(100),\n",
    "            nn.ReLU(inplace=True),\n",
    "            nn.Linear(100, 100),\n",
    "            nn.BatchNorm1d(100),\n",
    "            nn.ReLU(inplace=True),\n",
    "            nn.Linear(100, 10), \n",
    "         )\n",
    "nn_model.type(torch.FloatTensor)\n",
    "\n",
    "optimizer = optim.SGD(nn_model.parameters(), lr=1e-3, weight_decay=1e-1)\n",
    "scheduler =  torch.optim.lr_scheduler.StepLR(optimizer, step_size=2, gamma= 2)\n",
    "loss_history, train_history, val_history = train_model(nn_model, train_loader, val_loader, loss, optimizer, 5, scheduler)"
   ]
  },
  {
   "cell_type": "markdown",
   "metadata": {},
   "source": [
    "# Визуализируем ошибки модели\n",
    "\n",
    "Попробуем посмотреть, на каких изображениях наша модель ошибается. Для этого мы получим все предсказания модели на validation set и сравним их с истинными метками (ground truth).\n",
    "\n",
    "Первая часть - реализовать код на PyTorch, который вычисляет все предсказания модели на validation set.\n",
    "Чтобы это сделать мы приводим код SubsetSampler, который просто проходит по всем заданным индексам последовательно и составляет из них батчи.\n",
    "\n",
    "Реализуйте функцию evaluate_model, которая прогоняет модель через все сэмплы validation set и запоминает предсказания модели и истинные метки."
   ]
  },
  {
   "cell_type": "code",
   "execution_count": 14,
   "metadata": {},
   "outputs": [
    {
     "name": "stdout",
     "output_type": "stream",
     "text": [
      "len pred  14651\n",
      "len indices  14651\n",
      "pred type is  <class 'numpy.ndarray'>\n",
      "pred  is  [2]\n",
      "gt  is  [3]\n"
     ]
    }
   ],
   "source": [
    "class SubsetSampler(Sampler):\n",
    "    r\"\"\"Samples elements with given indices sequentially\n",
    "\n",
    "    Arguments:\n",
    "        indices (ndarray): indices of the samples to take\n",
    "    \"\"\"\n",
    "\n",
    "    def __init__(self, indices):\n",
    "        self.indices = indices\n",
    "\n",
    "    def __iter__(self):\n",
    "        return (self.indices[i] for i in range(len(self.indices)))\n",
    "\n",
    "    def __len__(self):\n",
    "        return len(self.indices)\n",
    "    \n",
    "    \n",
    "def evaluate_model(model, dataset, indices):\n",
    "    \"\"\"\n",
    "    Computes predictions and ground truth labels for the indices of the dataset\n",
    "    \n",
    "    Returns: \n",
    "    predictions: np array of ints - model predictions\n",
    "    grount_truth: np array of ints - actual labels of the dataset\n",
    "    \"\"\"\n",
    "    model.eval() # Evaluation mode\n",
    "    val_sampler = SubsetSampler(indices)\n",
    "    val_loader = torch.utils.data.DataLoader(dataset, batch_size=1,\n",
    "                                         sampler=val_sampler)\n",
    "\n",
    "    predictions = []\n",
    "    ground_truth = []\n",
    "    for i_step, (x, y) in enumerate(val_loader):\n",
    "            pred = model(x)\n",
    "            pred =  torch.argmax(pred, axis=1)\n",
    "            predictions.append(pred.detach().numpy())\n",
    "            ground_truth.append(y.detach().numpy())\n",
    "\n",
    "    # predictions = np.array(predictions)\n",
    "    # ground_truth = np.array(ground_truth)\n",
    "    # TODO: Evaluate model on the list of indices and capture predictions\n",
    "    # and ground truth labels\n",
    "    # Hint: SubsetSampler above could be useful!\n",
    "    \n",
    "    # raise Exception(\"Not implemented\")\n",
    "    print('len pred ', len(predictions))\n",
    "    print('len indices ', len(indices))\n",
    "    return predictions, ground_truth\n",
    "\n",
    "# Evaluate model on validation\n",
    "predictions, gt = evaluate_model(nn_model, data_train, val_indices)\n",
    "assert len(predictions) == len(val_indices)\n",
    "assert len(gt) == len(val_indices)\n",
    "print(\"pred type is \", type(predictions[0]))\n",
    "print(\"pred  is \", predictions[0])\n",
    "print(\"gt  is \", gt[0])\n",
    "\n",
    "assert gt[100] == data_train[val_indices[100]][1]\n",
    "assert np.any(np.not_equal(gt, predictions))"
   ]
  },
  {
   "cell_type": "markdown",
   "metadata": {},
   "source": [
    "# Confusion matrix\n",
    "\n",
    "Первая часть визуализации - вывести confusion matrix (https://en.wikipedia.org/wiki/Confusion_matrix ).\n",
    "\n",
    "Confusion matrix - это матрица, где каждой строке соответствуют классы предсказанный, а столбцу - классы истинных меток (ground truth). Число с координатами i,j - это количество сэмплов класса j, которые модель считает классом i.\n",
    "\n",
    "image.png\n",
    "\n",
    "Для того, чтобы облегчить вам задачу, ниже реализована функция visualize_confusion_matrix которая визуализирует такую матрицу.\n",
    "Вам осталось реализовать функцию build_confusion_matrix, которая ее вычислит.\n",
    "\n",
    "Результатом должна быть матрица 10x10."
   ]
  },
  {
   "cell_type": "code",
   "execution_count": 23,
   "metadata": {},
   "outputs": [
    {
     "name": "stdout",
     "output_type": "stream",
     "text": [
      "confusion matrix shape is  (10, 10)\n"
     ]
    },
    {
     "data": {
      "image/png": "[encoded data removed]",
      "text/plain": [
       "<Figure size 720x720 with 2 Axes>"
      ]
     },
     "metadata": {
      "needs_background": "light"
     },
     "output_type": "display_data"
    }
   ],
   "source": [
    "def visualize_confusion_matrix(confusion_matrix):\n",
    "    \"\"\"\n",
    "    Visualizes confusion matrix\n",
    "    \n",
    "    confusion_matrix: np array of ints, x axis - predicted class, y axis - actual class\n",
    "                      [i][j] should have the count of samples that were predicted to be class i,\n",
    "                      but have j in the ground truth\n",
    "                     \n",
    "    \"\"\"\n",
    "    # Adapted from \n",
    "    # https://stackoverflow.com/questions/2897826/confusion-matrix-with-number-of-classified-misclassified-instances-on-it-python\n",
    "    assert confusion_matrix.shape[0] == confusion_matrix.shape[1]\n",
    "    size = confusion_matrix.shape[0]\n",
    "    fig = plt.figure(figsize=(10,10))\n",
    "    plt.title(\"Confusion matrix\")\n",
    "    plt.ylabel(\"predicted\")\n",
    "    plt.xlabel(\"ground truth\")\n",
    "    res = plt.imshow(confusion_matrix, cmap='GnBu', interpolation='nearest')\n",
    "    cb = fig.colorbar(res)\n",
    "    plt.xticks(np.arange(size))\n",
    "    plt.yticks(np.arange(size))\n",
    "    for i, row in enumerate(confusion_matrix):\n",
    "        for j, count in enumerate(row):\n",
    "            plt.text(j, i, count, fontsize=14, horizontalalignment='center', verticalalignment='center')\n",
    "    \n",
    "def build_confusion_matrix(predictions, ground_truth):\n",
    "    \"\"\"\n",
    "    Builds confusion matrix from predictions and ground truth\n",
    "\n",
    "    predictions: np array of ints, model predictions for all validation samples\n",
    "    ground_truth: np array of ints, ground truth for all validation samples\n",
    "    \n",
    "    Returns:\n",
    "    np array of ints, (10,10), counts of samples for predicted/ground_truth classes\n",
    "    \"\"\"\n",
    "    \n",
    "    confusion_matrix = np.zeros((10,10), int)\n",
    "    print(\"confusion matrix shape is \", confusion_matrix.shape)\n",
    "    for ind in range(len(ground_truth)):\n",
    "        i = predictions[ind][0]\n",
    "        # print(\"i shape is \", i.shape)\n",
    "        j = ground_truth[ind][0]\n",
    "        assert(i>=0 and i <10 and j>=0 and j <10)\n",
    "        confusion_matrix[i][j] += 1\n",
    "\n",
    "    return confusion_matrix\n",
    "    \n",
    "    # TODO: Implement filling the prediction matrix\n",
    "    # return np.array([[40, 2, 3], [10, 50,0], [0, 2, 80]])\n",
    "\n",
    "confusion_matrix = build_confusion_matrix(predictions, gt)\n",
    "visualize_confusion_matrix(confusion_matrix)"
   ]
  },
  {
   "cell_type": "markdown",
   "metadata": {},
   "source": [
    "**Наконец, посмотрим на изображения, соответствующие некоторым элементам этой матрицы.**\n",
    "\n",
    "Как и раньше, вам дана функция visualize_images, которой нужно воспрользоваться при реализации функции visualize_predicted_actual. Эта функция должна вывести несколько примеров, соответствующих заданному элементу матрицы.\n",
    "\n",
    "Визуализируйте наиболее частые ошибки и попробуйте понять, почему модель их совершает."
   ]
  },
  {
   "cell_type": "code",
   "execution_count": null,
   "metadata": {},
   "outputs": [],
   "source": []
  },
  {
   "cell_type": "code",
   "execution_count": 34,
   "metadata": {},
   "outputs": [
    {
     "name": "stdout",
     "output_type": "stream",
     "text": [
      "0.6326530612244898\n"
     ]
    }
   ],
   "source": [
    "# count = 0\n",
    "            # _, indices = torch.max(prediction, 1)\n",
    "            # correct_samples += torch.sum(indices == y)\n",
    "            # total_samples += y.shape[0]\n",
    "\n",
    "correct_samples = 0\n",
    "total_samples = 0         \n",
    "for i_step, (x, y) in enumerate(val_loader):\n",
    "    count = i_step\n",
    "    predictions = nn_model(x)\n",
    "    pred = torch.argmax(predictions, axis=1)\n",
    "    correct_samples += torch.sum(pred == y)\n",
    "    total_samples += y.shape[0]\n",
    "    # print(y.shape)\n",
    "    # print(i_step)\n",
    "\n",
    "val_accuracy = float(correct_samples) / total_samples\n",
    "print(val_accuracy)\n",
    "# print(count)\n",
    "# val_loader.dataset.data\n",
    "# print(y.shape)\n",
    "# print(data_train.data.shape)\n",
    "\n",
    "# all_y = val_loader.dataset.labels\n",
    "# all_X = val_loader.dataset.data\n",
    "# # nn_model.eval() # Evaluation mode\n",
    "# predictions = nn_model(all_X[0])\n",
    "# print(\"pred shape \", all_X.shape)"
   ]
  }
 ],
 "metadata": {
  "kernelspec": {
   "display_name": "Python 3.8.10 64-bit",
   "language": "python",
   "name": "python3"
  },
  "language_info": {
   "codemirror_mode": {
    "name": "ipython",
    "version": 3
   },
   "file_extension": ".py",
   "mimetype": "text/x-python",
   "name": "python",
   "nbconvert_exporter": "python",
   "pygments_lexer": "ipython3",
   "version": "3.8.10"
  },
  "orig_nbformat": 4,
  "vscode": {
   "interpreter": {
    "hash": "916dbcbb3f70747c44a77c7bcd40155683ae19c65e1c03b4aa3499c5328201f1"
   }
  }
 },
 "nbformat": 4,
 "nbformat_minor": 2
}
