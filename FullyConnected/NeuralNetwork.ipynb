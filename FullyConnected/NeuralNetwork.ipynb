{
 "cells": [
  {
   "cell_type": "code",
   "execution_count": 1,
   "metadata": {},
   "outputs": [],
   "source": [
    "import numpy as np\n",
    "import matplotlib.pyplot as plt\n",
    "\n",
    "%matplotlib inline\n",
    "\n",
    "%load_ext autoreload\n",
    "%autoreload 2"
   ]
  },
  {
   "cell_type": "code",
   "execution_count": 2,
   "metadata": {},
   "outputs": [],
   "source": [
    "from dataset import load_svhn, random_split_train_val\n",
    "from gradient_check import check_layer_gradient, check_layer_param_gradient, check_model_gradient\n",
    "from layers import FullyConnectedLayer, ReLULayer\n",
    "from model import TwoLayerNet\n",
    "from trainer import Trainer, Dataset\n",
    "from optim import SGD, MomentumSGD\n",
    "from metrics import multiclass_accuracy"
   ]
  },
  {
   "cell_type": "code",
   "execution_count": 3,
   "metadata": {},
   "outputs": [
    {
     "name": "stdout",
     "output_type": "stream",
     "text": [
      "old shape  (10000, 32, 32, 3)\n"
     ]
    }
   ],
   "source": [
    "def prepare_for_neural_network(train_X, test_X):\n",
    "    train_flat = train_X.reshape(train_X.shape[0], -1).astype(float) / 255.0\n",
    "    test_flat = test_X.reshape(test_X.shape[0], -1).astype(float) / 255.0\n",
    "    \n",
    "    # Subtract mean\n",
    "    mean_image = np.mean(train_flat, axis = 0)\n",
    "    train_flat -= mean_image\n",
    "    test_flat -= mean_image\n",
    "    \n",
    "    return train_flat, test_flat\n",
    "    \n",
    "train_X, train_y, test_X, test_y = load_svhn(\"data\", max_train=10000, max_test=1000)  \n",
    "old_shape = train_X.shape\n",
    "print(\"old shape \", old_shape)\n",
    "old_test_X = test_X.copy()  \n",
    "train_X, test_X = prepare_for_neural_network(train_X, test_X)\n",
    "\n",
    "# Split train into train and val\n",
    "train_X, train_y, val_X, val_y = random_split_train_val(train_X, train_y, num_val = 1000)"
   ]
  },
  {
   "cell_type": "markdown",
   "metadata": {},
   "source": [
    "Как всегда, начинаем с кирпичиков\n",
    "\n",
    "Мы будем реализовывать необходимые нам слои по очереди. Каждый слой должен реализовать:\n",
    "\n",
    "прямой проход (forward pass), который генерирует выход слоя по входу и запоминает необходимые данные\n",
    "обратный проход (backward pass), который получает градиент по выходу слоя и вычисляет градиент по входу и по параметрам\n",
    "Начнем с ReLU, у которого параметров нет."
   ]
  },
  {
   "cell_type": "code",
   "execution_count": 4,
   "metadata": {},
   "outputs": [
    {
     "name": "stdout",
     "output_type": "stream",
     "text": [
      "CHECK GRADIENT\n",
      "x is \n",
      " [[ 1.  -2.   3. ]\n",
      " [-1.   2.   0.1]]\n",
      "analytic grad is \n",
      " [[ 1.61599406  0.          2.76252524]\n",
      " [-0.         -0.5060347  -0.94302519]]\n",
      "numeric grad array is \n",
      " [[ 1.61599406  0.          2.76252524]\n",
      " [ 0.         -0.5060347  -0.94302519]]\n",
      "==========================================\n",
      "Gradient check passed!\n"
     ]
    }
   ],
   "source": [
    "# TODO: Implement ReLULayer layer in layers.py\n",
    "# Note: you'll need to copy implementation of the gradient_check function from the previous assignment\n",
    "\n",
    "X = np.array([[1,-2,3], [-1, 2, 0.1]])\n",
    "\n",
    "assert check_layer_gradient(ReLULayer(), X)"
   ]
  },
  {
   "cell_type": "code",
   "execution_count": 19,
   "metadata": {},
   "outputs": [
    {
     "name": "stdout",
     "output_type": "stream",
     "text": [
      "CHECK GRADIENT\n",
      "x is \n",
      " [[ 1.  -2.   3. ]\n",
      " [-1.   2.   0.1]]\n",
      "analytic grad is \n",
      " [[ 4.18948095e-04  1.76337767e-03 -3.49979411e-04]\n",
      " [ 7.82747412e-05 -6.12293143e-04 -1.09946675e-03]]\n",
      "numeric grad array is \n",
      " [[ 4.18948095e-04  1.76337767e-03 -3.49979411e-04]\n",
      " [ 7.82747412e-05 -6.12293143e-04 -1.09946675e-03]]\n",
      "==========================================\n",
      "Gradient check passed!\n",
      "CHECK GRADIENT\n",
      "x is \n",
      " [[-1.97365551e-03  6.80635002e-04  5.55869402e-05  5.41565103e-04]\n",
      " [ 1.83213048e-04 -5.59157557e-04  8.94307167e-04  1.98126611e-04]\n",
      " [-1.28938649e-03  1.30851716e-03 -1.43047956e-03  9.00929234e-04]]\n",
      "analytic grad is \n",
      " [[-1.67429365  2.15318718 -0.15893916 -0.56958173]\n",
      " [ 3.34858731 -4.30637437  0.31787831  1.13916345]\n",
      " [-0.36258122  5.45842018 -3.37773459 -0.89339967]]\n",
      "numeric grad array is \n",
      " [[-1.67429365  2.15318718 -0.15893916 -0.56958173]\n",
      " [ 3.34858731 -4.30637437  0.31787831  1.13916345]\n",
      " [-0.36258122  5.45842018 -3.37773459 -0.89339967]]\n",
      "==========================================\n",
      "Gradient check passed!\n",
      "CHECK GRADIENT\n",
      "x is \n",
      " [[-1.33418835e-03  2.29823155e-04  1.28956322e-03  3.55224308e-05]]\n",
      "analytic grad is \n",
      " [[-0.632844   -0.39002832  1.75340995  0.51081366]]\n",
      "numeric grad array is \n",
      " [[-0.632844   -0.39002832  1.75340995  0.51081366]]\n",
      "==========================================\n",
      "Gradient check passed!\n"
     ]
    }
   ],
   "source": [
    "# TODO: Implement FullyConnected layer forward and backward methods\n",
    "assert check_layer_gradient(FullyConnectedLayer(3, 4), X)\n",
    "# TODO: Implement storing gradients for W and B\n",
    "assert check_layer_param_gradient(FullyConnectedLayer(3, 4), X, 'W')\n",
    "assert check_layer_param_gradient(FullyConnectedLayer(3, 4), X, 'B')"
   ]
  },
  {
   "cell_type": "code",
   "execution_count": 20,
   "metadata": {},
   "outputs": [
    {
     "name": "stdout",
     "output_type": "stream",
     "text": [
      "Checking gradient for W1\n",
      "CHECK GRADIENT\n",
      "x is \n",
      " [[ 5.55132245e-04 -8.29725676e-04 -9.95647818e-04]\n",
      " [ 7.71607110e-04  8.55758768e-04 -1.27373828e-03]\n",
      " [-1.23679768e-03 -4.45049694e-04 -7.11304833e-04]\n",
      " ...\n",
      " [-1.27559794e-03 -5.69992050e-04  4.02575187e-04]\n",
      " [ 2.28669670e-04  1.30825243e-03  7.03814008e-06]\n",
      " [-1.76402810e-04 -1.57398266e-03 -8.06722910e-04]]\n",
      "analytic grad is \n",
      " [[ 2.10787160e-05  0.00000000e+00 -4.47056165e-05]\n",
      " [ 2.51157965e-05  0.00000000e+00 -9.99876323e-06]\n",
      " [ 7.14281875e-05  0.00000000e+00  8.78028877e-05]\n",
      " ...\n",
      " [-1.96137432e-04  0.00000000e+00 -1.67966637e-04]\n",
      " [-1.75261159e-04  0.00000000e+00 -1.05706581e-04]\n",
      " [-1.39601392e-04  0.00000000e+00 -5.89752946e-06]]\n",
      "numeric grad array is \n",
      " [[ 2.10787388e-05  0.00000000e+00 -4.47056170e-05]\n",
      " [ 2.51157761e-05  0.00000000e+00 -9.99875738e-06]\n",
      " [ 7.14281967e-05  0.00000000e+00  8.78028317e-05]\n",
      " ...\n",
      " [-1.96137417e-04  0.00000000e+00 -1.67966618e-04]\n",
      " [-1.75261183e-04  0.00000000e+00 -1.05706555e-04]\n",
      " [-1.39601397e-04  0.00000000e+00 -5.89750471e-06]]\n",
      "==========================================\n",
      "Gradient check passed!\n",
      "Checking gradient for B1\n",
      "CHECK GRADIENT\n",
      "x is \n",
      " [[0.00030877 0.00020965 0.00059489]]\n",
      "analytic grad is \n",
      " [[0.00130691 0.         0.0012144 ]]\n",
      "numeric grad array is \n",
      " [[0.00130691 0.         0.0012144 ]]\n",
      "==========================================\n",
      "Gradient check passed!\n",
      "Checking gradient for W2\n",
      "CHECK GRADIENT\n",
      "x is \n",
      " [[ 4.50579966e-04 -1.13369895e-04 -1.00169490e-03  5.72206238e-07\n",
      "  -4.42453306e-05  1.37182170e-03  1.32818671e-03 -4.78779360e-04\n",
      "  -6.21921862e-04 -1.35368424e-03]\n",
      " [-1.64887936e-04 -4.74207191e-04  2.60732660e-03 -1.11537936e-03\n",
      "   5.85809885e-05 -6.42860709e-04  2.46170563e-05 -3.33396175e-04\n",
      "   8.11497021e-04  4.40318121e-04]\n",
      " [ 7.78065094e-04 -7.52003507e-04  1.07930320e-03 -4.81700301e-04\n",
      "  -1.40624710e-03 -1.81890390e-04  1.13365528e-04 -1.24974132e-03\n",
      "   8.73595653e-04 -8.11160120e-04]]\n",
      "analytic grad is \n",
      " [[ 0.00075007  0.0007507   0.00075134  0.00074979  0.00075141  0.00074909\n",
      "   0.00075096  0.00074985  0.0007501  -0.00675332]\n",
      " [ 0.          0.          0.          0.          0.          0.\n",
      "   0.          0.          0.          0.        ]\n",
      " [ 0.00100245  0.0010033   0.00100417  0.00100208  0.00100423  0.00100114\n",
      "   0.00100364  0.00100216  0.00100251 -0.00902569]]\n",
      "numeric grad array is \n",
      " [[ 0.00075007  0.0007507   0.00075134  0.00074979  0.00075141  0.00074909\n",
      "   0.00075096  0.00074985  0.0007501  -0.00675332]\n",
      " [ 0.          0.          0.          0.          0.          0.\n",
      "   0.          0.          0.          0.        ]\n",
      " [ 0.00100245  0.0010033   0.00100417  0.00100208  0.00100423  0.00100114\n",
      "   0.00100364  0.00100216  0.00100251 -0.00902569]]\n",
      "==========================================\n",
      "Gradient check passed!\n",
      "Checking gradient for B2\n",
      "CHECK GRADIENT\n",
      "x is \n",
      " [[-8.53957830e-04 -4.08463070e-08  8.57303791e-04 -1.21582330e-03\n",
      "   9.40628271e-04 -2.15936653e-03  3.30667965e-04 -1.12969417e-03\n",
      "  -7.98550619e-04  1.73788752e-03]]\n",
      "analytic grad is \n",
      " [[ 0.19987629  0.20004509  0.20021784  0.19980238  0.20023275  0.19961527\n",
      "   0.20011321  0.19981846  0.19988666 -1.79960795]]\n",
      "numeric grad array is \n",
      " [[ 0.19987629  0.20004509  0.20021784  0.19980238  0.20023275  0.19961527\n",
      "   0.20011321  0.19981846  0.19988666 -1.79960795]]\n",
      "==========================================\n",
      "Gradient check passed!\n"
     ]
    },
    {
     "data": {
      "text/plain": [
       "True"
      ]
     },
     "execution_count": 20,
     "metadata": {},
     "output_type": "execute_result"
    }
   ],
   "source": [
    "# TODO: In model.py, implement compute_loss_and_gradients function\n",
    "batch_size = 2\n",
    "model = TwoLayerNet(n_input = train_X.shape[1], n_output = 10, hidden_layer_size = 3, reg = 0)\n",
    "loss = model.compute_loss_and_gradients(train_X[:batch_size], train_y[:batch_size])\n",
    "\n",
    "# TODO Now implement backward pass and aggregate all of the params\n",
    "check_model_gradient(model, train_X[:batch_size], train_y[:batch_size])"
   ]
  },
  {
   "cell_type": "code",
   "execution_count": 21,
   "metadata": {},
   "outputs": [
    {
     "name": "stdout",
     "output_type": "stream",
     "text": [
      "Checking gradient for W1\n",
      "CHECK GRADIENT\n",
      "x is \n",
      " [[-9.88162631e-04 -5.62436018e-05 -1.06671111e-03]\n",
      " [ 7.69188816e-04  4.08942767e-04  5.49801863e-04]\n",
      " [ 1.13086936e-03 -3.37809772e-04  1.07450757e-03]\n",
      " ...\n",
      " [-4.79073444e-04  3.42822914e-04 -1.04962798e-04]\n",
      " [ 1.54995685e-03 -3.56086006e-04  4.46385075e-04]\n",
      " [ 1.08696651e-03  6.55927424e-04  5.42182697e-04]]\n",
      "analytic grad is \n",
      " [[-0.01976325 -0.00123181 -0.02137282]\n",
      " [ 0.01538378  0.00813634  0.01095005]\n",
      " [ 0.02261739 -0.00664902  0.02135936]\n",
      " ...\n",
      " [-0.00958147  0.00670568 -0.00174011]\n",
      " [ 0.03099914 -0.00716936  0.00924862]\n",
      " [ 0.02173933  0.01323425  0.01109928]]\n",
      "numeric grad array is \n",
      " [[-0.01976325 -0.00123181 -0.02137282]\n",
      " [ 0.01538378  0.00813634  0.01095005]\n",
      " [ 0.02261739 -0.00664902  0.02135936]\n",
      " ...\n",
      " [-0.00958147  0.00670568 -0.00174011]\n",
      " [ 0.03099914 -0.00716936  0.00924862]\n",
      " [ 0.02173933  0.01323425  0.01109928]]\n",
      "==========================================\n",
      "Gradient check passed!\n",
      "Checking gradient for B1\n",
      "CHECK GRADIENT\n",
      "x is \n",
      " [[-0.00050679  0.00011694  0.0004614 ]]\n",
      "analytic grad is \n",
      " [[-0.01013572  0.00353034  0.00683482]]\n",
      "numeric grad array is \n",
      " [[-0.01013572  0.00353034  0.00683482]]\n",
      "==========================================\n",
      "Gradient check passed!\n",
      "Checking gradient for W2\n",
      "CHECK GRADIENT\n",
      "x is \n",
      " [[ 1.69506483e-04  1.48183773e-03 -1.65787816e-04  3.34211924e-05\n",
      "   2.58313312e-03  8.30255822e-04 -9.68135474e-04  4.97956397e-04\n",
      "   7.93074372e-04 -8.01194272e-04]\n",
      " [-3.00991062e-04 -1.19129529e-03  2.93662461e-04 -1.62162465e-03\n",
      "  -7.88300735e-04 -1.38310413e-03  3.28534864e-04 -3.38712884e-04\n",
      "   3.97206082e-04 -1.83528705e-03]\n",
      " [-7.81282217e-04  7.89841815e-04 -1.15001560e-03  1.02261502e-03\n",
      "  -1.52234565e-04 -8.36778406e-04 -7.73067063e-04  2.14303940e-04\n",
      "   2.19478786e-03  2.71779392e-03]]\n",
      "analytic grad is \n",
      " [[ 0.00339013  0.02963675 -0.00331576  0.00066842  0.05166266  0.01660512\n",
      "  -0.01936271  0.00995913  0.01586149 -0.01602389]\n",
      " [-0.00432716 -0.02212987  0.00757102 -0.03073972 -0.01407216 -0.0259667\n",
      "   0.00826571 -0.00508168  0.00964033 -0.05195801]\n",
      " [-0.01523567  0.0161876  -0.02260916  0.02084232 -0.00265443 -0.01634495\n",
      "  -0.01507083  0.00467604  0.04428655  0.05084182]]\n",
      "numeric grad array is \n",
      " [[ 0.00339013  0.02963675 -0.00331576  0.00066842  0.05166266  0.01660512\n",
      "  -0.01936271  0.00995913  0.01586149 -0.01602389]\n",
      " [-0.00432716 -0.02212987  0.00757102 -0.03073972 -0.01407216 -0.0259667\n",
      "   0.00826571 -0.00508168  0.00964033 -0.05195801]\n",
      " [-0.01523567  0.0161876  -0.02260916  0.02084232 -0.00265443 -0.01634495\n",
      "  -0.01507083  0.00467604  0.04428655  0.05084182]]\n",
      "==========================================\n",
      "Gradient check passed!\n",
      "Checking gradient for B2\n",
      "CHECK GRADIENT\n",
      "x is \n",
      " [[-1.33526690e-03  6.72695507e-04  1.66664955e-03 -1.24523572e-03\n",
      "  -6.24663133e-04  2.90662384e-04  4.08770415e-05 -1.38447111e-03\n",
      "   7.47779479e-04  4.34562607e-04]]\n",
      "analytic grad is \n",
      " [[ 0.17304255  0.21360239  0.23368227  0.17485962  0.18739604  0.20588432\n",
      "   0.20084157  0.17204896  0.21512234 -1.79120827]]\n",
      "numeric grad array is \n",
      " [[ 0.17304255  0.21360239  0.23368227  0.17485962  0.18739604  0.20588432\n",
      "   0.20084157  0.17204896  0.21512234 -1.79120827]]\n",
      "==========================================\n",
      "Gradient check passed!\n"
     ]
    },
    {
     "data": {
      "text/plain": [
       "True"
      ]
     },
     "execution_count": 21,
     "metadata": {},
     "output_type": "execute_result"
    }
   ],
   "source": [
    "# TODO Now implement l2 regularization in the forward and backward pass\n",
    "model_with_reg = TwoLayerNet(n_input = train_X.shape[1], n_output = 10, hidden_layer_size = 3, reg = 1e1)\n",
    "loss_with_reg = model_with_reg.compute_loss_and_gradients(train_X[:2], train_y[:2])\n",
    "assert loss_with_reg > loss and not np.isclose(loss_with_reg, loss), \\\n",
    "    \"Loss with regularization (%2.4f) should be higher than without it (%2.4f)!\" % (loss, loss_with_reg)\n",
    "\n",
    "check_model_gradient(model_with_reg, train_X[:2], train_y[:2])"
   ]
  },
  {
   "cell_type": "code",
   "execution_count": 22,
   "metadata": {},
   "outputs": [
    {
     "data": {
      "text/plain": [
       "0.1"
      ]
     },
     "execution_count": 22,
     "metadata": {},
     "output_type": "execute_result"
    }
   ],
   "source": [
    "# Finally, implement predict function!\n",
    "\n",
    "# TODO: Implement predict function\n",
    "# What would be the value we expect?\n",
    "multiclass_accuracy(model_with_reg.predict(train_X[:30]), train_y[:30]) "
   ]
  },
  {
   "cell_type": "markdown",
   "metadata": {},
   "source": [
    "**Допишем код для процесса тренировки**\n",
    "\n",
    "\n",
    "Если все реализовано корректно, значение функции ошибки должно уменьшаться с каждой эпохой, пусть и медленно. Не беспокойтесь пока про validation accuracy."
   ]
  },
  {
   "cell_type": "code",
   "execution_count": 23,
   "metadata": {},
   "outputs": [
    {
     "name": "stdout",
     "output_type": "stream",
     "text": [
      "X shape is\n",
      " (9000, 3072)\n",
      "y shape is\n",
      " (9000,)\n",
      "Epoch: 1, Loss: 35.675394, Train accuracy: 0.367111, val accuracy: 0.366000\n",
      "Epoch: 2, Loss: 30.349073, Train accuracy: 0.561444, val accuracy: 0.552000\n",
      "Epoch: 3, Loss: 23.660485, Train accuracy: 0.568778, val accuracy: 0.564000\n",
      "Epoch: 4, Loss: 31.522042, Train accuracy: 0.616444, val accuracy: 0.597000\n",
      "Epoch: 5, Loss: 19.279987, Train accuracy: 0.694222, val accuracy: 0.661000\n",
      "Epoch: 6, Loss: 12.845285, Train accuracy: 0.704333, val accuracy: 0.670000\n",
      "Epoch: 7, Loss: 14.159372, Train accuracy: 0.719222, val accuracy: 0.673000\n",
      "Epoch: 8, Loss: 9.413003, Train accuracy: 0.751222, val accuracy: 0.681000\n",
      "Epoch: 9, Loss: 17.753308, Train accuracy: 0.746667, val accuracy: 0.678000\n",
      "Epoch: 10, Loss: 8.764459, Train accuracy: 0.779222, val accuracy: 0.693000\n",
      "Epoch: 11, Loss: 26.346833, Train accuracy: 0.760889, val accuracy: 0.693000\n",
      "Epoch: 12, Loss: 24.211047, Train accuracy: 0.748444, val accuracy: 0.660000\n",
      "Epoch: 13, Loss: 15.083035, Train accuracy: 0.792556, val accuracy: 0.696000\n",
      "Epoch: 14, Loss: 15.680527, Train accuracy: 0.798444, val accuracy: 0.711000\n",
      "Epoch: 15, Loss: 26.056770, Train accuracy: 0.790222, val accuracy: 0.706000\n",
      "Epoch: 16, Loss: 9.868099, Train accuracy: 0.772556, val accuracy: 0.684000\n",
      "Epoch: 17, Loss: 20.384202, Train accuracy: 0.764889, val accuracy: 0.676000\n",
      "Epoch: 18, Loss: 22.807755, Train accuracy: 0.821111, val accuracy: 0.725000\n",
      "Epoch: 19, Loss: 17.412018, Train accuracy: 0.836000, val accuracy: 0.719000\n",
      "Epoch: 20, Loss: 26.391243, Train accuracy: 0.839444, val accuracy: 0.704000\n"
     ]
    }
   ],
   "source": [
    "model = TwoLayerNet(n_input = train_X.shape[1], n_output = 10, hidden_layer_size = 100, reg = 1e-3)\n",
    "dataset = Dataset(train_X, train_y, val_X, val_y)\n",
    "trainer = Trainer(model, dataset, SGD(), num_epochs =20, batch_size=20, learning_rate = 1e-2)\n",
    "\n",
    "# TODO Implement missing pieces in Trainer.fit function\n",
    "# You should expect loss to go down every epoch, even if it's slow\n",
    "loss_history, train_history, val_history = trainer.fit()"
   ]
  },
  {
   "cell_type": "code",
   "execution_count": 24,
   "metadata": {},
   "outputs": [
    {
     "data": {
      "text/plain": [
       "[<matplotlib.lines.Line2D at 0x7f8556d43a60>]"
      ]
     },
     "execution_count": 24,
     "metadata": {},
     "output_type": "execute_result"
    },
    {
     "data": {
      "image/png": "[encoded data removed]",
      "text/plain": [
       "<Figure size 432x288 with 1 Axes>"
      ]
     },
     "metadata": {
      "needs_background": "light"
     },
     "output_type": "display_data"
    }
   ],
   "source": [
    "plt.plot(loss_history)\n",
    "# plt.plot(train_history)\n",
    "# plt.plot(val_history)"
   ]
  },
  {
   "cell_type": "code",
   "execution_count": 25,
   "metadata": {},
   "outputs": [
    {
     "name": "stdout",
     "output_type": "stream",
     "text": [
      "test x is  (1000, 3072)\n",
      "test pred is \n",
      " [2 1 3 9 2 5 0 1 7 2]\n",
      "test_y  is \n",
      " [2 1 3 0 2 5 0 1 7 1]\n"
     ]
    },
    {
     "data": {
      "image/png": "[encoded data removed]",
      "text/plain": [
       "<Figure size 432x288 with 10 Axes>"
      ]
     },
     "metadata": {
      "needs_background": "light"
     },
     "output_type": "display_data"
    },
    {
     "name": "stdout",
     "output_type": "stream",
     "text": [
      "Neural network classifier test set accuracy: 67.600000\n"
     ]
    }
   ],
   "source": [
    "# model = TwoLayerNet(n_input = train_X.shape[1], n_output = 10, hidden_layer_size = 100, reg = 1e1)\n",
    "\n",
    "\n",
    "number = 10\n",
    "print(\"test x is \", test_X.shape)\n",
    "test_pred = model.predict(test_X[:number])\n",
    "print(\"test pred is \\n\", test_pred)\n",
    "print(\"test_y  is \\n\", test_y[:number])\n",
    "plot_index = 1\n",
    "for class_index in range(number):\n",
    "        plt.subplot(1, number, plot_index)\n",
    "        \n",
    "        image = old_test_X[class_index]\n",
    "        plt.imshow(image.astype(np.uint8))\n",
    "        plt.axis('off')\n",
    "        plot_index += 1\n",
    "\n",
    "plt.show()\n",
    "# print(\"test pred is \\n\", test_pred[:number])\n",
    "\n",
    "test_pred = model.predict(test_X)\n",
    "test_accuracy = multiclass_accuracy(test_pred, test_y)*100\n",
    "print('Neural network classifier test set accuracy: %f' % (test_accuracy, ))"
   ]
  },
  {
   "cell_type": "markdown",
   "metadata": {},
   "source": [
    "# Улучшаем процесс тренировки\n",
    "Мы реализуем несколько ключевых оптимизаций, необходимых для тренировки современных нейросетей.\n",
    "\n",
    "**Уменьшение скорости обучения (learning rate decay)**\n",
    "Одна из необходимых оптимизаций во время тренировки нейронных сетей - постепенное уменьшение скорости обучения по мере тренировки.\n",
    "\n",
    "Один из стандартных методов - уменьшение скорости обучения (learning rate) каждые N эпох на коэффициент d (часто называемый decay). Значения N и d, как всегда, являются гиперпараметрами и должны подбираться на основе эффективности на проверочных данных (validation data).\n",
    "\n",
    "В нашем случае N будет равным 1."
   ]
  },
  {
   "cell_type": "code",
   "execution_count": 12,
   "metadata": {},
   "outputs": [],
   "source": [
    "# # TODO Implement learning rate decay inside Trainer.fit method\n",
    "# # Decay should happen once per epoch\n",
    "\n",
    "# model = TwoLayerNet(n_input = train_X.shape[1], n_output = 10, hidden_layer_size = 100, reg = 1e-3)\n",
    "# dataset = Dataset(train_X, train_y, val_X, val_y)\n",
    "# trainer = Trainer(model, dataset, SGD(),learning_rate = 1e-2, learning_rate_decay=0.99)\n",
    "\n",
    "# initial_learning_rate = trainer.learning_rate\n",
    "# loss_history, train_history, val_history = trainer.fit()\n",
    "\n",
    "# assert trainer.learning_rate < initial_learning_rate, \"Learning rate should've been reduced\"\n",
    "# assert trainer.learning_rate > 0.5*initial_learning_rate, \"Learning rate shouldn'tve been reduced that much!\""
   ]
  },
  {
   "cell_type": "markdown",
   "metadata": {},
   "source": [
    "# Накопление импульса (Momentum SGD)\n",
    "\n",
    "Другой большой класс оптимизаций - использование более эффективных методов градиентного спуска. Мы реализуем один из них - накопление импульса (Momentum SGD).\n",
    "\n",
    "Этот метод хранит скорость движения, использует градиент для ее изменения на каждом шаге, и изменяет веса пропорционально значению скорости. (Физическая аналогия: Вместо скорости градиенты теперь будут задавать ускорение, но будет присутствовать сила трения.)\n",
    "\n",
    "velocity = momentum * velocity - learning_rate * gradient \n",
    "\n",
    "w = w + velocity\n",
    "\n",
    "momentum здесь коэффициент затухания, который тоже является гиперпараметром (к счастью, для него часто есть хорошее значение по умолчанию, типичный диапазон -- 0.8-0.99).\n",
    "\n",
    "Несколько полезных ссылок, где метод разбирается более подробно:\n",
    "\n",
    "http://cs231n.github.io/neural-networks-3/#sgd\n",
    "\n",
    "https://distill.pub/2017/momentum/"
   ]
  },
  {
   "cell_type": "code",
   "execution_count": 5,
   "metadata": {},
   "outputs": [
    {
     "name": "stdout",
     "output_type": "stream",
     "text": [
      "X shape is\n",
      " (9000, 3072)\n",
      "y shape is\n",
      " (9000,)\n",
      "Epoch: 1, Loss: 29.508575, Train accuracy: 0.362889, val accuracy: 0.357000\n",
      "Epoch: 2, Loss: 24.935992, Train accuracy: 0.575000, val accuracy: 0.582000\n",
      "Epoch: 3, Loss: 33.527397, Train accuracy: 0.592667, val accuracy: 0.563000\n",
      "Epoch: 4, Loss: 29.925105, Train accuracy: 0.647333, val accuracy: 0.627000\n"
     ]
    }
   ],
   "source": [
    "# TODO: Implement MomentumSGD.update function in optim.py\n",
    "\n",
    "model = TwoLayerNet(n_input = train_X.shape[1], n_output = 10, hidden_layer_size = 100, reg = 1e-3)\n",
    "dataset = Dataset(train_X, train_y, val_X, val_y)\n",
    "trainer = Trainer(model, dataset, MomentumSGD(), learning_rate=1e-2, learning_rate_decay=0.99)\n",
    "\n",
    "# You should see even better results than before!\n",
    "loss_history, train_history, val_history = trainer.fit()"
   ]
  },
  {
   "cell_type": "code",
   "execution_count": 6,
   "metadata": {},
   "outputs": [
    {
     "name": "stdout",
     "output_type": "stream",
     "text": [
      "learning rate is  0.008179069375972308\n"
     ]
    },
    {
     "data": {
      "image/png": "[encoded data removed]",
      "text/plain": [
       "<Figure size 432x288 with 1 Axes>"
      ]
     },
     "metadata": {
      "needs_background": "light"
     },
     "output_type": "display_data"
    },
    {
     "name": "stdout",
     "output_type": "stream",
     "text": [
      "test x shape is  (1000, 3072)\n",
      "test pred is \n",
      " [2 1 3 3 2 5 9 1 7 1]\n",
      "test_y  is \n",
      " [2 1 3 0 2 5 0 1 7 1]\n"
     ]
    },
    {
     "data": {
      "image/png": "[encoded data removed]",
      "text/plain": [
       "<Figure size 432x288 with 10 Axes>"
      ]
     },
     "metadata": {
      "needs_background": "light"
     },
     "output_type": "display_data"
    },
    {
     "name": "stdout",
     "output_type": "stream",
     "text": [
      "Neural network classifier test set accuracy: 70.600000\n"
     ]
    }
   ],
   "source": [
    "print(\"learning rate is \", trainer.learning_rate)\n",
    "# print(\"initial learning rate is \", initial_learning_rate)\n",
    "plt.plot(loss_history)\n",
    "plt.show()\n",
    "\n",
    "number = 10\n",
    "print(\"test x shape is \", test_X.shape)\n",
    "test_pred = model.predict(test_X[:number])\n",
    "print(\"test pred is \\n\", test_pred)\n",
    "print(\"test_y  is \\n\", test_y[:number])\n",
    "\n",
    "for i in range(number):\n",
    "        plt.subplot(1, number, i+1)        \n",
    "        image = old_test_X[i].astype(np.uint8)\n",
    "        plt.imshow(image)\n",
    "        plt.axis('off')\n",
    "\n",
    "plt.show()\n",
    "# print(\"test pred is \\n\", test_pred[:number])\n",
    "\n",
    "test_pred = model.predict(test_X)\n",
    "test_accuracy = multiclass_accuracy(test_pred, test_y)*100\n",
    "print('Neural network classifier test set accuracy: %f' % (test_accuracy, ))"
   ]
  },
  {
   "cell_type": "markdown",
   "metadata": {},
   "source": [
    "# Ну что, давайте уже тренировать сеть!\n",
    "Последний тест - переобучимся (overfit) на маленьком наборе данных\n",
    "Хороший способ проверить, все ли реализовано корректно - переобучить сеть на маленьком наборе данных.\n",
    "Наша модель обладает достаточной мощностью, чтобы приблизить маленький набор данных идеально, поэтому мы ожидаем, что на нем мы быстро дойдем до 100% точности на тренировочном наборе.\n",
    "\n",
    "Если этого не происходит, то где-то была допущена ошибка!"
   ]
  },
  {
   "cell_type": "code",
   "execution_count": 15,
   "metadata": {},
   "outputs": [],
   "source": [
    "# data_size = 15\n",
    "# model = TwoLayerNet(n_input = train_X.shape[1], n_output = 10, hidden_layer_size = 100, reg = 1e-3)\n",
    "# dataset = Dataset(train_X[:data_size], train_y[:data_size], val_X[:data_size], val_y[:data_size])\n",
    "# trainer = Trainer(model, dataset, SGD(), learning_rate=1e-2, num_epochs=150, batch_size=5)\n",
    "\n",
    "# # You should expect this to reach 1.0 training accuracy \n",
    "# loss_history, train_history, val_history = trainer.fit()\n",
    "# #############################################################################\n",
    "\n",
    "# print(\"learning rate is \", trainer.learning_rate)\n",
    "# # print(\"initial learning rate is \", initial_learning_rate)\n",
    "# plt.plot(loss_history)\n",
    "# plt.show()\n",
    "\n",
    "# number = 10\n",
    "# print(\"test x shape is \", test_X.shape)\n",
    "# test_pred = model.predict(test_X[:number])\n",
    "# print(\"test pred is \\n\", test_pred)\n",
    "# print(\"test_y  is \\n\", test_y[:number])\n",
    "\n",
    "# for i in range(number):\n",
    "#         plt.subplot(1, number, i+1)        \n",
    "#         image = old_test_X[i].astype(np.uint8)\n",
    "#         plt.imshow(image)\n",
    "#         plt.axis('off')\n",
    "\n",
    "# plt.show()\n",
    "# # print(\"test pred is \\n\", test_pred[:number])\n",
    "\n",
    "# test_pred = model.predict(test_X)\n",
    "# test_accuracy = multiclass_accuracy(test_pred, test_y)*100\n",
    "# print('Neural network classifier test set accuracy: %f' % (test_accuracy, ))"
   ]
  },
  {
   "cell_type": "markdown",
   "metadata": {},
   "source": [
    "# Итак, основное мероприятие!\n",
    "\n",
    "Натренируйте лучшую нейросеть! Можно добавлять и изменять параметры, менять количество нейронов в слоях сети и как угодно экспериментировать.\n",
    "\n",
    "Добейтесь точности лучше 60% на validation set."
   ]
  },
  {
   "cell_type": "code",
   "execution_count": 19,
   "metadata": {},
   "outputs": [
    {
     "name": "stdout",
     "output_type": "stream",
     "text": [
      "old  shape  (10000, 32, 32, 3)\n",
      "val shape  (1000, 32, 32, 3)\n"
     ]
    }
   ],
   "source": [
    "print(\"old  shape \", old_shape)\n",
    "reshaped_val_X = val_X.reshape (val_X.shape[0], 32, 32, 3)\n",
    "print(\"val shape \", reshaped_val_X.shape)"
   ]
  },
  {
   "cell_type": "code",
   "execution_count": 100,
   "metadata": {},
   "outputs": [
    {
     "name": "stdout",
     "output_type": "stream",
     "text": [
      "resh val x shape is  (1000, 32, 32, 3)\n",
      "X shape is\n",
      " (9000, 3072)\n",
      "y shape is\n",
      " (9000,)\n",
      "Epoch: 1, Loss: 2.153674, Train accuracy: 0.196667, val accuracy: 0.206000\n",
      "Epoch: 2, Loss: 2.093042, Train accuracy: 0.196667, val accuracy: 0.206000\n",
      "Epoch: 3, Loss: 2.308981, Train accuracy: 0.150333, val accuracy: 0.143000\n",
      "Epoch: 4, Loss: 2.081398, Train accuracy: 0.196667, val accuracy: 0.206000\n",
      "Epoch: 5, Loss: 2.201894, Train accuracy: 0.307667, val accuracy: 0.324000\n",
      "Epoch: 6, Loss: 1.886856, Train accuracy: 0.391778, val accuracy: 0.398000\n"
     ]
    },
    {
     "ename": "KeyboardInterrupt",
     "evalue": "",
     "output_type": "error",
     "traceback": [
      "\u001b[0;31m---------------------------------------------------------------------------\u001b[0m",
      "\u001b[0;31mKeyboardInterrupt\u001b[0m                         Traceback (most recent call last)",
      "\u001b[0;32m/tmp/ipykernel_25336/1661386738.py\u001b[0m in \u001b[0;36m<module>\u001b[0;34m\u001b[0m\n\u001b[1;32m     15\u001b[0m \u001b[0mtrainer\u001b[0m \u001b[0;34m=\u001b[0m \u001b[0mTrainer\u001b[0m\u001b[0;34m(\u001b[0m\u001b[0mmodel\u001b[0m\u001b[0;34m,\u001b[0m \u001b[0mdataset\u001b[0m\u001b[0;34m,\u001b[0m \u001b[0mMomentumSGD\u001b[0m\u001b[0;34m(\u001b[0m\u001b[0;34m)\u001b[0m\u001b[0;34m,\u001b[0m\u001b[0mbatch_size\u001b[0m \u001b[0;34m=\u001b[0m\u001b[0mbatch_size\u001b[0m\u001b[0;34m,\u001b[0m \u001b[0mnum_epochs\u001b[0m\u001b[0;34m=\u001b[0m\u001b[0mnum_epochs\u001b[0m\u001b[0;34m,\u001b[0m  \u001b[0mlearning_rate\u001b[0m\u001b[0;34m=\u001b[0m\u001b[0mlearning_rates\u001b[0m\u001b[0;34m,\u001b[0m \u001b[0mlearning_rate_decay\u001b[0m\u001b[0;34m=\u001b[0m\u001b[0mlearning_rate_decay\u001b[0m\u001b[0;34m)\u001b[0m\u001b[0;34m\u001b[0m\u001b[0;34m\u001b[0m\u001b[0m\n\u001b[1;32m     16\u001b[0m \u001b[0;31m# # You should see even better results than before!\u001b[0m\u001b[0;34m\u001b[0m\u001b[0;34m\u001b[0m\u001b[0;34m\u001b[0m\u001b[0m\n\u001b[0;32m---> 17\u001b[0;31m \u001b[0mloss_history\u001b[0m\u001b[0;34m,\u001b[0m \u001b[0mtrain_history\u001b[0m\u001b[0;34m,\u001b[0m \u001b[0mval_history\u001b[0m \u001b[0;34m=\u001b[0m \u001b[0mtrainer\u001b[0m\u001b[0;34m.\u001b[0m\u001b[0mfit\u001b[0m\u001b[0;34m(\u001b[0m\u001b[0;34m)\u001b[0m\u001b[0;34m\u001b[0m\u001b[0;34m\u001b[0m\u001b[0m\n\u001b[0m\u001b[1;32m     18\u001b[0m \u001b[0;34m\u001b[0m\u001b[0m\n\u001b[1;32m     19\u001b[0m \u001b[0mprint\u001b[0m\u001b[0;34m(\u001b[0m\u001b[0;34m\"learning rate is \"\u001b[0m\u001b[0;34m,\u001b[0m \u001b[0mtrainer\u001b[0m\u001b[0;34m.\u001b[0m\u001b[0mlearning_rate\u001b[0m\u001b[0;34m)\u001b[0m\u001b[0;34m\u001b[0m\u001b[0;34m\u001b[0m\u001b[0m\n",
      "\u001b[0;32m~/Desktop/SimonSays/Mashine-Learning-Examples/trainer.py\u001b[0m in \u001b[0;36mfit\u001b[0;34m(self)\u001b[0m\n\u001b[1;32m    113\u001b[0m                 \u001b[0mbatch_X\u001b[0m \u001b[0;34m=\u001b[0m \u001b[0mX\u001b[0m\u001b[0;34m[\u001b[0m\u001b[0mbatch_indices\u001b[0m\u001b[0;34m]\u001b[0m\u001b[0;34m\u001b[0m\u001b[0;34m\u001b[0m\u001b[0m\n\u001b[1;32m    114\u001b[0m                 \u001b[0mbatch_y\u001b[0m \u001b[0;34m=\u001b[0m \u001b[0my\u001b[0m\u001b[0;34m[\u001b[0m\u001b[0mbatch_indices\u001b[0m\u001b[0;34m]\u001b[0m\u001b[0;34m\u001b[0m\u001b[0;34m\u001b[0m\u001b[0m\n\u001b[0;32m--> 115\u001b[0;31m                 loss = self.model.compute_loss_and_gradients(\n\u001b[0m\u001b[1;32m    116\u001b[0m                     batch_X, batch_y)\n\u001b[1;32m    117\u001b[0m \u001b[0;34m\u001b[0m\u001b[0m\n",
      "\u001b[0;32m~/Desktop/SimonSays/Mashine-Learning-Examples/model.py\u001b[0m in \u001b[0;36mcompute_loss_and_gradients\u001b[0;34m(self, X, y)\u001b[0m\n\u001b[1;32m     52\u001b[0m \u001b[0;34m\u001b[0m\u001b[0m\n\u001b[1;32m     53\u001b[0m         \u001b[0mreg_loss\u001b[0m\u001b[0;34m,\u001b[0m \u001b[0md_params\u001b[0m \u001b[0;34m=\u001b[0m \u001b[0ml2_regularization\u001b[0m\u001b[0;34m(\u001b[0m\u001b[0mparams\u001b[0m\u001b[0;34m,\u001b[0m \u001b[0mself\u001b[0m\u001b[0;34m.\u001b[0m\u001b[0mreg\u001b[0m\u001b[0;34m)\u001b[0m\u001b[0;34m\u001b[0m\u001b[0;34m\u001b[0m\u001b[0m\n\u001b[0;32m---> 54\u001b[0;31m         \u001b[0mparams\u001b[0m\u001b[0;34m[\u001b[0m\u001b[0;34m'W1'\u001b[0m\u001b[0;34m]\u001b[0m\u001b[0;34m.\u001b[0m\u001b[0mgrad\u001b[0m \u001b[0;34m+=\u001b[0m \u001b[0md_params\u001b[0m\u001b[0;34m[\u001b[0m\u001b[0;34m'W1'\u001b[0m\u001b[0;34m]\u001b[0m\u001b[0;34m\u001b[0m\u001b[0;34m\u001b[0m\u001b[0m\n\u001b[0m\u001b[1;32m     55\u001b[0m         \u001b[0mparams\u001b[0m\u001b[0;34m[\u001b[0m\u001b[0;34m'B1'\u001b[0m\u001b[0;34m]\u001b[0m\u001b[0;34m.\u001b[0m\u001b[0mgrad\u001b[0m \u001b[0;34m+=\u001b[0m \u001b[0md_params\u001b[0m\u001b[0;34m[\u001b[0m\u001b[0;34m'B1'\u001b[0m\u001b[0;34m]\u001b[0m\u001b[0;34m\u001b[0m\u001b[0;34m\u001b[0m\u001b[0m\n\u001b[1;32m     56\u001b[0m \u001b[0;34m\u001b[0m\u001b[0m\n",
      "\u001b[0;31mKeyboardInterrupt\u001b[0m: "
     ]
    }
   ],
   "source": [
    "# Let's train the best one-hidden-layer network we can\n",
    "\n",
    "learning_rates = 1e-3\n",
    "reg_strength = 1e-5\n",
    "learning_rate_decay = 0.98\n",
    "hidden_layer_size = 150\n",
    "num_epochs = 20\n",
    "batch_size = 64\n",
    "resh_val_X = val_X.reshape(val_X.shape[0], 32, 32, 3)\n",
    "np.random.seed(7777)\n",
    "print(\"resh val x shape is \", resh_val_X.shape)\n",
    "\n",
    "model = TwoLayerNet(n_input = train_X.shape[1], n_output = 10, hidden_layer_size = hidden_layer_size, reg = reg_strength)\n",
    "dataset = Dataset(train_X, train_y, val_X, val_y)\n",
    "trainer = Trainer(model, dataset, MomentumSGD(),batch_size =batch_size, num_epochs=num_epochs,  learning_rate=learning_rates, learning_rate_decay=learning_rate_decay)\n",
    "# # You should see even better results than before!\n",
    "loss_history, train_history, val_history = trainer.fit()\n",
    "\n",
    "print(\"learning rate is \", trainer.learning_rate)\n",
    "\n",
    "plt.title(\"loss history\")\n",
    "plt.plot(loss_history)\n",
    "plt.show()\n",
    "\n",
    "number = 10\n",
    "print(\"validation x shape is \", val_X.shape)\n",
    "validation_pred = model.predict(val_X[:number])\n",
    "print(\"val pred is \\n\", validation_pred)\n",
    "print(\"val_y  is \\n\", val_y[:number])\n",
    "\n",
    "for i in range(number):\n",
    "        plt.subplot(1, number, i+1)        \n",
    "        image = (resh_val_X[i])\n",
    "        image = image/np.amax(image) # if float\n",
    "        plt.imshow(image)\n",
    "        plt.axis('off')\n",
    "\n",
    "plt.show()\n",
    "\n",
    "val_pred = model.predict(val_X)\n",
    "validation_accuracy = multiclass_accuracy(val_pred, val_y)*100\n",
    "print('Neural network classifier validation set accuracy: %f' % (validation_accuracy, ))\n",
    "\n",
    "best_val_accuracy = validation_accuracy\n",
    "# TODO find the best hyperparameters to train the network\n",
    "# Don't hesitate to add new values to the arrays above, perform experiments, use any tricks you want\n",
    "# You should expect to get to at least 40% of valudation accuracy\n",
    "# Save loss/train/history of the best classifier to the variables above\n",
    "\n",
    "\n",
    "print('best validation accuracy achieved: %f' % best_val_accuracy)"
   ]
  },
  {
   "cell_type": "markdown",
   "metadata": {},
   "source": [
    "# Как обычно, посмотрим, как наша лучшая модель работает на тестовых данных"
   ]
  },
  {
   "cell_type": "code",
   "execution_count": 77,
   "metadata": {},
   "outputs": [
    {
     "name": "stdout",
     "output_type": "stream",
     "text": [
      "Neural net test set accuracy: 0.668000\n"
     ]
    },
    {
     "data": {
      "image/png": "[encoded data removed]",
      "text/plain": [
       "<Figure size 432x288 with 1 Axes>"
      ]
     },
     "metadata": {
      "needs_background": "light"
     },
     "output_type": "display_data"
    },
    {
     "name": "stdout",
     "output_type": "stream",
     "text": [
      "test x shape is  (1000, 3072)\n",
      "test pred is \n",
      " [2 1 3 2 2 5 0 1 7 1]\n",
      "test_y  is \n",
      " [2 1 3 0 2 5 0 1 7 1]\n"
     ]
    },
    {
     "data": {
      "image/png": "[encoded data removed]",
      "text/plain": [
       "<Figure size 432x288 with 10 Axes>"
      ]
     },
     "metadata": {
      "needs_background": "light"
     },
     "output_type": "display_data"
    },
    {
     "name": "stdout",
     "output_type": "stream",
     "text": [
      "Neural network classifier test set accuracy: 66.800000\n"
     ]
    }
   ],
   "source": [
    "test_pred = model.predict(test_X)\n",
    "test_accuracy = multiclass_accuracy(test_pred, test_y)\n",
    "print('Neural net test set accuracy: %f' % (test_accuracy, ))\n",
    "\n",
    "plt.plot(loss_history)\n",
    "plt.show()\n",
    "\n",
    "number = 10\n",
    "print(\"test x shape is \", test_X.shape)\n",
    "test_pred = model.predict(test_X[:number])\n",
    "print(\"test pred is \\n\", test_pred)\n",
    "print(\"test_y  is \\n\", test_y[:number])\n",
    "\n",
    "for i in range(number):\n",
    "        plt.subplot(1, number, i+1)        \n",
    "        image = old_test_X[i].astype(np.uint8)\n",
    "        plt.imshow(image)\n",
    "        plt.axis('off')\n",
    "\n",
    "plt.show()\n",
    "# print(\"test pred is \\n\", test_pred[:number])\n",
    "\n",
    "test_pred = model.predict(test_X)\n",
    "test_accuracy = multiclass_accuracy(test_pred, test_y)*100\n",
    "print('Neural network classifier test set accuracy: %f' % (test_accuracy, ))"
   ]
  },
  {
   "cell_type": "code",
   "execution_count": 14,
   "metadata": {},
   "outputs": [
    {
     "name": "stdout",
     "output_type": "stream",
     "text": [
      "X is \n",
      " [[0. 0. 0.]\n",
      " [0. 0. 0.]]\n"
     ]
    }
   ],
   "source": [
    "\n",
    "X = np.array([[1,-2,3],\n",
    "              [-1, 2, 0.1]])\n",
    "\n",
    "X.fill(0)\n",
    "if X is None:\n",
    "    print(\"X is none\")\n",
    "# X[1,2]= 1\n",
    "# all_zeros = not np.any(X)\n",
    "# Y = np.array([[1,3,3],\n",
    "#               [-1, 2, 0.1]])\n",
    "# # print(X*Y)\n",
    "\n",
    "# # lst = [a, 4,3]\n",
    "# mapa = {'X': X, 'Y': Y}\n",
    "# # print(\"loss is \", loss)\n",
    "\n",
    "# loss_lst = [np.sum(param**2) for param in mapa.values()]\n",
    "# loss =  sum(loss_lst)\n",
    "\n",
    "np.random.seed(0)\n",
    "a =np.random.rand(3,2)\n",
    "b = a\n",
    "# b[0] = 44\n",
    "# print (a)\n",
    "print(\"X is \\n\", X)\n",
    "# print(all_zeros)\n",
    "# print(\"mapa is \\n\", mapa)\n",
    "# # print(\"reg loss params is\\n\", reg_loss_params)\n",
    "# print(\"loss lst\\n\", loss_lst)\n",
    "# print(\"loss \", loss)"
   ]
  },
  {
   "cell_type": "code",
   "execution_count": 1,
   "metadata": {},
   "outputs": [
    {
     "name": "stdout",
     "output_type": "stream",
     "text": [
      "0.0\n",
      "0.5\n",
      "1.0\n",
      "1.5\n"
     ]
    }
   ],
   "source": [
    "class FRange:\n",
    "    def __init__(self, start=0.0, stop=0.0, step=1.0):\n",
    "        self.start = start\n",
    "        self.stop = stop\n",
    "        self.step = step\n",
    "        self.value = self.start - self.step\n",
    "\n",
    "\n",
    "    def __next__(self):\n",
    "        if self.value + self.step < self.stop:\n",
    "            self.value += self.step\n",
    "            return self.value\n",
    "        else:\n",
    "            raise StopIteration\n",
    "    def __iter__(self):\n",
    "        self.value = self.start - self.step\n",
    "        return self\n",
    "\n",
    "fr = FRange(0, 2, 0.5)\n",
    "\n",
    "# print(fr.__next__())\n",
    "# print(fr.__next__())\n",
    "# print(fr.__next__())\n",
    "# print(fr.__next__())\n",
    "# print(fr.__next__())\n",
    "\n",
    "for x in fr:\n",
    "    print(x)\n"
   ]
  }
 ],
 "metadata": {
  "kernelspec": {
   "display_name": "Python 3.8.10 64-bit",
   "language": "python",
   "name": "python3"
  },
  "language_info": {
   "codemirror_mode": {
    "name": "ipython",
    "version": 3
   },
   "file_extension": ".py",
   "mimetype": "text/x-python",
   "name": "python",
   "nbconvert_exporter": "python",
   "pygments_lexer": "ipython3",
   "version": "3.8.10"
  },
  "orig_nbformat": 4,
  "vscode": {
   "interpreter": {
    "hash": "916dbcbb3f70747c44a77c7bcd40155683ae19c65e1c03b4aa3499c5328201f1"
   }
  }
 },
 "nbformat": 4,
 "nbformat_minor": 2
}
